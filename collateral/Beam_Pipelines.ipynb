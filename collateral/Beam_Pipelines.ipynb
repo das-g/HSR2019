{
 "cells": [
  {
   "cell_type": "code",
   "execution_count": 15,
   "metadata": {},
   "outputs": [],
   "source": [
    "import tempfile\n",
    "import pandas as pd\n",
    "import tensorflow as tf\n",
    "import tensorflow_transform as tft\n",
    "from tensorflow_transform.tf_metadata import dataset_schema\n",
    "import apache_beam as beam\n",
    "from apache_beam.options.pipeline_options import PipelineOptions\n",
    "import tensorflow_transform.beam.impl as beam_impl\n",
    "\n",
    "from measurements import measure"
   ]
  },
  {
   "cell_type": "code",
   "execution_count": 16,
   "metadata": {},
   "outputs": [
    {
     "data": {
      "text/plain": [
       "'1.13.1'"
      ]
     },
     "execution_count": 16,
     "metadata": {},
     "output_type": "execute_result"
    }
   ],
   "source": [
    "tf.__version__"
   ]
  },
  {
   "cell_type": "code",
   "execution_count": 3,
   "metadata": {},
   "outputs": [],
   "source": [
    "filename = tempfile.mktemp()"
   ]
  },
  {
   "cell_type": "code",
   "execution_count": 4,
   "metadata": {},
   "outputs": [],
   "source": [
    "from measurements import measure"
   ]
  },
  {
   "cell_type": "code",
   "execution_count": 5,
   "metadata": {},
   "outputs": [
    {
     "data": {
      "text/html": [
       "<div>\n",
       "<style scoped>\n",
       "    .dataframe tbody tr th:only-of-type {\n",
       "        vertical-align: middle;\n",
       "    }\n",
       "\n",
       "    .dataframe tbody tr th {\n",
       "        vertical-align: top;\n",
       "    }\n",
       "\n",
       "    .dataframe thead th {\n",
       "        text-align: right;\n",
       "    }\n",
       "</style>\n",
       "<table border=\"1\" class=\"dataframe\">\n",
       "  <thead>\n",
       "    <tr style=\"text-align: right;\">\n",
       "      <th></th>\n",
       "      <th>beta1</th>\n",
       "      <th>beta2</th>\n",
       "      <th>weekday</th>\n",
       "      <th>hour</th>\n",
       "      <th>humidity</th>\n",
       "    </tr>\n",
       "  </thead>\n",
       "  <tbody>\n",
       "    <tr>\n",
       "      <th>0</th>\n",
       "      <td>2.228445</td>\n",
       "      <td>2.956259</td>\n",
       "      <td>5</td>\n",
       "      <td>23</td>\n",
       "      <td>20.439816</td>\n",
       "    </tr>\n",
       "    <tr>\n",
       "      <th>1</th>\n",
       "      <td>4.155775</td>\n",
       "      <td>0.999272</td>\n",
       "      <td>2</td>\n",
       "      <td>13</td>\n",
       "      <td>27.018319</td>\n",
       "    </tr>\n",
       "    <tr>\n",
       "      <th>2</th>\n",
       "      <td>-1.913392</td>\n",
       "      <td>1.461341</td>\n",
       "      <td>5</td>\n",
       "      <td>2</td>\n",
       "      <td>14.403221</td>\n",
       "    </tr>\n",
       "    <tr>\n",
       "      <th>3</th>\n",
       "      <td>-2.427776</td>\n",
       "      <td>-4.657069</td>\n",
       "      <td>4</td>\n",
       "      <td>9</td>\n",
       "      <td>14.525310</td>\n",
       "    </tr>\n",
       "    <tr>\n",
       "      <th>4</th>\n",
       "      <td>-2.474510</td>\n",
       "      <td>-4.080336</td>\n",
       "      <td>1</td>\n",
       "      <td>2</td>\n",
       "      <td>17.129479</td>\n",
       "    </tr>\n",
       "  </tbody>\n",
       "</table>\n",
       "</div>"
      ],
      "text/plain": [
       "      beta1     beta2  weekday  hour   humidity\n",
       "0  2.228445  2.956259        5    23  20.439816\n",
       "1  4.155775  0.999272        2    13  27.018319\n",
       "2 -1.913392  1.461341        5     2  14.403221\n",
       "3 -2.427776 -4.657069        4     9  14.525310\n",
       "4 -2.474510 -4.080336        1     2  17.129479"
      ]
     },
     "execution_count": 5,
     "metadata": {},
     "output_type": "execute_result"
    }
   ],
   "source": [
    "data = measure(5)\n",
    "data.to_csv(\"signature.csv\", index=None)\n",
    "data = pd.read_csv(\"signature.csv\")\n",
    "data.head()"
   ]
  },
  {
   "cell_type": "markdown",
   "metadata": {},
   "source": [
    "### Specify the input and output formats"
   ]
  },
  {
   "cell_type": "code",
   "execution_count": 6,
   "metadata": {},
   "outputs": [],
   "source": [
    "ORDERED_SIGNATURE_COLUMNS=[\"beta1\", \"beta2\", \"weekday\", \"hour\", \"humidity\"]\n",
    "header = bytes(\",\".join(ORDERED_SIGNATURE_COLUMNS), 'UTF-8')"
   ]
  },
  {
   "cell_type": "code",
   "execution_count": 7,
   "metadata": {},
   "outputs": [],
   "source": [
    "feature_spec = {\n",
    "    'beta1': tf.io.FixedLenFeature([1], tf.float32),\n",
    "    'beta2': tf.io.FixedLenFeature([1], tf.float32),\n",
    "    'weekday': tf.io.FixedLenFeature([1], tf.int64),\n",
    "    'hour': tf.io.FixedLenFeature([1], tf.int64),\n",
    "    'humidity': tf.io.FixedLenFeature([1], tf.float32)\n",
    "}\n",
    "schema = dataset_schema.from_feature_spec(feature_spec)"
   ]
  },
  {
   "cell_type": "markdown",
   "metadata": {},
   "source": [
    "### Create an encoder and test it"
   ]
  },
  {
   "cell_type": "code",
   "execution_count": 8,
   "metadata": {},
   "outputs": [
    {
     "name": "stdout",
     "output_type": "stream",
     "text": [
      "{'beta1': array([10.], dtype=float32), 'beta2': array([10.], dtype=float32), 'hour': array([4], dtype=int64), 'humidity': array([1.], dtype=float32), 'weekday': array([3], dtype=int64)}\n"
     ]
    },
    {
     "data": {
      "text/plain": [
       "b'10.0,10.0,3,4,1.0'"
      ]
     },
     "execution_count": 8,
     "metadata": {},
     "output_type": "execute_result"
    }
   ],
   "source": [
    "csv_encoder = tft.coders.CsvCoder(ORDERED_SIGNATURE_COLUMNS, schema)\n",
    "records = csv_encoder.decode(\"10.0, 10.0, 3,4,1.0\")\n",
    "print(records)\n",
    "csv_encoder.encode(records)"
   ]
  },
  {
   "cell_type": "markdown",
   "metadata": {},
   "source": [
    "### The Apache Beam pipeline "
   ]
  },
  {
   "cell_type": "code",
   "execution_count": 9,
   "metadata": {},
   "outputs": [],
   "source": [
    "!rm -rf beam-temp-*\n",
    "!rm -f training.csv-00000-of-* "
   ]
  },
  {
   "cell_type": "code",
   "execution_count": 27,
   "metadata": {},
   "outputs": [
    {
     "name": "stdout",
     "output_type": "stream",
     "text": [
      "{'beta1': array([0.22094154], dtype=float32), 'beta2': array([1.0594496], dtype=float32), 'hour': array([9], dtype=int64), 'humidity': array([16.77154], dtype=float32), 'weekday': array([5], dtype=int64)}\n",
      "{'beta1': array([2.2204974], dtype=float32), 'beta2': array([4.0277033], dtype=float32), 'hour': array([3], dtype=int64), 'humidity': array([19.62251], dtype=float32), 'weekday': array([6], dtype=int64)}\n",
      "{'beta1': array([-0.09811807], dtype=float32), 'beta2': array([0.11373159], dtype=float32), 'hour': array([7], dtype=int64), 'humidity': array([15.606735], dtype=float32), 'weekday': array([0], dtype=int64)}\n",
      "{'beta1': array([4.593776], dtype=float32), 'beta2': array([3.3665817], dtype=float32), 'hour': array([0], dtype=int64), 'humidity': array([25.40757], dtype=float32), 'weekday': array([2], dtype=int64)}\n",
      "{'beta1': array([-0.00353715], dtype=float32), 'beta2': array([-2.6694198], dtype=float32), 'hour': array([18], dtype=int64), 'humidity': array([29.535917], dtype=float32), 'weekday': array([2], dtype=int64)}\n"
     ]
    }
   ],
   "source": [
    "with beam.Pipeline('DirectRunner', PipelineOptions()) as p:\n",
    "\n",
    "    csv_encoder = tft.coders.CsvCoder(ORDERED_SIGNATURE_COLUMNS, schema)    \n",
    "\n",
    "    _ = (p \n",
    "         | 'read_from_csv' >> beam.io.ReadFromText(\n",
    "             file_pattern='signature.csv', coder=csv_encoder, skip_header_lines=1)\n",
    "         \n",
    "         | 'process_records' >> beam.Map(process_data)\n",
    "         \n",
    "         | 'write_to_csv' >> beam.io.WriteToText(\n",
    "             file_path_prefix='training.csv', coder=csv_encoder, header=header)\n",
    "        )\n"
   ]
  },
  {
   "cell_type": "code",
   "execution_count": 21,
   "metadata": {},
   "outputs": [
    {
     "name": "stdout",
     "output_type": "stream",
     "text": [
      "beta1,beta2,weekday,hour,humidity\n",
      "0.22094154,1.0594496,5,9,16.77154\n",
      "2.2204974,4.0277033,6,3,19.62251\n",
      "-0.098118074,0.11373159,0,7,15.606735\n",
      "4.593776,3.3665817,2,0,25.40757\n",
      "-0.003537154,-2.6694198,2,18,29.535917\n"
     ]
    }
   ],
   "source": [
    "!cat training.csv-00000-of-00001"
   ]
  },
  {
   "cell_type": "code",
   "execution_count": 26,
   "metadata": {},
   "outputs": [],
   "source": [
    "def process_data(inp):\n",
    "    print(inp)\n",
    "    \n",
    "    return inp"
   ]
  },
  {
   "cell_type": "code",
   "execution_count": 14,
   "metadata": {},
   "outputs": [],
   "source": [
    "signature_metadata = dataset_metadata.DatasetMetadata(schema)"
   ]
  },
  {
   "cell_type": "code",
   "execution_count": null,
   "metadata": {},
   "outputs": [],
   "source": [
    "with beam.Pipeline('DirectRunner', PipelineOptions()) as p:\n",
    "\n",
    "    csv_encoder = tft.coders.CsvCoder(ORDERED_SIGNATURE_COLUMNS, schema)    \n",
    "\n",
    "    signature_data = \n",
    "        p | 'read_from_csv' \n",
    "        >> beam.io.ReadFromText(\n",
    "             file_pattern='signature.csv', coder=csv_encoder, skip_header_lines=1)\n",
    "\n",
    "    signature_data = ( signature_data, signature_metadata)\n",
    "    \n",
    "    training_data, transform_fn = ( signature_data | \"AnalyzeAndTransform\" \n",
    "                     >> beam_impl.AnalyzeAndTransformDataset(process_data))\n",
    "\n",
    "    training_data\n",
    "    \n",
    "         | 'write_to_csv' >> beam.io.WriteToText(\n",
    "             file_path_prefix='training.csv', coder=csv_encoder, header=header)\n",
    "        )\n"
   ]
  },
  {
   "cell_type": "code",
   "execution_count": 10,
   "metadata": {},
   "outputs": [],
   "source": [
    "from tensorflow_transform.tf_metadata import dataset_metadata"
   ]
  },
  {
   "cell_type": "code",
   "execution_count": 12,
   "metadata": {},
   "outputs": [
    {
     "data": {
      "text/plain": [
       "{'_schema': Schema(feature {\n",
       "  name: \"beta1\"\n",
       "  type: FLOAT\n",
       "  presence {\n",
       "    min_fraction: 1.0\n",
       "  }\n",
       "  shape {\n",
       "    dim {\n",
       "      size: 1\n",
       "    }\n",
       "  }\n",
       "}\n",
       "feature {\n",
       "  name: \"beta2\"\n",
       "  type: FLOAT\n",
       "  presence {\n",
       "    min_fraction: 1.0\n",
       "  }\n",
       "  shape {\n",
       "    dim {\n",
       "      size: 1\n",
       "    }\n",
       "  }\n",
       "}\n",
       "feature {\n",
       "  name: \"hour\"\n",
       "  type: INT\n",
       "  presence {\n",
       "    min_fraction: 1.0\n",
       "  }\n",
       "  shape {\n",
       "    dim {\n",
       "      size: 1\n",
       "    }\n",
       "  }\n",
       "}\n",
       "feature {\n",
       "  name: \"humidity\"\n",
       "  type: FLOAT\n",
       "  presence {\n",
       "    min_fraction: 1.0\n",
       "  }\n",
       "  shape {\n",
       "    dim {\n",
       "      size: 1\n",
       "    }\n",
       "  }\n",
       "}\n",
       "feature {\n",
       "  name: \"weekday\"\n",
       "  type: INT\n",
       "  presence {\n",
       "    min_fraction: 1.0\n",
       "  }\n",
       "  shape {\n",
       "    dim {\n",
       "      size: 1\n",
       "    }\n",
       "  }\n",
       "}\n",
       ")}"
      ]
     },
     "execution_count": 12,
     "metadata": {},
     "output_type": "execute_result"
    }
   ],
   "source": [
    "TRAINING_METADATA"
   ]
  },
  {
   "cell_type": "code",
   "execution_count": null,
   "metadata": {},
   "outputs": [],
   "source": []
  }
 ],
 "metadata": {
  "kernelspec": {
   "display_name": "Python 3",
   "language": "python",
   "name": "python3"
  },
  "language_info": {
   "codemirror_mode": {
    "name": "ipython",
    "version": 3
   },
   "file_extension": ".py",
   "mimetype": "text/x-python",
   "name": "python",
   "nbconvert_exporter": "python",
   "pygments_lexer": "ipython3",
   "version": "3.7.3"
  }
 },
 "nbformat": 4,
 "nbformat_minor": 2
}
