{
 "cells": [
  {
   "cell_type": "code",
   "execution_count": 1,
   "metadata": {},
   "outputs": [],
   "source": [
    "from __future__ import (absolute_import, division, print_function)"
   ]
  },
  {
   "cell_type": "code",
   "execution_count": 2,
   "metadata": {},
   "outputs": [],
   "source": [
    "%matplotlib inline"
   ]
  },
  {
   "cell_type": "code",
   "execution_count": 3,
   "metadata": {},
   "outputs": [],
   "source": [
    "import tensorflow as tf\n",
    "from tensorflow.feature_column import numeric_column as num\n",
    "from tensorflow.feature_column import bucketized_column as buck\n",
    "import seaborn as sns\n",
    "import matplotlib.pyplot as plt\n",
    "import numpy as np\n",
    "import pandas as pd\n",
    "sns.set()"
   ]
  },
  {
   "cell_type": "code",
   "execution_count": 4,
   "metadata": {},
   "outputs": [
    {
     "data": {
      "text/plain": [
       "'1.12.0'"
      ]
     },
     "execution_count": 4,
     "metadata": {},
     "output_type": "execute_result"
    }
   ],
   "source": [
    "tf.__version__"
   ]
  },
  {
   "cell_type": "code",
   "execution_count": 5,
   "metadata": {},
   "outputs": [],
   "source": [
    "sess = tf.InteractiveSession()"
   ]
  },
  {
   "cell_type": "markdown",
   "metadata": {},
   "source": [
    "# Classifying Fat Tails\n",
    "Here we try to explore the possibility to predict a fat-tailed distribution the shape of which depends on two variables. We hope that this helps us to come up with some reasonable prediction scheme for the flight delays."
   ]
  },
  {
   "cell_type": "markdown",
   "metadata": {},
   "source": [
    "## Logarithmic bucketizing"
   ]
  },
  {
   "cell_type": "markdown",
   "metadata": {},
   "source": [
    "Test data"
   ]
  },
  {
   "cell_type": "code",
   "execution_count": 6,
   "metadata": {},
   "outputs": [
    {
     "data": {
      "text/plain": [
       "array([ -4.,   2.,  10., 100.,  30.,   2.,   3.,  50., 300.])"
      ]
     },
     "execution_count": 6,
     "metadata": {},
     "output_type": "execute_result"
    }
   ],
   "source": [
    "inp = tf.constant([-4, 2, 10, 100, 30, 2, 3, 50, 300], dtype=tf.float64)\n",
    "sess.run(inp)"
   ]
  },
  {
   "cell_type": "markdown",
   "metadata": {},
   "source": [
    "Observe that the different values of the test dataset properly distribute into buckets defined by exponentially growing boundaries."
   ]
  },
  {
   "cell_type": "code",
   "execution_count": 7,
   "metadata": {},
   "outputs": [
    {
     "data": {
      "text/plain": [
       "array([[1., 0., 0., 0., 0., 0.],\n",
       "       [1., 0., 0., 0., 0., 0.],\n",
       "       [0., 1., 0., 0., 0., 0.],\n",
       "       [0., 0., 0., 0., 1., 0.],\n",
       "       [0., 0., 0., 1., 0., 0.],\n",
       "       [1., 0., 0., 0., 0., 0.],\n",
       "       [1., 0., 0., 0., 0., 0.],\n",
       "       [0., 0., 0., 1., 0., 0.],\n",
       "       [0., 0., 0., 0., 0., 1.]], dtype=float32)"
      ]
     },
     "execution_count": 7,
     "metadata": {},
     "output_type": "execute_result"
    }
   ],
   "source": [
    "boundaries = [7.5, 15, 30, 60, 120]\n",
    "column = buck(num(\"values\"), boundaries)\n",
    "bucketized = tf.feature_column.input_layer( \n",
    "            {'values': inp}, feature_columns=[column])\n",
    "sess.run(bucketized)"
   ]
  },
  {
   "cell_type": "markdown",
   "metadata": {},
   "source": [
    "## Simulating fat-tailed data"
   ]
  },
  {
   "cell_type": "markdown",
   "metadata": {},
   "source": [
    "The distribution of departure delays is definitely not Gaussian. It rather looks like the [Gamma distribution](https://en.wikipedia.org/wiki/Gamma_distribution). \n",
    "The probability density function of the Gamma distribution with scale $\\theta$ and shape $\\beta$ \n",
    "is defined by\n",
    "\n",
    "$$ {\\frac {1}{\\Gamma (k)\\theta ^{k}}}x^{k-1} \\cdot e^{-{\\frac {x}{\\theta }}}$$\n",
    "\n",
    "That's just for your information. We don't need the details here. But please observe the shape of the distribution for different values of $k$ and $\\theta$ as functions of our input variables $x$ and $y$."
   ]
  },
  {
   "cell_type": "code",
   "execution_count": 8,
   "metadata": {},
   "outputs": [
    {
     "data": {
      "text/plain": [
       "2.4504252737967303"
      ]
     },
     "execution_count": 8,
     "metadata": {},
     "output_type": "execute_result"
    }
   ],
   "source": [
    "def sample_for(x, y, n=1):    \n",
    "    assert x>=0 and x<1\n",
    "    assert y>=0 and y<1\n",
    "    res = np.random.gamma(1+x,20*y+1, n) \n",
    "    return res if n>1 else res[0]\n",
    "sample_for(0,.1)"
   ]
  },
  {
   "cell_type": "code",
   "execution_count": 9,
   "metadata": {},
   "outputs": [
    {
     "data": {
      "image/png": "[encoded data removed]",
      "text/plain": [
       "<Figure size 576x576 with 4 Axes>"
      ]
     },
     "metadata": {},
     "output_type": "display_data"
    }
   ],
   "source": [
    "n = 10000\n",
    "f, axes = plt.subplots(2, 2, figsize=(8,8), sharex=False)\n",
    "\n",
    "# Plot a simple histogram with binsize determined automatically\n",
    "sns.distplot(sample_for(0,0,n=n), kde=False, ax=axes[0, 0])\n",
    "axes[0,0].set_title(\"x=0, y=0\")\n",
    "\n",
    "# Plot a kernel density estimate and rug plot\n",
    "sns.distplot(sample_for(.9,0, n=n), kde=False, ax=axes[0, 1])\n",
    "axes[0,1].set_title(\"x=.9, y=0\")\n",
    "\n",
    "# Plot a filled kernel density estimate\n",
    "sns.distplot(sample_for(0,.9, n=n), kde=False, ax=axes[1, 0])\n",
    "axes[1, 0].set_title(\"x=0, y=.9\")\n",
    "\n",
    "# Plot a historgram and kernel density estimate\n",
    "sns.distplot(sample_for(.9,.9, n=n), kde=False, ax=axes[1, 1])\n",
    "axes[1,1].set_title(\"x=.9, y=.9\");"
   ]
  },
  {
   "cell_type": "markdown",
   "metadata": {},
   "source": [
    "While $x$ appears to be shifting the *center* to the right as it grows, $y$ is apparently responsible for the length of the tail."
   ]
  },
  {
   "cell_type": "markdown",
   "metadata": {},
   "source": [
    "In the following, we will draw triples $(x, y, f(x,y))$ from uniformly distributed $x$ and $y$. $f(x,y)$ is drawn from the respective distribution for $x$ and $y$."
   ]
  },
  {
   "cell_type": "code",
   "execution_count": 10,
   "metadata": {},
   "outputs": [
    {
     "data": {
      "text/plain": [
       "[[0.6964621864219471, 0.4754072520685647, 18.320718468644312],\n",
       " [0.5894528207020356, 0.4419303703491222, 4.959750156245398],\n",
       " [0.32081358151953765, 0.670250043696953, 2.742407466212085],\n",
       " [0.7397507196671861, 0.0229795684523727, 0.38191284238828505]]"
      ]
     },
     "execution_count": 10,
     "metadata": {},
     "output_type": "execute_result"
    }
   ],
   "source": [
    "def create_input_data(n):\n",
    "    x=np.random.uniform(size=n)\n",
    "    y=np.random.uniform(size=n)\n",
    "    return [[sx, sy, sample_for(sx,sy)] for sx,sy in zip(x,y)]\n",
    "\n",
    "create_input_data(4)"
   ]
  },
  {
   "cell_type": "markdown",
   "metadata": {},
   "source": [
    "---"
   ]
  },
  {
   "cell_type": "markdown",
   "metadata": {},
   "source": [
    "## Training\n",
    "Now we want to train a model to reproduce the distribution of flight delays $f$.\n",
    "The input into the model is called ```X```, which contains ```x,y```."
   ]
  },
  {
   "cell_type": "code",
   "execution_count": 11,
   "metadata": {},
   "outputs": [
    {
     "data": {
      "text/plain": [
       "array([[0.07257585, 0.97184785],\n",
       "       [0.6274668 , 0.94823123],\n",
       "       [0.37732699, 0.20131042],\n",
       "       [0.29271762, 0.65434748]])"
      ]
     },
     "execution_count": 11,
     "metadata": {},
     "output_type": "execute_result"
    }
   ],
   "source": [
    "labeled_data = create_input_data(10000)\n",
    "X=tf.constant(np.transpose(labeled_data)[0:2].T)\n",
    "sess.run(X)[:4]"
   ]
  },
  {
   "cell_type": "code",
   "execution_count": 12,
   "metadata": {},
   "outputs": [],
   "source": [
    "corners = [[0.1, 0.1],[0.1, 0.9],[0.9, 0.1],[0.9, 0.9]]\n",
    "Xt=tf.constant(corners, dtype=tf.float64)"
   ]
  },
  {
   "cell_type": "markdown",
   "metadata": {},
   "source": [
    "The labels are those values that come from the respective fat-tailed distributions."
   ]
  },
  {
   "cell_type": "code",
   "execution_count": 13,
   "metadata": {},
   "outputs": [
    {
     "data": {
      "text/plain": [
       "array([18.05213691, 65.11223332, 11.97521626,  7.33762155])"
      ]
     },
     "execution_count": 13,
     "metadata": {},
     "output_type": "execute_result"
    }
   ],
   "source": [
    "L=np.transpose(labeled_data)[2].T\n",
    "L[:4]"
   ]
  },
  {
   "cell_type": "markdown",
   "metadata": {},
   "source": [
    "We want those values bucketized:"
   ]
  },
  {
   "cell_type": "code",
   "execution_count": 14,
   "metadata": {},
   "outputs": [
    {
     "data": {
      "text/plain": [
       "array([[0., 0., 1., 0., 0., 0.],\n",
       "       [0., 0., 0., 0., 1., 0.],\n",
       "       [0., 1., 0., 0., 0., 0.],\n",
       "       [1., 0., 0., 0., 0., 0.]])"
      ]
     },
     "execution_count": 14,
     "metadata": {},
     "output_type": "execute_result"
    }
   ],
   "source": [
    "boundaries = [7.5, 15, 30, 60, 120]\n",
    "column = buck(num(\"values\"), boundaries)\n",
    "L_bucketized = tf.feature_column.input_layer( \n",
    "            {'values': L}, feature_columns=[column])\n",
    "L_bucketized = tf.cast(L_bucketized, dtype=tf.float64)\n",
    "sess.run(L_bucketized)[:4]"
   ]
  },
  {
   "cell_type": "markdown",
   "metadata": {},
   "source": [
    "Now we need a function that takes ```X``` as input und returns a 6-dimensional vector that, after sufficient training, will hopefully reflect the probabilities for $f(x,y)$ to appear in the respective bucket."
   ]
  },
  {
   "cell_type": "code",
   "execution_count": 15,
   "metadata": {},
   "outputs": [],
   "source": [
    "Theta = tf.Variable(np.random.normal(0, .2, size=[2,6]))\n",
    "b = tf.Variable(np.random.normal(0, .2, size=[6]))"
   ]
  },
  {
   "cell_type": "code",
   "execution_count": 16,
   "metadata": {},
   "outputs": [],
   "source": [
    "z=tf.matmul(X, Theta) + b\n",
    "zt=tf.matmul(Xt, Theta) + b\n",
    "pred=tf.nn.softmax(zt)\n",
    "loss = tf.losses.softmax_cross_entropy(L_bucketized, z)\n",
    "\n",
    "lr = .1\n",
    "\n",
    "trainer = tf.train.AdamOptimizer(learning_rate=lr)\n",
    "step=trainer.minimize(loss=loss)\n",
    "init = tf.global_variables_initializer()\n"
   ]
  },
  {
   "cell_type": "markdown",
   "metadata": {},
   "source": [
    "### Verifying Convergence\n",
    "By looking at the first consecutive values for the loss, we verify that it monotonously increases."
   ]
  },
  {
   "cell_type": "code",
   "execution_count": 17,
   "metadata": {},
   "outputs": [
    {
     "name": "stdout",
     "output_type": "stream",
     "text": [
      "1.8211119174957275\n",
      "1.7111923694610596\n",
      "1.633658766746521\n",
      "1.5765438079833984\n",
      "1.5329262018203735\n",
      "1.5011261701583862\n",
      "1.48019278049469\n",
      "1.4671272039413452\n",
      "1.4578169584274292\n",
      "1.448934555053711\n"
     ]
    }
   ],
   "source": [
    "sess.run(init)\n",
    "for n in range(10):\n",
    "    l, _ = sess.run([loss, step])\n",
    "    print(l)"
   ]
  },
  {
   "cell_type": "markdown",
   "metadata": {},
   "source": [
    "### Full Training"
   ]
  },
  {
   "cell_type": "code",
   "execution_count": 18,
   "metadata": {},
   "outputs": [],
   "source": [
    "for n in range(1000):\n",
    "    l, _ = sess.run([loss, step])"
   ]
  },
  {
   "cell_type": "code",
   "execution_count": 19,
   "metadata": {},
   "outputs": [
    {
     "data": {
      "text/plain": [
       "1.2391221523284912"
      ]
     },
     "execution_count": 19,
     "metadata": {},
     "output_type": "execute_result"
    }
   ],
   "source": [
    "sess.run(loss)"
   ]
  },
  {
   "cell_type": "markdown",
   "metadata": {},
   "source": [
    "---\n",
    "### Verifiying the result\n",
    "We demonstrate the plausibility of the result by comparing the distribution for the extreme pairs of parameters $x_d$ and $y_d$ with the *learned* distribution."
   ]
  },
  {
   "cell_type": "code",
   "execution_count": 20,
   "metadata": {},
   "outputs": [],
   "source": [
    "buckets = np.append([0], boundaries)"
   ]
  },
  {
   "cell_type": "code",
   "execution_count": 21,
   "metadata": {},
   "outputs": [
    {
     "data": {
      "image/png": "[encoded data removed]",
      "text/plain": [
       "<Figure size 720x720 with 4 Axes>"
      ]
     },
     "metadata": {},
     "output_type": "display_data"
    }
   ],
   "source": [
    "xt, pt = sess.run([Xt, pred])\n",
    "f, axes = plt.subplots(2, 2, figsize=(10, 10), sharex=True)\n",
    "for ind in range(4):\n",
    "    x_d, y_d = xt[ind][0], xt[ind][1]\n",
    "\n",
    "    xd, yd = xt[ind][0], xt[ind][1]\n",
    "    df=pd.DataFrame.from_dict(\n",
    "        {'buckets': buckets, 'proba': np.round(pt[ind]*100, 2)})\n",
    "\n",
    "    n_samples = 10000\n",
    "    sample=sample_for(x_d, y_d, n=n_samples)\n",
    "    right_boundary = np.max([np.max(sample)+1, 121])\n",
    "    bins=np.append(buckets, right_boundary)\n",
    "    counts,_ = np.histogram(sample, bins=bins)\n",
    "    df['counts']= counts/n_samples * 100\n",
    "    df = pd.melt(df, id_vars=['buckets'], value_vars=['proba', 'counts'])\n",
    "    i=ind // 2\n",
    "    j=ind % 2\n",
    "    sns.barplot(x='buckets', y='value', hue='variable', ax=axes[i][j], data=df)"
   ]
  },
  {
   "cell_type": "markdown",
   "metadata": {},
   "source": [
    "Not too bad, is it? Rather than making a prediction that won't be so helpful because of the massive tail in the distribution, we can let the decision making up to the user. \n",
    "\n",
    "---"
   ]
  },
  {
   "cell_type": "markdown",
   "metadata": {},
   "source": [
    "## Predicting by distribution"
   ]
  },
  {
   "cell_type": "markdown",
   "metadata": {},
   "source": [
    "We will provide the users with a color scheme indicating the probability distribution"
   ]
  },
  {
   "cell_type": "code",
   "execution_count": 22,
   "metadata": {},
   "outputs": [],
   "source": [
    "colors = ['#FF0000', '#FF7000', '#FFC000', '#F0F000', '#80FF00', '#00FF00']"
   ]
  },
  {
   "cell_type": "code",
   "execution_count": 23,
   "metadata": {},
   "outputs": [],
   "source": [
    "accus=[[]]\n",
    "for i in range(4):\n",
    "    accus.append([])\n",
    "    s = 0\n",
    "    for p in pt[i]:\n",
    "        s += p\n",
    "        accus[i].append(s)"
   ]
  },
  {
   "cell_type": "code",
   "execution_count": 24,
   "metadata": {},
   "outputs": [
    {
     "data": {
      "image/png": "[encoded data removed]",
      "text/plain": [
       "<Figure size 720x288 with 4 Axes>"
      ]
     },
     "metadata": {},
     "output_type": "display_data"
    }
   ],
   "source": [
    "f, axes = plt.subplots(4, 1, figsize=(10, 4), sharex=True)\n",
    "for i in range(4):\n",
    "    disp = zip(reversed(accus[i]), colors)\n",
    "    for d in disp:\n",
    "        sns.barplot(x=[d[0]], y=[0], orient='h', color=d[1], ax=axes[i])"
   ]
  },
  {
   "cell_type": "code",
   "execution_count": null,
   "metadata": {},
   "outputs": [],
   "source": []
  }
 ],
 "metadata": {
  "kernelspec": {
   "display_name": "Python 2",
   "language": "python",
   "name": "python2"
  },
  "language_info": {
   "codemirror_mode": {
    "name": "ipython",
    "version": 2
   },
   "file_extension": ".py",
   "mimetype": "text/x-python",
   "name": "python",
   "nbconvert_exporter": "python",
   "pygments_lexer": "ipython2",
   "version": "2.7.15rc1"
  }
 },
 "nbformat": 4,
 "nbformat_minor": 2
}
