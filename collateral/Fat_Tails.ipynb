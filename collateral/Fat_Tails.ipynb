{
 "cells": [
  {
   "cell_type": "code",
   "execution_count": 1,
   "metadata": {},
   "outputs": [],
   "source": [
    "from __future__ import (absolute_import, division, print_function)"
   ]
  },
  {
   "cell_type": "code",
   "execution_count": 2,
   "metadata": {},
   "outputs": [],
   "source": [
    "%matplotlib inline"
   ]
  },
  {
   "cell_type": "code",
   "execution_count": 3,
   "metadata": {},
   "outputs": [],
   "source": [
    "import tensorflow as tf\n",
    "from tensorflow.feature_column import numeric_column as num\n",
    "from tensorflow.feature_column import bucketized_column as buck\n",
    "import seaborn as sns\n",
    "import matplotlib.pyplot as plt\n",
    "import numpy as np\n",
    "import pandas as pd\n",
    "sns.set()"
   ]
  },
  {
   "cell_type": "code",
   "execution_count": 4,
   "metadata": {},
   "outputs": [
    {
     "data": {
      "text/plain": [
       "'1.13.1'"
      ]
     },
     "execution_count": 4,
     "metadata": {},
     "output_type": "execute_result"
    }
   ],
   "source": [
    "tf.__version__"
   ]
  },
  {
   "cell_type": "code",
   "execution_count": 5,
   "metadata": {},
   "outputs": [],
   "source": [
    "sess = tf.InteractiveSession()"
   ]
  },
  {
   "cell_type": "markdown",
   "metadata": {},
   "source": [
    "# Classifying Fat Tails\n",
    "Here we try to explore the possibility to predict a fat-tailed distribution the shape of which depends on two variables. We hope that this helps us to come up with some reasonable prediction scheme for the flight delays."
   ]
  },
  {
   "cell_type": "markdown",
   "metadata": {},
   "source": [
    "## Logarithmic bucketizing"
   ]
  },
  {
   "cell_type": "markdown",
   "metadata": {},
   "source": [
    "Test data"
   ]
  },
  {
   "cell_type": "code",
   "execution_count": 6,
   "metadata": {},
   "outputs": [
    {
     "data": {
      "text/plain": [
       "array([ -4.,   2.,  10., 100.,  30.,   2.,   3.,  50., 300.])"
      ]
     },
     "execution_count": 6,
     "metadata": {},
     "output_type": "execute_result"
    }
   ],
   "source": [
    "inp = tf.constant([-4, 2, 10, 100, 30, 2, 3, 50, 300], dtype=tf.float64)\n",
    "sess.run(inp)"
   ]
  },
  {
   "cell_type": "markdown",
   "metadata": {},
   "source": [
    "Observe that the different values of the test dataset properly distribute into buckets defined by exponentially growing boundaries."
   ]
  },
  {
   "cell_type": "code",
   "execution_count": 9,
   "metadata": {},
   "outputs": [
    {
     "data": {
      "text/plain": [
       "array([[1., 0., 0., 0., 0., 0.],\n",
       "       [1., 0., 0., 0., 0., 0.],\n",
       "       [0., 1., 0., 0., 0., 0.],\n",
       "       [0., 0., 0., 0., 1., 0.],\n",
       "       [0., 0., 0., 1., 0., 0.],\n",
       "       [1., 0., 0., 0., 0., 0.],\n",
       "       [1., 0., 0., 0., 0., 0.],\n",
       "       [0., 0., 0., 1., 0., 0.],\n",
       "       [0., 0., 0., 0., 0., 1.]], dtype=float32)"
      ]
     },
     "execution_count": 9,
     "metadata": {},
     "output_type": "execute_result"
    }
   ],
   "source": [
    "boundaries = [7.5, 15, 30, 60, 120]\n",
    "column = buck(num(\"values\"), boundaries)\n",
    "bucketized = tf.feature_column.input_layer( \n",
    "            {'values': inp}, feature_columns=[column])\n",
    "sess.run(bucketized)"
   ]
  },
  {
   "cell_type": "markdown",
   "metadata": {},
   "source": [
    "## Simulating fat-tailed data"
   ]
  },
  {
   "cell_type": "markdown",
   "metadata": {},
   "source": [
    "The distribution of departure delays is definitely not Gaussian. It rather looks like the [Gamma distribution](https://en.wikipedia.org/wiki/Gamma_distribution). \n",
    "The probability density function of the Gamma distribution with scale $\\theta$ and shape $\\beta$ \n",
    "is defined by\n",
    "\n",
    "$$ {\\frac {1}{\\Gamma (k)\\theta ^{k}}}x^{k-1} \\cdot e^{-{\\frac {x}{\\theta }}}$$\n",
    "\n",
    "That's just for your information. We don't need the details here. But please observe the shape of the distribution for different values of $k$ and $\\theta$ as functions of our input variables $x$ and $y$."
   ]
  },
  {
   "cell_type": "code",
   "execution_count": 10,
   "metadata": {},
   "outputs": [
    {
     "data": {
      "text/plain": [
       "0.8281364209559745"
      ]
     },
     "execution_count": 10,
     "metadata": {},
     "output_type": "execute_result"
    }
   ],
   "source": [
    "def sample_for(x, y, n=1):    \n",
    "    assert x>=0 and x<1\n",
    "    assert y>=0 and y<1\n",
    "    res = np.random.gamma(1+x,20*y+1, n) \n",
    "    return res if n>1 else res[0]\n",
    "sample_for(0,.1)"
   ]
  },
  {
   "cell_type": "code",
   "execution_count": 11,
   "metadata": {},
   "outputs": [
    {
     "data": {
      "image/png": "[encoded data removed]",
      "text/plain": [
       "<Figure size 576x576 with 4 Axes>"
      ]
     },
     "metadata": {},
     "output_type": "display_data"
    }
   ],
   "source": [
    "n = 10000\n",
    "f, axes = plt.subplots(2, 2, figsize=(8,8), sharex=False)\n",
    "\n",
    "# Plot a simple histogram with binsize determined automatically\n",
    "sns.distplot(sample_for(0,0,n=n), kde=False, ax=axes[0, 0])\n",
    "axes[0,0].set_title(\"x=0, y=0\")\n",
    "\n",
    "# Plot a kernel density estimate and rug plot\n",
    "sns.distplot(sample_for(.9,0, n=n), kde=False, ax=axes[0, 1])\n",
    "axes[0,1].set_title(\"x=.9, y=0\")\n",
    "\n",
    "# Plot a filled kernel density estimate\n",
    "sns.distplot(sample_for(0,.9, n=n), kde=False, ax=axes[1, 0])\n",
    "axes[1, 0].set_title(\"x=0, y=.9\")\n",
    "\n",
    "# Plot a historgram and kernel density estimate\n",
    "sns.distplot(sample_for(.9,.9, n=n), kde=False, ax=axes[1, 1])\n",
    "axes[1,1].set_title(\"x=.9, y=.9\");"
   ]
  },
  {
   "cell_type": "markdown",
   "metadata": {},
   "source": [
    "While $x$ appears to be shifting the *center* to the right as it grows, $y$ is apparently responsible for the length of the tail."
   ]
  },
  {
   "cell_type": "markdown",
   "metadata": {},
   "source": [
    "In the following, we will draw triples $(x, y, f(x,y))$ from uniformly distributed $x$ and $y$. $f(x,y)$ is drawn from the respective distribution for $x$ and $y$."
   ]
  },
  {
   "cell_type": "code",
   "execution_count": 12,
   "metadata": {},
   "outputs": [
    {
     "data": {
      "text/plain": [
       "[[0.7927728370902035, 0.3893753503257238, 14.076824432822821],\n",
       " [0.18470214226647597, 0.3472506796196244, 28.209998273250413],\n",
       " [0.020187634966840395, 0.33522126927767826, 8.568034298524992],\n",
       " [0.6854365651458646, 0.4129626464537832, 6.524161103694919]]"
      ]
     },
     "execution_count": 12,
     "metadata": {},
     "output_type": "execute_result"
    }
   ],
   "source": [
    "def create_input_data(n):\n",
    "    x=np.random.uniform(size=n)\n",
    "    y=np.random.uniform(size=n)\n",
    "    return [[sx, sy, sample_for(sx,sy)] for sx,sy in zip(x,y)]\n",
    "\n",
    "create_input_data(4)"
   ]
  },
  {
   "cell_type": "markdown",
   "metadata": {},
   "source": [
    "---"
   ]
  },
  {
   "cell_type": "markdown",
   "metadata": {},
   "source": [
    "## Training\n",
    "Now we want to train a model to reproduce the distribution of flight delays $f$.\n",
    "The input into the model is called ```X```, which contains ```x,y```."
   ]
  },
  {
   "cell_type": "code",
   "execution_count": 13,
   "metadata": {},
   "outputs": [
    {
     "data": {
      "text/plain": [
       "array([[0.91823579, 0.56535605],\n",
       "       [0.62519185, 0.24309094],\n",
       "       [0.47230016, 0.29850713],\n",
       "       [0.12995077, 0.47881512]])"
      ]
     },
     "execution_count": 13,
     "metadata": {},
     "output_type": "execute_result"
    }
   ],
   "source": [
    "labeled_data = create_input_data(10000)\n",
    "X=tf.constant(np.transpose(labeled_data)[0:2].T)\n",
    "sess.run(X)[:4]"
   ]
  },
  {
   "cell_type": "code",
   "execution_count": 14,
   "metadata": {},
   "outputs": [],
   "source": [
    "corners = [[0.1, 0.1],[0.1, 0.9],[0.9, 0.1],[0.9, 0.9]]\n",
    "Xt=tf.constant(corners, dtype=tf.float64)"
   ]
  },
  {
   "cell_type": "markdown",
   "metadata": {},
   "source": [
    "The labels are those values that come from the respective fat-tailed distributions."
   ]
  },
  {
   "cell_type": "code",
   "execution_count": 24,
   "metadata": {},
   "outputs": [
    {
     "data": {
      "text/plain": [
       "array([32.31219081,  1.28244266, 22.1227245 ,  5.05040106])"
      ]
     },
     "execution_count": 24,
     "metadata": {},
     "output_type": "execute_result"
    }
   ],
   "source": [
    "L=np.transpose(labeled_data)[2].T\n",
    "L[:4]"
   ]
  },
  {
   "cell_type": "markdown",
   "metadata": {},
   "source": [
    "We want those values bucketized:"
   ]
  },
  {
   "cell_type": "code",
   "execution_count": 16,
   "metadata": {},
   "outputs": [
    {
     "data": {
      "text/plain": [
       "array([[0., 0., 0., 1., 0., 0.],\n",
       "       [1., 0., 0., 0., 0., 0.],\n",
       "       [0., 0., 1., 0., 0., 0.],\n",
       "       [1., 0., 0., 0., 0., 0.]])"
      ]
     },
     "execution_count": 16,
     "metadata": {},
     "output_type": "execute_result"
    }
   ],
   "source": [
    "boundaries = [7.5, 15, 30, 60, 120]\n",
    "column = buck(num(\"values\"), boundaries)\n",
    "L_bucketized = tf.feature_column.input_layer( \n",
    "            {'values': L}, feature_columns=[column])\n",
    "L_bucketized = tf.cast(L_bucketized, dtype=tf.float64)\n",
    "sess.run(L_bucketized)[:4]"
   ]
  },
  {
   "cell_type": "markdown",
   "metadata": {},
   "source": [
    "Now we need a function that takes ```X``` as input und returns a 6-dimensional vector that, after sufficient training, will hopefully reflect the probabilities for $f(x,y)$ to appear in the respective bucket."
   ]
  },
  {
   "cell_type": "code",
   "execution_count": 17,
   "metadata": {},
   "outputs": [
    {
     "name": "stdout",
     "output_type": "stream",
     "text": [
      "WARNING:tensorflow:From /home/wgiersche/py2/local/lib/python2.7/site-packages/tensorflow/python/framework/op_def_library.py:263: colocate_with (from tensorflow.python.framework.ops) is deprecated and will be removed in a future version.\n",
      "Instructions for updating:\n",
      "Colocations handled automatically by placer.\n"
     ]
    }
   ],
   "source": [
    "Theta = tf.Variable(np.random.normal(0, .2, size=[2,6]))\n",
    "b = tf.Variable(np.random.normal(0, .2, size=[6]))"
   ]
  },
  {
   "cell_type": "code",
   "execution_count": 18,
   "metadata": {},
   "outputs": [],
   "source": [
    "z=tf.matmul(X, Theta) + b\n",
    "zt=tf.matmul(Xt, Theta) + b\n",
    "pred=tf.nn.softmax(zt)\n",
    "loss = tf.losses.softmax_cross_entropy(L_bucketized, z)\n",
    "\n",
    "lr = .1\n",
    "\n",
    "trainer = tf.train.AdamOptimizer(learning_rate=lr)\n",
    "step=trainer.minimize(loss=loss)\n",
    "init = tf.global_variables_initializer()\n"
   ]
  },
  {
   "cell_type": "markdown",
   "metadata": {},
   "source": [
    "### Verifying Convergence\n",
    "By looking at the first consecutive values for the loss, we verify that it monotonously increases."
   ]
  },
  {
   "cell_type": "code",
   "execution_count": 19,
   "metadata": {},
   "outputs": [
    {
     "name": "stdout",
     "output_type": "stream",
     "text": [
      "1.8012683391571045\n",
      "1.6896058320999146\n",
      "1.6111631393432617\n",
      "1.5584392547607422\n",
      "1.5234657526016235\n",
      "1.4987303018569946\n",
      "1.4791640043258667\n",
      "1.4626613855361938\n",
      "1.448588490486145\n",
      "1.4363751411437988\n"
     ]
    }
   ],
   "source": [
    "sess.run(init)\n",
    "for n in range(10):\n",
    "    l, _ = sess.run([loss, step])\n",
    "    print(l)"
   ]
  },
  {
   "cell_type": "markdown",
   "metadata": {},
   "source": [
    "### Full Training"
   ]
  },
  {
   "cell_type": "code",
   "execution_count": 20,
   "metadata": {},
   "outputs": [],
   "source": [
    "for n in range(1000):\n",
    "    l, _ = sess.run([loss, step])"
   ]
  },
  {
   "cell_type": "code",
   "execution_count": 21,
   "metadata": {},
   "outputs": [
    {
     "data": {
      "text/plain": [
       "1.214325189590454"
      ]
     },
     "execution_count": 21,
     "metadata": {},
     "output_type": "execute_result"
    }
   ],
   "source": [
    "sess.run(loss)"
   ]
  },
  {
   "cell_type": "markdown",
   "metadata": {},
   "source": [
    "---\n",
    "### Verifiying the result\n",
    "We demonstrate the plausibility of the result by comparing the distribution for the extreme pairs of parameters $x_d$ and $y_d$ with the *learned* distribution."
   ]
  },
  {
   "cell_type": "code",
   "execution_count": 22,
   "metadata": {},
   "outputs": [],
   "source": [
    "buckets = np.append([0], boundaries)"
   ]
  },
  {
   "cell_type": "code",
   "execution_count": 25,
   "metadata": {},
   "outputs": [
    {
     "data": {
      "image/png": "[encoded data removed]",
      "text/plain": [
       "<Figure size 720x720 with 4 Axes>"
      ]
     },
     "metadata": {},
     "output_type": "display_data"
    }
   ],
   "source": [
    "xt, pt = sess.run([Xt, pred])\n",
    "f, axes = plt.subplots(2, 2, figsize=(10, 10), sharex=True)\n",
    "for ind in range(4):\n",
    "    x_d, y_d = xt[ind][0], xt[ind][1]\n",
    "\n",
    "    xd, yd = xt[ind][0], xt[ind][1]\n",
    "    df=pd.DataFrame.from_dict(\n",
    "        {'buckets': buckets, 'proba': np.round(pt[ind]*100, 2)})\n",
    "\n",
    "    n_samples = 10000\n",
    "    sample=sample_for(x_d, y_d, n=n_samples)\n",
    "    right_boundary = np.max([np.max(sample)+1, 121])\n",
    "    bins=np.append(buckets, right_boundary)\n",
    "    counts,_ = np.histogram(sample, bins=bins)\n",
    "    df['counts']= counts/n_samples * 100\n",
    "    df = pd.melt(df, id_vars=['buckets'], value_vars=['proba', 'counts'])\n",
    "    i=ind // 2\n",
    "    j=ind % 2\n",
    "    sns.barplot(x='buckets', y='value', hue='variable', ax=axes[i][j], data=df)"
   ]
  },
  {
   "cell_type": "markdown",
   "metadata": {},
   "source": [
    "Not too bad, is it? Rather than making a prediction that won't be so helpful because of the massive tail in the distribution, we can let the decision making up to the user. \n",
    "\n",
    "---"
   ]
  },
  {
   "cell_type": "markdown",
   "metadata": {},
   "source": [
    "## Predicting by distribution"
   ]
  },
  {
   "cell_type": "markdown",
   "metadata": {},
   "source": [
    "We will provide the users with a color scheme indicating the probability distribution"
   ]
  },
  {
   "cell_type": "code",
   "execution_count": 26,
   "metadata": {},
   "outputs": [],
   "source": [
    "colors = ['#FF0000', '#FF7000', '#FFC000', '#F0F000', '#80FF00', '#00FF00']"
   ]
  },
  {
   "cell_type": "code",
   "execution_count": 27,
   "metadata": {},
   "outputs": [],
   "source": [
    "accus=[[]]\n",
    "for i in range(4):\n",
    "    accus.append([])\n",
    "    s = 0\n",
    "    for p in pt[i]:\n",
    "        s += p\n",
    "        accus[i].append(s)"
   ]
  },
  {
   "cell_type": "code",
   "execution_count": 28,
   "metadata": {},
   "outputs": [
    {
     "data": {
      "image/png": "[encoded data removed]",
      "text/plain": [
       "<Figure size 720x288 with 4 Axes>"
      ]
     },
     "metadata": {},
     "output_type": "display_data"
    }
   ],
   "source": [
    "f, axes = plt.subplots(4, 1, figsize=(10, 4), sharex=True)\n",
    "for i in range(4):\n",
    "    disp = zip(reversed(accus[i]), colors)\n",
    "    for d in disp:\n",
    "        sns.barplot(x=[d[0]], y=[0], orient='h', color=d[1], ax=axes[i])"
   ]
  },
  {
   "cell_type": "code",
   "execution_count": null,
   "metadata": {},
   "outputs": [],
   "source": []
  }
 ],
 "metadata": {
  "kernelspec": {
   "display_name": "Python 2",
   "language": "python",
   "name": "python2"
  },
  "language_info": {
   "codemirror_mode": {
    "name": "ipython",
    "version": 2
   },
   "file_extension": ".py",
   "mimetype": "text/x-python",
   "name": "python",
   "nbconvert_exporter": "python",
   "pygments_lexer": "ipython2",
   "version": "2.7.13"
  }
 },
 "nbformat": 4,
 "nbformat_minor": 2
}
