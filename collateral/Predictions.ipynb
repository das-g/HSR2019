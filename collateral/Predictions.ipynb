{
 "cells": [
  {
   "cell_type": "code",
   "execution_count": 162,
   "metadata": {},
   "outputs": [
    {
     "name": "stdout",
     "output_type": "stream",
     "text": [
      "The autoreload extension is already loaded. To reload it, use:\n",
      "  %reload_ext autoreload\n"
     ]
    }
   ],
   "source": [
    "%load_ext autoreload\n",
    "%autoreload 2"
   ]
  },
  {
   "cell_type": "code",
   "execution_count": 163,
   "metadata": {},
   "outputs": [],
   "source": [
    "from __future__ import division, print_function, absolute_import"
   ]
  },
  {
   "cell_type": "code",
   "execution_count": 164,
   "metadata": {},
   "outputs": [],
   "source": [
    "import tensorflow as tf\n",
    "import pandas as pd\n",
    "import numpy as np\n",
    "import seaborn as sns"
   ]
  },
  {
   "cell_type": "markdown",
   "metadata": {},
   "source": [
    "# Using the Model to Make Predictions "
   ]
  },
  {
   "cell_type": "markdown",
   "metadata": {},
   "source": [
    "First, let's locate the latest model: It's called ```saved_model.pb```."
   ]
  },
  {
   "cell_type": "code",
   "execution_count": 165,
   "metadata": {},
   "outputs": [
    {
     "name": "stdout",
     "output_type": "stream",
     "text": [
      "Versions: ['1556975103', '1556975105', '1556975141']\n",
      "/tmp/tmpxhfk07ff/models/export/exporter/1556975141\n",
      "saved_model.pb\tvariables\n"
     ]
    }
   ],
   "source": [
    "from temp_dir import temp_dir\n",
    "import os\n",
    "model_dir = os.path.join(temp_dir, \"models/export/exporter\")\n",
    "versions = !ls $model_dir\n",
    "print( \"Versions: %s\" % versions)\n",
    "latest_version = max(versions)\n",
    "latest_model = os.path.join(model_dir, str(latest_version))\n",
    "!echo $latest_model\n",
    "!ls $latest_model"
   ]
  },
  {
   "cell_type": "markdown",
   "metadata": {},
   "source": [
    "Create an estimator from that model:"
   ]
  },
  {
   "cell_type": "code",
   "execution_count": 166,
   "metadata": {},
   "outputs": [
    {
     "name": "stdout",
     "output_type": "stream",
     "text": [
      "INFO:tensorflow:Restoring parameters from /tmp/tmpxhfk07ff/models/export/exporter/1556975141/variables/variables\n"
     ]
    }
   ],
   "source": [
    "estimator = tf.contrib.predictor.from_saved_model(latest_model)"
   ]
  },
  {
   "cell_type": "markdown",
   "metadata": {},
   "source": [
    "Use it to predict the humidity for a single record:"
   ]
  },
  {
   "cell_type": "code",
   "execution_count": 167,
   "metadata": {},
   "outputs": [],
   "source": [
    "sample = {\n",
    "    'beta1': [[1.234],[1.234]],\n",
    "    'beta2': [[1.234],[1.234]],\n",
    "    'weekday': [[5], [6]],\n",
    "    'hour': [[16], [17]]\n",
    "}"
   ]
  },
  {
   "cell_type": "code",
   "execution_count": 168,
   "metadata": {},
   "outputs": [
    {
     "data": {
      "text/plain": [
       "{'output': array([[27.474072],\n",
       "        [20.74772 ]], dtype=float32)}"
      ]
     },
     "execution_count": 168,
     "metadata": {},
     "output_type": "execute_result"
    }
   ],
   "source": [
    "estimator(sample)"
   ]
  },
  {
   "cell_type": "markdown",
   "metadata": {},
   "source": [
    "### Verifying prediction quality against the test set"
   ]
  },
  {
   "cell_type": "code",
   "execution_count": 179,
   "metadata": {},
   "outputs": [
    {
     "name": "stdout",
     "output_type": "stream",
     "text": [
      "eval.tfr-00000-of-00001  signature_eval.csv   tftransform_tmp\n",
      "metadata\t\t signature_test.csv   training.csv-00000-of-00001\n",
      "models\t\t\t signature_train.csv  training.tfr-00000-of-00001\n"
     ]
    }
   ],
   "source": [
    "!ls $temp_dir"
   ]
  },
  {
   "cell_type": "code",
   "execution_count": 180,
   "metadata": {},
   "outputs": [
    {
     "data": {
      "text/html": [
       "<div>\n",
       "<style scoped>\n",
       "    .dataframe tbody tr th:only-of-type {\n",
       "        vertical-align: middle;\n",
       "    }\n",
       "\n",
       "    .dataframe tbody tr th {\n",
       "        vertical-align: top;\n",
       "    }\n",
       "\n",
       "    .dataframe thead th {\n",
       "        text-align: right;\n",
       "    }\n",
       "</style>\n",
       "<table border=\"1\" class=\"dataframe\">\n",
       "  <thead>\n",
       "    <tr style=\"text-align: right;\">\n",
       "      <th></th>\n",
       "      <th>beta1</th>\n",
       "      <th>beta2</th>\n",
       "      <th>hour</th>\n",
       "      <th>humidity</th>\n",
       "      <th>weekday</th>\n",
       "    </tr>\n",
       "  </thead>\n",
       "  <tbody>\n",
       "    <tr>\n",
       "      <th>0</th>\n",
       "      <td>0.831619</td>\n",
       "      <td>-3.061597</td>\n",
       "      <td>11</td>\n",
       "      <td>24.322372</td>\n",
       "      <td>3</td>\n",
       "    </tr>\n",
       "    <tr>\n",
       "      <th>1</th>\n",
       "      <td>1.532263</td>\n",
       "      <td>0.100582</td>\n",
       "      <td>23</td>\n",
       "      <td>20.005085</td>\n",
       "      <td>6</td>\n",
       "    </tr>\n",
       "    <tr>\n",
       "      <th>2</th>\n",
       "      <td>-0.896022</td>\n",
       "      <td>3.209286</td>\n",
       "      <td>18</td>\n",
       "      <td>22.785082</td>\n",
       "      <td>1</td>\n",
       "    </tr>\n",
       "    <tr>\n",
       "      <th>3</th>\n",
       "      <td>-0.051112</td>\n",
       "      <td>3.814629</td>\n",
       "      <td>7</td>\n",
       "      <td>16.876502</td>\n",
       "      <td>4</td>\n",
       "    </tr>\n",
       "    <tr>\n",
       "      <th>4</th>\n",
       "      <td>0.674664</td>\n",
       "      <td>2.271453</td>\n",
       "      <td>4</td>\n",
       "      <td>18.432830</td>\n",
       "      <td>4</td>\n",
       "    </tr>\n",
       "  </tbody>\n",
       "</table>\n",
       "</div>"
      ],
      "text/plain": [
       "      beta1     beta2  hour   humidity  weekday\n",
       "0  0.831619 -3.061597    11  24.322372        3\n",
       "1  1.532263  0.100582    23  20.005085        6\n",
       "2 -0.896022  3.209286    18  22.785082        1\n",
       "3 -0.051112  3.814629     7  16.876502        4\n",
       "4  0.674664  2.271453     4  18.432830        4"
      ]
     },
     "execution_count": 180,
     "metadata": {},
     "output_type": "execute_result"
    }
   ],
   "source": [
    "test_data = pd.read_csv(os.path.join(temp_dir, \"signature_test.csv\"))\n",
    "test_data.head()"
   ]
  },
  {
   "cell_type": "code",
   "execution_count": 181,
   "metadata": {},
   "outputs": [],
   "source": [
    "test_dict = test_data.drop('humidity', axis=1).to_dict(orient='list')\n",
    "test_dict = { key: np.reshape(item, [-1,1]) for key, item in td.items()}"
   ]
  },
  {
   "cell_type": "code",
   "execution_count": 182,
   "metadata": {},
   "outputs": [
    {
     "data": {
      "text/plain": [
       "20000"
      ]
     },
     "execution_count": 182,
     "metadata": {},
     "output_type": "execute_result"
    }
   ],
   "source": [
    "predicted = estimator(td)\n",
    "len(predicted['output'])"
   ]
  },
  {
   "cell_type": "code",
   "execution_count": 183,
   "metadata": {},
   "outputs": [],
   "source": [
    "test_data['predicted'] = predicted['output'].reshape(-1)"
   ]
  },
  {
   "cell_type": "code",
   "execution_count": 184,
   "metadata": {},
   "outputs": [
    {
     "data": {
      "text/html": [
       "<div>\n",
       "<style scoped>\n",
       "    .dataframe tbody tr th:only-of-type {\n",
       "        vertical-align: middle;\n",
       "    }\n",
       "\n",
       "    .dataframe tbody tr th {\n",
       "        vertical-align: top;\n",
       "    }\n",
       "\n",
       "    .dataframe thead th {\n",
       "        text-align: right;\n",
       "    }\n",
       "</style>\n",
       "<table border=\"1\" class=\"dataframe\">\n",
       "  <thead>\n",
       "    <tr style=\"text-align: right;\">\n",
       "      <th></th>\n",
       "      <th>beta1</th>\n",
       "      <th>beta2</th>\n",
       "      <th>hour</th>\n",
       "      <th>humidity</th>\n",
       "      <th>weekday</th>\n",
       "      <th>predicted</th>\n",
       "    </tr>\n",
       "  </thead>\n",
       "  <tbody>\n",
       "    <tr>\n",
       "      <th>0</th>\n",
       "      <td>0.831619</td>\n",
       "      <td>-3.061597</td>\n",
       "      <td>11</td>\n",
       "      <td>24.322372</td>\n",
       "      <td>3</td>\n",
       "      <td>21.410419</td>\n",
       "    </tr>\n",
       "    <tr>\n",
       "      <th>1</th>\n",
       "      <td>1.532263</td>\n",
       "      <td>0.100582</td>\n",
       "      <td>23</td>\n",
       "      <td>20.005085</td>\n",
       "      <td>6</td>\n",
       "      <td>21.547585</td>\n",
       "    </tr>\n",
       "    <tr>\n",
       "      <th>2</th>\n",
       "      <td>-0.896022</td>\n",
       "      <td>3.209286</td>\n",
       "      <td>18</td>\n",
       "      <td>22.785082</td>\n",
       "      <td>1</td>\n",
       "      <td>22.788534</td>\n",
       "    </tr>\n",
       "    <tr>\n",
       "      <th>3</th>\n",
       "      <td>-0.051112</td>\n",
       "      <td>3.814629</td>\n",
       "      <td>7</td>\n",
       "      <td>16.876502</td>\n",
       "      <td>4</td>\n",
       "      <td>16.851084</td>\n",
       "    </tr>\n",
       "    <tr>\n",
       "      <th>4</th>\n",
       "      <td>0.674664</td>\n",
       "      <td>2.271453</td>\n",
       "      <td>4</td>\n",
       "      <td>18.432830</td>\n",
       "      <td>4</td>\n",
       "      <td>18.596155</td>\n",
       "    </tr>\n",
       "  </tbody>\n",
       "</table>\n",
       "</div>"
      ],
      "text/plain": [
       "      beta1     beta2  hour   humidity  weekday  predicted\n",
       "0  0.831619 -3.061597    11  24.322372        3  21.410419\n",
       "1  1.532263  0.100582    23  20.005085        6  21.547585\n",
       "2 -0.896022  3.209286    18  22.785082        1  22.788534\n",
       "3 -0.051112  3.814629     7  16.876502        4  16.851084\n",
       "4  0.674664  2.271453     4  18.432830        4  18.596155"
      ]
     },
     "execution_count": 184,
     "metadata": {},
     "output_type": "execute_result"
    }
   ],
   "source": [
    "test_data.head()"
   ]
  },
  {
   "cell_type": "code",
   "execution_count": 185,
   "metadata": {},
   "outputs": [
    {
     "data": {
      "image/png": "[encoded data removed]",
      "text/plain": [
       "<Figure size 432x288 with 1 Axes>"
      ]
     },
     "metadata": {
      "needs_background": "light"
     },
     "output_type": "display_data"
    }
   ],
   "source": [
    "%matplotlib inline\n",
    "test_data[:500].plot.scatter(x='humidity', y='predicted');"
   ]
  },
  {
   "cell_type": "markdown",
   "metadata": {},
   "source": [
    "Our prediction strongly correlates with the measured humidity."
   ]
  },
  {
   "cell_type": "code",
   "execution_count": 186,
   "metadata": {},
   "outputs": [],
   "source": [
    "test_data['diff'] = test_data['humidity'] - test_data['predicted']"
   ]
  },
  {
   "cell_type": "code",
   "execution_count": 187,
   "metadata": {},
   "outputs": [
    {
     "data": {
      "image/png": "[encoded data removed]",
      "text/plain": [
       "<Figure size 432x288 with 1 Axes>"
      ]
     },
     "metadata": {
      "needs_background": "light"
     },
     "output_type": "display_data"
    }
   ],
   "source": [
    "test_data['diff'].hist(bins=100);"
   ]
  },
  {
   "cell_type": "markdown",
   "metadata": {},
   "source": [
    "And also, the error distribution is truly convincing. The remaining error is almost perfectly Gaussian."
   ]
  },
  {
   "cell_type": "code",
   "execution_count": 193,
   "metadata": {},
   "outputs": [
    {
     "data": {
      "image/png": "[encoded data removed]",
      "text/plain": [
       "<Figure size 864x432 with 2 Axes>"
      ]
     },
     "metadata": {
      "needs_background": "light"
     },
     "output_type": "display_data"
    }
   ],
   "source": [
    "from matplotlib import pyplot as plt\n",
    "plt.figure(figsize=(12,6))\n",
    "sns.heatmap(test_data.pivot_table(\n",
    "    index='weekday', columns='hour', \n",
    "    values='predicted', aggfunc='mean'), cmap='BuPu');"
   ]
  },
  {
   "cell_type": "markdown",
   "metadata": {},
   "source": [
    "The heatmap of predictions, averaged over $\\beta_1$ and $\\beta_2$ clearly shows that the model has figured out the anomaly that can be observed Mon-Wed between 18:00 and 21:00 and Fri-Sat between 14:00 and 16:00 hours."
   ]
  },
  {
   "cell_type": "code",
   "execution_count": null,
   "metadata": {},
   "outputs": [],
   "source": []
  }
 ],
 "metadata": {
  "kernelspec": {
   "display_name": "Python 3",
   "language": "python",
   "name": "python3"
  },
  "language_info": {
   "codemirror_mode": {
    "name": "ipython",
    "version": 3
   },
   "file_extension": ".py",
   "mimetype": "text/x-python",
   "name": "python",
   "nbconvert_exporter": "python",
   "pygments_lexer": "ipython3",
   "version": "3.5.3"
  }
 },
 "nbformat": 4,
 "nbformat_minor": 2
}
