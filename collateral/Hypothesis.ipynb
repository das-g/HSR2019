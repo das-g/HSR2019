{
 "cells": [
  {
   "cell_type": "code",
   "execution_count": 1,
   "metadata": {},
   "outputs": [
    {
     "data": {
      "text/plain": [
       "'1.13.1'"
      ]
     },
     "execution_count": 1,
     "metadata": {},
     "output_type": "execute_result"
    }
   ],
   "source": [
    "from training_functions import make_tfr_input_fn\n",
    "import tensorflow as tf\n",
    "tf.__version__"
   ]
  },
  {
   "cell_type": "markdown",
   "metadata": {},
   "source": [
    "Take the file pattern from [Beam_Pipelines.ipynb](Beam_Pipelines.ipynb):"
   ]
  },
  {
   "cell_type": "code",
   "execution_count": 2,
   "metadata": {},
   "outputs": [
    {
     "data": {
      "text/plain": [
       "'/tmp/tmpqmz6u8ab/training.tfr-*'"
      ]
     },
     "execution_count": 2,
     "metadata": {},
     "output_type": "execute_result"
    }
   ],
   "source": [
    "from temp_dir import temp_dir\n",
    "import os\n",
    "file_pattern = os.path.join(temp_dir, \"training.tfr-*\")\n",
    "file_pattern"
   ]
  },
  {
   "cell_type": "markdown",
   "metadata": {},
   "source": [
    "When we call ```train_input_fn```, we'll get a tensor that iterates through the training files and gets a new batch of records out of it each time it is being evaluated. In the end we will pass ```train_input_fn``` to the estimator, so that it can create the computational graph for the input stream within its own session and graph context."
   ]
  },
  {
   "cell_type": "code",
   "execution_count": 3,
   "metadata": {},
   "outputs": [],
   "source": [
    "train_input_fn = make_tfr_input_fn(\n",
    "    filename_pattern=file_pattern,\n",
    "    batch_size=1000, \n",
    "    options={'num_epochs': None,  # repeat infinitely\n",
    "             'shuffle_buffer_size': 1000,\n",
    "             'prefetch_buffer_size': 1000,\n",
    "             'reader_num_threads': 10,\n",
    "             'parser_num_threads': 10,\n",
    "             'sloppy_ordering': True,\n",
    "             'distribute': False})"
   ]
  },
  {
   "cell_type": "markdown",
   "metadata": {},
   "source": [
    "---\n",
    "Here, we take the tensors that provide the input stream and create an input layer from it, like described in detail in [Input_Functions.ipynb](Input_Functions.ipynb). Then we create a single ```Dense``` layer, that in essence provides the hypothesis function - a linear regression model for predicting the humidity from the the full $170$-dimensional input:\n",
    "\n",
    "$$\n",
    "h(\\beta_1, \\beta_2, \\vartheta_1, \\vartheta_2, \\dots, \\vartheta_{168} ) \n",
    "= (A_1, A_2, B_1, B_2, \\dots, B_{168}) \\cdot\n",
    "\\left( \n",
    "\\begin {array} {c}\n",
    "\\beta_1 \\\\\n",
    "\\beta_2 \\\\\n",
    "\\vartheta_1 \\\\\n",
    "\\vartheta_2 \\\\\n",
    "\\dots \\\\\n",
    "\\vartheta_{168} \n",
    "\\end{array}\n",
    "\\right) + C\n",
    "$$\n",
    "\n",
    "$\\vartheta_i$ are the components of the one-hot encoded $168$-dimensional vector for the hour-of-the-week."
   ]
  },
  {
   "cell_type": "code",
   "execution_count": 4,
   "metadata": {},
   "outputs": [
    {
     "name": "stdout",
     "output_type": "stream",
     "text": [
      "WARNING:tensorflow:From /home/wgiersche/workspace/venv3/lib/python3.5/site-packages/tensorflow/python/feature_column/feature_column.py:205: NumericColumn._get_dense_tensor (from tensorflow.python.feature_column.feature_column_v2) is deprecated and will be removed after 2018-11-30.\n",
      "Instructions for updating:\n",
      "The old _FeatureColumn APIs are being deprecated. Please use the new FeatureColumn APIs instead.\n",
      "WARNING:tensorflow:From /home/wgiersche/workspace/venv3/lib/python3.5/site-packages/tensorflow/python/feature_column/feature_column.py:2121: NumericColumn._transform_feature (from tensorflow.python.feature_column.feature_column_v2) is deprecated and will be removed after 2018-11-30.\n",
      "Instructions for updating:\n",
      "The old _FeatureColumn APIs are being deprecated. Please use the new FeatureColumn APIs instead.\n",
      "WARNING:tensorflow:From /home/wgiersche/workspace/venv3/lib/python3.5/site-packages/tensorflow/python/feature_column/feature_column_v2.py:2703: to_float (from tensorflow.python.ops.math_ops) is deprecated and will be removed in a future version.\n",
      "Instructions for updating:\n",
      "Use tf.cast instead.\n",
      "WARNING:tensorflow:From /home/wgiersche/workspace/venv3/lib/python3.5/site-packages/tensorflow/python/feature_column/feature_column.py:206: NumericColumn._variable_shape (from tensorflow.python.feature_column.feature_column_v2) is deprecated and will be removed after 2018-11-30.\n",
      "Instructions for updating:\n",
      "The old _FeatureColumn APIs are being deprecated. Please use the new FeatureColumn APIs instead.\n",
      "WARNING:tensorflow:From /home/wgiersche/workspace/venv3/lib/python3.5/site-packages/tensorflow/python/feature_column/feature_column.py:205: IndicatorColumn._get_dense_tensor (from tensorflow.python.feature_column.feature_column_v2) is deprecated and will be removed after 2018-11-30.\n",
      "Instructions for updating:\n",
      "The old _FeatureColumn APIs are being deprecated. Please use the new FeatureColumn APIs instead.\n",
      "WARNING:tensorflow:From /home/wgiersche/workspace/venv3/lib/python3.5/site-packages/tensorflow/python/feature_column/feature_column.py:2121: IndicatorColumn._transform_feature (from tensorflow.python.feature_column.feature_column_v2) is deprecated and will be removed after 2018-11-30.\n",
      "Instructions for updating:\n",
      "The old _FeatureColumn APIs are being deprecated. Please use the new FeatureColumn APIs instead.\n",
      "WARNING:tensorflow:From /home/wgiersche/workspace/venv3/lib/python3.5/site-packages/tensorflow/python/feature_column/feature_column_v2.py:4295: CrossedColumn._get_sparse_tensors (from tensorflow.python.feature_column.feature_column_v2) is deprecated and will be removed after 2018-11-30.\n",
      "Instructions for updating:\n",
      "The old _FeatureColumn APIs are being deprecated. Please use the new FeatureColumn APIs instead.\n",
      "WARNING:tensorflow:From /home/wgiersche/workspace/venv3/lib/python3.5/site-packages/tensorflow/python/feature_column/feature_column.py:2121: CrossedColumn._transform_feature (from tensorflow.python.feature_column.feature_column_v2) is deprecated and will be removed after 2018-11-30.\n",
      "Instructions for updating:\n",
      "The old _FeatureColumn APIs are being deprecated. Please use the new FeatureColumn APIs instead.\n",
      "WARNING:tensorflow:From /home/wgiersche/workspace/venv3/lib/python3.5/site-packages/tensorflow/python/feature_column/feature_column_v2.py:4115: IdentityCategoricalColumn._get_sparse_tensors (from tensorflow.python.feature_column.feature_column_v2) is deprecated and will be removed after 2018-11-30.\n",
      "Instructions for updating:\n",
      "The old _FeatureColumn APIs are being deprecated. Please use the new FeatureColumn APIs instead.\n",
      "WARNING:tensorflow:From /home/wgiersche/workspace/venv3/lib/python3.5/site-packages/tensorflow/python/feature_column/feature_column.py:2121: IdentityCategoricalColumn._transform_feature (from tensorflow.python.feature_column.feature_column_v2) is deprecated and will be removed after 2018-11-30.\n",
      "Instructions for updating:\n",
      "The old _FeatureColumn APIs are being deprecated. Please use the new FeatureColumn APIs instead.\n",
      "WARNING:tensorflow:From /home/wgiersche/workspace/venv3/lib/python3.5/site-packages/tensorflow/python/feature_column/feature_column_v2.py:3828: to_int64 (from tensorflow.python.ops.math_ops) is deprecated and will be removed in a future version.\n",
      "Instructions for updating:\n",
      "Use tf.cast instead.\n",
      "WARNING:tensorflow:From /home/wgiersche/workspace/venv3/lib/python3.5/site-packages/tensorflow/python/ops/control_flow_ops.py:3632: colocate_with (from tensorflow.python.framework.ops) is deprecated and will be removed in a future version.\n",
      "Instructions for updating:\n",
      "Colocations handled automatically by placer.\n",
      "WARNING:tensorflow:From /home/wgiersche/workspace/venv3/lib/python3.5/site-packages/tensorflow/python/feature_column/feature_column_v2.py:4266: IndicatorColumn._variable_shape (from tensorflow.python.feature_column.feature_column_v2) is deprecated and will be removed after 2018-11-30.\n",
      "Instructions for updating:\n",
      "The old _FeatureColumn APIs are being deprecated. Please use the new FeatureColumn APIs instead.\n",
      "WARNING:tensorflow:From /home/wgiersche/workspace/venv3/lib/python3.5/site-packages/tensorflow/python/feature_column/feature_column_v2.py:4321: CrossedColumn._num_buckets (from tensorflow.python.feature_column.feature_column_v2) is deprecated and will be removed after 2018-11-30.\n",
      "Instructions for updating:\n",
      "The old _FeatureColumn APIs are being deprecated. Please use the new FeatureColumn APIs instead.\n"
     ]
    }
   ],
   "source": [
    "from training_functions import input_layer\n",
    "features, measured_humidity = train_input_fn()\n",
    "my_input_layer = input_layer(features)\n",
    "\n",
    "linreg = tf.layers.Dense(name=\"LinReg\", units=1)\n",
    "hypothesis=linreg(my_input_layer)"
   ]
  },
  {
   "cell_type": "code",
   "execution_count": 5,
   "metadata": {},
   "outputs": [
    {
     "data": {
      "text/plain": [
       "(<tf.Tensor 'input_layer/concat:0' shape=(1000, 170) dtype=float32>,\n",
       " <tf.Tensor 'LinReg/BiasAdd:0' shape=(1000, 1) dtype=float32>)"
      ]
     },
     "execution_count": 5,
     "metadata": {},
     "output_type": "execute_result"
    }
   ],
   "source": [
    "my_input_layer, hypothesis"
   ]
  },
  {
   "cell_type": "markdown",
   "metadata": {},
   "source": [
    "When we evaluate the hypothesis, the computational graph will now *magically* draw on batch of 1000 records from the given input file, pass it through to the hypothesis function to arrive at 1000 1-dimensional predicions - one prediction for each of the records in the current batch."
   ]
  },
  {
   "cell_type": "code",
   "execution_count": 6,
   "metadata": {},
   "outputs": [],
   "source": [
    "init = tf.global_variables_initializer()\n",
    "with tf.Session() as sess:\n",
    "    sess.run(init)\n",
    "    out1 = sess.run(hypothesis)"
   ]
  },
  {
   "cell_type": "code",
   "execution_count": 7,
   "metadata": {},
   "outputs": [
    {
     "data": {
      "text/plain": [
       "(1000, 1)"
      ]
     },
     "execution_count": 7,
     "metadata": {},
     "output_type": "execute_result"
    }
   ],
   "source": [
    "out1.shape"
   ]
  },
  {
   "cell_type": "markdown",
   "metadata": {},
   "source": [
    "---\n",
    "We can actually see the variables used in the ```Dense``` layer used in the hyptothesis:"
   ]
  },
  {
   "cell_type": "code",
   "execution_count": 8,
   "metadata": {},
   "outputs": [],
   "source": [
    "variables = hypothesis.graph.get_collection(tf.GraphKeys.TRAINABLE_VARIABLES)\n",
    "kernel, bias = variables[:2]"
   ]
  },
  {
   "cell_type": "code",
   "execution_count": 9,
   "metadata": {},
   "outputs": [
    {
     "data": {
      "text/plain": [
       "array([[ 0.06521434, -0.10402642, -0.01323134,  0.10595527,  0.1328049 ,\n",
       "        -0.18131183,  0.14806017,  0.15465802, -0.12350269, -0.00719681,\n",
       "        -0.04171449, -0.04029652,  0.04115351,  0.16573974, -0.06483188,\n",
       "        -0.14765114, -0.07039288,  0.17773941,  0.17429826, -0.07648033,\n",
       "        -0.00978351,  0.02678879,  0.07133216, -0.0317212 ],\n",
       "       [ 0.01109928,  0.03211939, -0.07110011,  0.10024449, -0.12145597,\n",
       "        -0.15028816, -0.10167409,  0.10753536,  0.16905141,  0.10301551,\n",
       "         0.01537775, -0.09934334, -0.06032315,  0.16834912,  0.1376606 ,\n",
       "         0.00285935, -0.03789967, -0.00452437, -0.09303669, -0.16325115,\n",
       "         0.03105399, -0.09547923, -0.07979932, -0.15708451],\n",
       "       [ 0.0215718 , -0.00790815, -0.16041337,  0.12761524,  0.18718019,\n",
       "        -0.14144632, -0.18424006, -0.18566975, -0.07759835,  0.13299936,\n",
       "         0.06732535,  0.1607154 , -0.00644286,  0.1681262 ,  0.15530628,\n",
       "         0.00066195, -0.12191222,  0.1862557 , -0.18236813, -0.18581012,\n",
       "         0.01341847,  0.08159903, -0.01992939, -0.01710992],\n",
       "       [-0.01108047, -0.0102741 , -0.05171093, -0.10415205,  0.0693737 ,\n",
       "         0.07664201,  0.16824913, -0.12776262,  0.03995511, -0.09501182,\n",
       "         0.0788272 ,  0.17095557, -0.01070943, -0.09904841,  0.02268919,\n",
       "        -0.07477643, -0.1512485 ,  0.1551213 , -0.08522402, -0.04584087,\n",
       "         0.00667617,  0.08357134, -0.13919751, -0.03460959],\n",
       "       [ 0.14385942, -0.08207675,  0.1652245 , -0.13942559,  0.07623586,\n",
       "        -0.05414896, -0.08373345, -0.07904247, -0.12867206,  0.05181642,\n",
       "        -0.18120965,  0.13845035, -0.00526857,  0.01379147,  0.11120316,\n",
       "        -0.10307311,  0.07640788,  0.04535672, -0.00739305, -0.04100609,\n",
       "         0.08794284, -0.08526543, -0.1660636 , -0.01387864],\n",
       "       [ 0.1678366 ,  0.18089351,  0.02239256, -0.11804476,  0.11921328,\n",
       "        -0.14990914, -0.17658915, -0.1108593 , -0.18380252,  0.18238032,\n",
       "         0.09948877,  0.05626079,  0.15285242, -0.02778471, -0.08329579,\n",
       "        -0.0940816 ,  0.09030765,  0.08214897, -0.0497417 , -0.00652562,\n",
       "        -0.17327878, -0.04421137,  0.1827577 ,  0.1003595 ],\n",
       "       [ 0.14583027, -0.11711185,  0.12429371,  0.06030519, -0.1531042 ,\n",
       "         0.08340994, -0.06185511,  0.11696175,  0.05473725, -0.01341923,\n",
       "         0.18371937,  0.07475123, -0.09862833, -0.00585304, -0.01178324,\n",
       "         0.11637589,  0.09208217, -0.18011098,  0.11238328, -0.08315176,\n",
       "         0.10833436,  0.03277388, -0.15867257,  0.17119509]],\n",
       "      dtype=float32)"
      ]
     },
     "execution_count": 9,
     "metadata": {},
     "output_type": "execute_result"
    }
   ],
   "source": [
    "with tf.Session() as sess:\n",
    "    sess.run(init)\n",
    "    A170 = sess.run(kernel)\n",
    "A170[2:].reshape([7,24])"
   ]
  },
  {
   "cell_type": "markdown",
   "metadata": {},
   "source": [
    "---\n",
    "Now, we can manually adjust these parameters such that the predictions of the hypothesis are as close as possible to the humidity values that have actually been measured. For that, we compute the sum of the squared differences between each prediction and the measured humidity. "
   ]
  },
  {
   "cell_type": "code",
   "execution_count": 10,
   "metadata": {},
   "outputs": [
    {
     "data": {
      "text/plain": [
       "(<tf.Tensor 'IteratorGetNext:4' shape=(1000, 1) dtype=float32>,\n",
       " <tf.Tensor 'LinReg/BiasAdd:0' shape=(1000, 1) dtype=float32>)"
      ]
     },
     "execution_count": 10,
     "metadata": {},
     "output_type": "execute_result"
    }
   ],
   "source": [
    "measured_humidity, hypothesis"
   ]
  },
  {
   "cell_type": "code",
   "execution_count": 11,
   "metadata": {},
   "outputs": [
    {
     "data": {
      "text/plain": [
       "<tf.Tensor 'Mean:0' shape=() dtype=float32>"
      ]
     },
     "execution_count": 11,
     "metadata": {},
     "output_type": "execute_result"
    }
   ],
   "source": [
    "loss = tf.reduce_mean((hypothesis-measured_humidity)**2)\n",
    "loss"
   ]
  },
  {
   "cell_type": "markdown",
   "metadata": {},
   "source": [
    "One of the strengths of using an ML framework is that it usually provides means to easily compute gradients. With Tensorflow, it's as easy as the following:"
   ]
  },
  {
   "cell_type": "code",
   "execution_count": 12,
   "metadata": {},
   "outputs": [],
   "source": [
    "grad_k, grad_b = tf.gradients(loss, [kernel, bias])"
   ]
  },
  {
   "cell_type": "code",
   "execution_count": 13,
   "metadata": {},
   "outputs": [
    {
     "data": {
      "text/plain": [
       "(<tf.Tensor 'gradients/LinReg/MatMul_grad/MatMul_1:0' shape=(170, 1) dtype=float32>,\n",
       " <tf.Tensor 'gradients/LinReg/BiasAdd_grad/BiasAddGrad:0' shape=(1,) dtype=float32>)"
      ]
     },
     "execution_count": 13,
     "metadata": {},
     "output_type": "execute_result"
    }
   ],
   "source": [
    "grad_k, grad_b"
   ]
  },
  {
   "cell_type": "code",
   "execution_count": 14,
   "metadata": {},
   "outputs": [],
   "source": [
    "learning_rate = 1e-1"
   ]
  },
  {
   "cell_type": "code",
   "execution_count": 15,
   "metadata": {},
   "outputs": [],
   "source": [
    "update_k = tf.assign_sub(kernel, grad_k * learning_rate)\n",
    "update_b = tf.assign_sub(bias, grad_b * learning_rate)"
   ]
  },
  {
   "cell_type": "markdown",
   "metadata": {},
   "source": [
    "In mathematical terms, what we do is:\n",
    "$$\n",
    "A \\leftarrow A - \\varepsilon \\cdot \\frac{\\partial}{\\partial A} \n",
    "L(\\vec{\\beta}, \\vec{\\vartheta},  \\vec{A}, \\vec{B}, C)\n",
    "$$\n",
    "\n",
    "$$\n",
    "B \\leftarrow B - \\varepsilon \\cdot \\frac{\\partial}{\\partial B} \n",
    "L(\\vec{\\beta}, \\vec{\\vartheta},  \\vec{A}, \\vec{B}, C)\n",
    "$$\n",
    "\n",
    "$$\n",
    "C \\leftarrow C - \\varepsilon \\cdot \\frac{\\partial}{\\partial C} \n",
    "L(\\vec{\\beta}, \\vec{\\vartheta},  \\vec{A}, \\vec{B}, C)\n",
    "$$\n",
    "\n",
    "with $A$,$B$ being the *weight* parameters for $\\beta_i$ and $\\vartheta_i$, resp., $\\varepsilon$ being the learning rate, and\n",
    "$L$ being the mean squared error ```loss``` as defined above. Computationally, evaluating ```update_k``` will have the *side effect* of changing the value of variables ```A``` and ```B``` and ```update_b``` will do that with ```C```.\n",
    "\n",
    "In short: We tweek all parameters with the help of their respective gradients."
   ]
  },
  {
   "cell_type": "markdown",
   "metadata": {},
   "source": [
    "Now, all we need to do is continously evaluate the ```update_b``` and ```update_k``` tensors and take note of the monotonously decreasing loss.\n",
    "\n",
    "Remember: The loss is the difference between the prediction and the *reality*, the smaller it is, the better is my hypothesis."
   ]
  },
  {
   "cell_type": "code",
   "execution_count": 16,
   "metadata": {},
   "outputs": [
    {
     "name": "stdout",
     "output_type": "stream",
     "text": [
      "415.88687\n",
      "410.41013\n",
      "26.742102\n",
      "20.246262\n",
      "15.916898\n",
      "14.252321\n",
      "11.804247\n",
      "10.278976\n",
      "8.534033\n",
      "8.502633\n",
      "7.5925164\n",
      "8.370838\n"
     ]
    }
   ],
   "source": [
    "init = tf.global_variables_initializer()\n",
    "with tf.Session() as sess:\n",
    "    sess.run(init)\n",
    "    l = sess.run(loss)\n",
    "    print(l)\n",
    "    for i in range(101):\n",
    "        l, k, b, _, _ = sess.run([loss, kernel, bias, update_b, update_k])\n",
    "        if i % 10 == 0:\n",
    "            print(l)"
   ]
  },
  {
   "cell_type": "markdown",
   "metadata": {},
   "source": [
    "### Using Optimizers\n",
    "Typically in Tensorflow, we don't do the gradient update ourselves. That's done by a special breed called *optimizers*. And some of them are particularly efficient in certain areas. As an example, we see the adaptive-momentum *ADAM* optimizer below. The inner workings of it are subject to ML lessions, but if you're too curious to stop here, the following link leads you to this well-known publication.\n",
    "\n",
    "[Kingma, Ba 2014 - Adam: A Method for Stochastic Optimization](https://arxiv.org/abs/1412.6980)"
   ]
  },
  {
   "cell_type": "code",
   "execution_count": 17,
   "metadata": {},
   "outputs": [],
   "source": [
    "features, measured_humidity = train_input_fn()\n",
    "my_input_layer = input_layer(features)\n",
    "\n",
    "linreg = tf.layers.Dense(name=\"LinReg\", units=1)\n",
    "hypothesis=linreg(my_input_layer)\n",
    "\n",
    "loss = tf.reduce_mean((hypothesis-measured_humidity)**2)"
   ]
  },
  {
   "cell_type": "code",
   "execution_count": 18,
   "metadata": {},
   "outputs": [],
   "source": [
    "optimizer = tf.train.AdamOptimizer(learning_rate=1e-0)\n",
    "train = optimizer.minimize(loss)"
   ]
  },
  {
   "cell_type": "code",
   "execution_count": 19,
   "metadata": {},
   "outputs": [
    {
     "name": "stdout",
     "output_type": "stream",
     "text": [
      "406.83093\n",
      "3.4849946\n"
     ]
    }
   ],
   "source": [
    "init = tf.global_variables_initializer()\n",
    "with tf.Session() as sess:\n",
    "    sess.run(init)\n",
    "    l = sess.run(loss)\n",
    "    print(l)\n",
    "    for i in range(100):\n",
    "        l, k, b, _ = sess.run([loss, kernel, bias, train])\n",
    "    print(l)"
   ]
  },
  {
   "cell_type": "code",
   "execution_count": null,
   "metadata": {},
   "outputs": [],
   "source": []
  }
 ],
 "metadata": {
  "kernelspec": {
   "display_name": "Python 3",
   "language": "python",
   "name": "python3"
  },
  "language_info": {
   "codemirror_mode": {
    "name": "ipython",
    "version": 3
   },
   "file_extension": ".py",
   "mimetype": "text/x-python",
   "name": "python",
   "nbconvert_exporter": "python",
   "pygments_lexer": "ipython3",
   "version": "3.5.3"
  }
 },
 "nbformat": 4,
 "nbformat_minor": 2
}
