{
 "cells": [
  {
   "cell_type": "code",
   "execution_count": 1,
   "metadata": {},
   "outputs": [],
   "source": [
    "%load_ext autoreload\n",
    "%autoreload 2"
   ]
  },
  {
   "cell_type": "code",
   "execution_count": 2,
   "metadata": {},
   "outputs": [],
   "source": [
    "from __future__ import (print_function, division, absolute_import)"
   ]
  },
  {
   "cell_type": "code",
   "execution_count": 3,
   "metadata": {},
   "outputs": [],
   "source": [
    "import numpy as np\n",
    "import pandas as pd\n",
    "import matplotlib.pyplot as plt"
   ]
  },
  {
   "cell_type": "markdown",
   "metadata": {},
   "source": [
    "# Introduction to Tensorflow \n",
    "\n",
    "## Preface\n",
    "Data engineering makes up for most of the hard work around machine learning. Although we're not attempting to do the data scientists' jobs here, we still need to understand what they're doing to be able to support them best. That's why we'll touch machine learning concepts here. Deliberately, I'll be using *gradient descent* without explaining it. You'll hear about that in later lectures on the subject. What matters here is  that it teaches us about the advanced capabilities available in the chosen technology stack and it provides us a use case that's interesting enough to experience the fun in data engineering.\n",
    "\n",
    "In part II, I'll be getting into some *feature engineering*, which lives in the border area between machine learning and data engineering.\n",
    "\n",
    "# Part I: A toy problem\n",
    "![Baking Powder Machine](../images/baking-powder-packing-machine-500x500.jpg)\n",
    "\n",
    "Let's assume we are responsible for a machine that produces a particular powder ingredient for baking. And we found it little surprising to hear that the quality of the output depends on the humidity within the last inches of the output pipe. Indeed, at certain humidity levels the probability of the product clumping together or sticking to the pipe increased. It's our job to find out what to do. \n",
    "\n",
    "The machine we're talking about has two technical and somewhat mysterious parameters $\\beta_1$ and $\\beta_2$ that can be measured and tuned. We suspect that the humidity is somehow influenced by these parameters and you are supposed to prove it now. \n",
    "\n",
    "A reasonable first hypothesis could be written in mathematical terms as:\n",
    "\n",
    "$$\n",
    "h= A_1 \\cdot \\beta_1 + A_2 \\cdot \\beta_2 + C\n",
    "$$\n",
    "\n",
    "where $h$ is the measured humidity, and $A_1, A_2$ and $C$ are three model parameters that we need to compute now. Any non-zero value for $A_1, A_2$ will confirm our suspicion.\n",
    "\n",
    "Here's how we take some measurements. Note that we also recorded the weekday and the hour of the day when the measurement took place. At this point in time we consider them irrelevant. In the second part of this exercise though, we'll see that they can actually be meaningfully included in the analysis."
   ]
  },
  {
   "cell_type": "markdown",
   "metadata": {},
   "source": [
    "### Data first\n",
    "\n",
    "```measure(N) ``` creates a [pandas](https://pandas.pydata.org/) data frame with $N$ measurement records in it."
   ]
  },
  {
   "cell_type": "code",
   "execution_count": 4,
   "metadata": {},
   "outputs": [],
   "source": [
    "from measurements import measure"
   ]
  },
  {
   "cell_type": "code",
   "execution_count": 5,
   "metadata": {},
   "outputs": [
    {
     "data": {
      "text/html": [
       "<div>\n",
       "<style scoped>\n",
       "    .dataframe tbody tr th:only-of-type {\n",
       "        vertical-align: middle;\n",
       "    }\n",
       "\n",
       "    .dataframe tbody tr th {\n",
       "        vertical-align: top;\n",
       "    }\n",
       "\n",
       "    .dataframe thead th {\n",
       "        text-align: right;\n",
       "    }\n",
       "</style>\n",
       "<table border=\"1\" class=\"dataframe\">\n",
       "  <thead>\n",
       "    <tr style=\"text-align: right;\">\n",
       "      <th></th>\n",
       "      <th>beta1</th>\n",
       "      <th>beta2</th>\n",
       "      <th>weekday</th>\n",
       "      <th>hour</th>\n",
       "      <th>humidity</th>\n",
       "    </tr>\n",
       "  </thead>\n",
       "  <tbody>\n",
       "    <tr>\n",
       "      <th>0</th>\n",
       "      <td>0.554722</td>\n",
       "      <td>-2.717766</td>\n",
       "      <td>4</td>\n",
       "      <td>15</td>\n",
       "      <td>31.838818</td>\n",
       "    </tr>\n",
       "    <tr>\n",
       "      <th>1</th>\n",
       "      <td>2.680896</td>\n",
       "      <td>-2.721429</td>\n",
       "      <td>0</td>\n",
       "      <td>5</td>\n",
       "      <td>25.255434</td>\n",
       "    </tr>\n",
       "    <tr>\n",
       "      <th>2</th>\n",
       "      <td>2.965714</td>\n",
       "      <td>3.066438</td>\n",
       "      <td>3</td>\n",
       "      <td>22</td>\n",
       "      <td>20.807409</td>\n",
       "    </tr>\n",
       "    <tr>\n",
       "      <th>3</th>\n",
       "      <td>3.366831</td>\n",
       "      <td>4.983294</td>\n",
       "      <td>0</td>\n",
       "      <td>0</td>\n",
       "      <td>22.476067</td>\n",
       "    </tr>\n",
       "    <tr>\n",
       "      <th>4</th>\n",
       "      <td>1.305028</td>\n",
       "      <td>-0.828419</td>\n",
       "      <td>0</td>\n",
       "      <td>6</td>\n",
       "      <td>21.789912</td>\n",
       "    </tr>\n",
       "  </tbody>\n",
       "</table>\n",
       "</div>"
      ],
      "text/plain": [
       "      beta1     beta2  weekday  hour   humidity\n",
       "0  0.554722 -2.717766        4    15  31.838818\n",
       "1  2.680896 -2.721429        0     5  25.255434\n",
       "2  2.965714  3.066438        3    22  20.807409\n",
       "3  3.366831  4.983294        0     0  22.476067\n",
       "4  1.305028 -0.828419        0     6  21.789912"
      ]
     },
     "execution_count": 5,
     "metadata": {},
     "output_type": "execute_result"
    }
   ],
   "source": [
    "data = measure(5)\n",
    "data.head()"
   ]
  },
  {
   "cell_type": "code",
   "execution_count": 6,
   "metadata": {},
   "outputs": [
    {
     "data": {
      "text/html": [
       "<div>\n",
       "<style scoped>\n",
       "    .dataframe tbody tr th:only-of-type {\n",
       "        vertical-align: middle;\n",
       "    }\n",
       "\n",
       "    .dataframe tbody tr th {\n",
       "        vertical-align: top;\n",
       "    }\n",
       "\n",
       "    .dataframe thead th {\n",
       "        text-align: right;\n",
       "    }\n",
       "</style>\n",
       "<table border=\"1\" class=\"dataframe\">\n",
       "  <thead>\n",
       "    <tr style=\"text-align: right;\">\n",
       "      <th></th>\n",
       "      <th>beta1</th>\n",
       "      <th>beta2</th>\n",
       "      <th>weekday</th>\n",
       "      <th>hour</th>\n",
       "      <th>humidity</th>\n",
       "    </tr>\n",
       "  </thead>\n",
       "  <tbody>\n",
       "    <tr>\n",
       "      <th>count</th>\n",
       "      <td>10000.000000</td>\n",
       "      <td>10000.000000</td>\n",
       "      <td>10000.000000</td>\n",
       "      <td>10000.000000</td>\n",
       "      <td>10000.000000</td>\n",
       "    </tr>\n",
       "    <tr>\n",
       "      <th>mean</th>\n",
       "      <td>0.018127</td>\n",
       "      <td>-0.013720</td>\n",
       "      <td>2.997200</td>\n",
       "      <td>11.524300</td>\n",
       "      <td>19.379757</td>\n",
       "    </tr>\n",
       "    <tr>\n",
       "      <th>std</th>\n",
       "      <td>2.904250</td>\n",
       "      <td>2.881043</td>\n",
       "      <td>2.023858</td>\n",
       "      <td>6.899273</td>\n",
       "      <td>6.625435</td>\n",
       "    </tr>\n",
       "    <tr>\n",
       "      <th>min</th>\n",
       "      <td>-4.999572</td>\n",
       "      <td>-4.999997</td>\n",
       "      <td>0.000000</td>\n",
       "      <td>0.000000</td>\n",
       "      <td>3.064221</td>\n",
       "    </tr>\n",
       "    <tr>\n",
       "      <th>25%</th>\n",
       "      <td>-2.476813</td>\n",
       "      <td>-2.511772</td>\n",
       "      <td>1.000000</td>\n",
       "      <td>6.000000</td>\n",
       "      <td>14.082443</td>\n",
       "    </tr>\n",
       "    <tr>\n",
       "      <th>50%</th>\n",
       "      <td>-0.011195</td>\n",
       "      <td>-0.041106</td>\n",
       "      <td>3.000000</td>\n",
       "      <td>12.000000</td>\n",
       "      <td>19.329669</td>\n",
       "    </tr>\n",
       "    <tr>\n",
       "      <th>75%</th>\n",
       "      <td>2.548547</td>\n",
       "      <td>2.453199</td>\n",
       "      <td>5.000000</td>\n",
       "      <td>17.000000</td>\n",
       "      <td>24.448170</td>\n",
       "    </tr>\n",
       "    <tr>\n",
       "      <th>max</th>\n",
       "      <td>4.999355</td>\n",
       "      <td>4.999401</td>\n",
       "      <td>6.000000</td>\n",
       "      <td>23.000000</td>\n",
       "      <td>41.752937</td>\n",
       "    </tr>\n",
       "  </tbody>\n",
       "</table>\n",
       "</div>"
      ],
      "text/plain": [
       "              beta1         beta2       weekday          hour      humidity\n",
       "count  10000.000000  10000.000000  10000.000000  10000.000000  10000.000000\n",
       "mean       0.018127     -0.013720      2.997200     11.524300     19.379757\n",
       "std        2.904250      2.881043      2.023858      6.899273      6.625435\n",
       "min       -4.999572     -4.999997      0.000000      0.000000      3.064221\n",
       "25%       -2.476813     -2.511772      1.000000      6.000000     14.082443\n",
       "50%       -0.011195     -0.041106      3.000000     12.000000     19.329669\n",
       "75%        2.548547      2.453199      5.000000     17.000000     24.448170\n",
       "max        4.999355      4.999401      6.000000     23.000000     41.752937"
      ]
     },
     "execution_count": 6,
     "metadata": {},
     "output_type": "execute_result"
    }
   ],
   "source": [
    "data = measure(10000)\n",
    "data.describe()"
   ]
  },
  {
   "cell_type": "markdown",
   "metadata": {},
   "source": [
    "### First Evidence for correlation\n",
    "Scatter plots are easily created with pandas. We can see that $\\beta_1$ has a strong correlation with the humidity and it also exhibits a particularly unusual distribution, as the field has a sharper lower edge. We'll be investigating this in part II of this exercise. With $\\beta_2$, there might indeed be a very weak negative correlation, but we can't be certain."
   ]
  },
  {
   "cell_type": "code",
   "execution_count": 7,
   "metadata": {},
   "outputs": [
    {
     "data": {
      "image/png": "[encoded data removed]",
      "text/plain": [
       "<Figure size 432x288 with 1 Axes>"
      ]
     },
     "metadata": {
      "needs_background": "light"
     },
     "output_type": "display_data"
    },
    {
     "data": {
      "image/png": "[encoded data removed]",
      "text/plain": [
       "<Figure size 432x288 with 1 Axes>"
      ]
     },
     "metadata": {
      "needs_background": "light"
     },
     "output_type": "display_data"
    }
   ],
   "source": [
    "data = measure(200)\n",
    "data.plot.scatter(x='beta1', y='humidity')\n",
    "data.plot.scatter(x='beta2', y='humidity');"
   ]
  },
  {
   "cell_type": "markdown",
   "metadata": {},
   "source": [
    "### Working with tensors"
   ]
  },
  {
   "cell_type": "markdown",
   "metadata": {},
   "source": [
    "In Tensorflow, everything is a tensor. A number is a rank-0 tensor - sometimes code-named *scalar*, A vector is a rank-1 tensor, a matrix is a rank-2 tensor and all higher-ranked tensors are just rank-n tensors.\n",
    "\n",
    "Now, we'll make the hypothesis that the correlations can be described by an *affine* function of those technical parameters $\\beta_1$ and $\\beta_2$. We simply encode this hypothesis using matrix multiplication:\n",
    "\n",
    "$$\n",
    "h(\\beta_1, \\beta_2) = (A_1, A_2) \\cdot\n",
    "\\left( \n",
    "\\begin {array} {c}\n",
    "\\beta_1 \\\\\n",
    "\\beta_2\n",
    "\\end{array}\n",
    "\\right) + C\n",
    "$$\n",
    "\n",
    "which is equivalent to saying:\n",
    "\n",
    "$$\n",
    "h(\\beta_1, \\beta_2) = A_1 \\beta_1 +  A_2 \\beta_2 + C\n",
    "$$"
   ]
  },
  {
   "cell_type": "markdown",
   "metadata": {},
   "source": [
    "Now all that's left is trying to find $A_1, A_2$ and $C$ such that the above function $h$ best reproduces the actually performed measurements for the humidity."
   ]
  },
  {
   "cell_type": "code",
   "execution_count": 8,
   "metadata": {},
   "outputs": [],
   "source": [
    "import tensorflow as tf"
   ]
  },
  {
   "cell_type": "markdown",
   "metadata": {},
   "source": [
    "```tf.Variable```s are those tensors that are meant to be tuned during an optimization process. Since we want to tweak and tune $A_1, A_2$ and $C$, we create variables for those."
   ]
  },
  {
   "cell_type": "code",
   "execution_count": 9,
   "metadata": {},
   "outputs": [
    {
     "data": {
      "text/plain": [
       "<tf.Variable 'coefficients_A:0' shape=(1, 2) dtype=float32_ref>"
      ]
     },
     "execution_count": 9,
     "metadata": {},
     "output_type": "execute_result"
    }
   ],
   "source": [
    "# A 1x2 tensor (matrix) for the coefficients A_i\n",
    "# We're starting with arbitrary values\n",
    "A = tf.Variable([[1., 2.]], name=\"coefficients_A\", dtype=tf.float32) \n",
    "A"
   ]
  },
  {
   "cell_type": "code",
   "execution_count": 10,
   "metadata": {},
   "outputs": [
    {
     "data": {
      "text/plain": [
       "<tf.Variable 'bias_C:0' shape=() dtype=float32_ref>"
      ]
     },
     "execution_count": 10,
     "metadata": {},
     "output_type": "execute_result"
    }
   ],
   "source": [
    "# A scalar tensor for the *bias* C\n",
    "C = tf.Variable(3., name=\"bias_C\", dtype=tf.float32)\n",
    "C"
   ]
  },
  {
   "cell_type": "markdown",
   "metadata": {},
   "source": [
    "You can actually look into those tensors and inspect their values with the help of a session (just ignore the initializer for the time being):"
   ]
  },
  {
   "cell_type": "code",
   "execution_count": 11,
   "metadata": {},
   "outputs": [
    {
     "name": "stdout",
     "output_type": "stream",
     "text": [
      "3.0\n",
      "[[1. 2.]]\n"
     ]
    }
   ],
   "source": [
    "with tf.Session() as session:\n",
    "    session.run(tf.global_variables_initializer())\n",
    "    print(C.eval())\n",
    "    print(A.eval())"
   ]
  },
  {
   "cell_type": "markdown",
   "metadata": {},
   "source": [
    "We use ```tf.placeholder```s for the input data and the *labels*. In machine learning, *labels* represent the *true* values. When *labels* are provided, we say that we're doing *supervised learning*. Here, the labels are the true (measured) humidity. And that's what we want the hypothesis to mimic (reproduce). The ```None``` dimension is left open intentionally as it is this dimension that accounts for the number of input records that will be processed at once."
   ]
  },
  {
   "cell_type": "code",
   "execution_count": 12,
   "metadata": {},
   "outputs": [
    {
     "data": {
      "text/plain": [
       "<tf.Tensor 'beta:0' shape=(2, ?) dtype=float32>"
      ]
     },
     "execution_count": 12,
     "metadata": {},
     "output_type": "execute_result"
    }
   ],
   "source": [
    "beta = tf.placeholder(shape=(2,None), name=\"beta\", dtype=tf.float32) \n",
    "lbls = tf.placeholder(shape=(1,None), name=\"true_humidity\", dtype=tf.float32)  \n",
    "beta"
   ]
  },
  {
   "cell_type": "markdown",
   "metadata": {},
   "source": [
    "### The hypothesis function as a computational graph"
   ]
  },
  {
   "cell_type": "markdown",
   "metadata": {},
   "source": [
    "The linear humidity hypothesis ```h``` represents a computational graph that we can actually navigate to see its branches and leaves like demonstrated below. \n",
    "\n",
    "You'll read the plus operator in the following expression\n",
    "```\n",
    "h = tf.matmul(A, beta) + C\n",
    "```\n",
    "as: take the tensor to the left, attach it to the left of a \"+\" node, then take the tensor to the right (C) and attach it to the right side of that node. Return the \"+\" node and with it the attached computational graph."
   ]
  },
  {
   "cell_type": "markdown",
   "metadata": {},
   "source": [
    "```\n",
    "h=\n",
    "         +\n",
    "      /    \\ \n",
    " matmul      C\n",
    " /    \\\n",
    "A     beta\n",
    "```"
   ]
  },
  {
   "cell_type": "code",
   "execution_count": 13,
   "metadata": {},
   "outputs": [
    {
     "name": "stdout",
     "output_type": "stream",
     "text": [
      "Tensor(\"add:0\", shape=(1, ?), dtype=float32)\n",
      "\n",
      "Tensor(\"MatMul:0\", shape=(1, ?), dtype=float32)\n",
      "\n",
      "Tensor(\"coefficients_A/read:0\", shape=(1, 2), dtype=float32)\n",
      "\n",
      "Tensor(\"beta:0\", shape=(2, ?), dtype=float32)\n"
     ]
    }
   ],
   "source": [
    "h = tf.matmul(A, beta) + C\n",
    "# h represents the + operation: the root of the tree\n",
    "print(h)\n",
    "print()\n",
    "\n",
    "# The matmul operation is the first input of the + operator\n",
    "print(h.op.inputs[0])\n",
    "print()\n",
    "\n",
    "# The coefficients A to the left of the matmul operation:\n",
    "print(h.op.inputs[0].op.inputs[0])\n",
    "print()\n",
    "\n",
    "# The input beta to the left of the matmul operation:\n",
    "print(h.op.inputs[0].op.inputs[1])"
   ]
  },
  {
   "cell_type": "markdown",
   "metadata": {},
   "source": [
    "---\n"
   ]
  },
  {
   "cell_type": "markdown",
   "metadata": {},
   "source": [
    "#### Evaluating the graph"
   ]
  },
  {
   "cell_type": "markdown",
   "metadata": {},
   "source": [
    "We use a Tensorflow session object to evaluate the computational graph at the particular values given by ```beta_input```"
   ]
  },
  {
   "cell_type": "code",
   "execution_count": 14,
   "metadata": {},
   "outputs": [],
   "source": [
    "beta_input = [list(data['beta1']), list(data['beta2'])]"
   ]
  },
  {
   "cell_type": "code",
   "execution_count": 15,
   "metadata": {},
   "outputs": [
    {
     "data": {
      "text/plain": [
       "[-4.626322198317137,\n",
       " 3.986367439389925,\n",
       " 3.1022957420784127,\n",
       " 4.061870980485809,\n",
       " -1.3706977597442727]"
      ]
     },
     "execution_count": 15,
     "metadata": {},
     "output_type": "execute_result"
    }
   ],
   "source": [
    "beta_input[0][:5]"
   ]
  },
  {
   "cell_type": "markdown",
   "metadata": {},
   "source": [
    "#### Executing the hypothesis\n",
    "It's always the same: Initialize all variables and then run the session with the desired tensor node (or a list of tensors). The graph will then resolve the dependencies transitively, compute those and work back to the root where the final result is then computed and passed as a regular number or numpy array. Resolving the placeholders required us to provide some input, which we did using the so-called ```feed_dict```. "
   ]
  },
  {
   "cell_type": "code",
   "execution_count": 16,
   "metadata": {},
   "outputs": [],
   "source": [
    "init = tf.global_variables_initializer()\n",
    "with tf.Session() as session:\n",
    "    session.run(init)\n",
    "    model_humidity = session.run(h, feed_dict={beta: beta_input })"
   ]
  },
  {
   "cell_type": "code",
   "execution_count": 17,
   "metadata": {},
   "outputs": [
    {
     "data": {
      "text/plain": [
       "[9.374038978225133,\n",
       " 27.47205376641837,\n",
       " 33.08037382334878,\n",
       " 25.446758991080515,\n",
       " 15.855467783958858]"
      ]
     },
     "execution_count": 17,
     "metadata": {},
     "output_type": "execute_result"
    }
   ],
   "source": [
    "true_humidity = list(data['humidity'])\n",
    "true_humidity[:5]"
   ]
  },
  {
   "cell_type": "code",
   "execution_count": 19,
   "metadata": {},
   "outputs": [
    {
     "data": {
      "text/plain": [
       "[(9.374038978225133, -4.484779),\n",
       " (27.47205376641837, -0.62466216),\n",
       " (33.08037382334878, -0.6906011),\n",
       " (25.446758991080515, 7.633131),\n",
       " (15.855467783958858, 2.7120261)]"
      ]
     },
     "execution_count": 19,
     "metadata": {},
     "output_type": "execute_result"
    }
   ],
   "source": [
    "list(zip(true_humidity, list(model_humidity.squeeze())))[:5]"
   ]
  },
  {
   "cell_type": "markdown",
   "metadata": {},
   "source": [
    "The results differ vastly from the true humidity - unsurprisingly so - we haven't tuned the parameters $A$ and $C$ yet.  \n",
    "\n",
    "#### Delegating execution specifics to the session\n",
    "Note that the complexity seen above makes sense because once the graph is constructed it's up to the Tensorflow runtime to find out how to compute the results in the most efficient way, taking also the available advanced system resources, such as GPUs or TPUs into account. You as a developer need not bother, just pass your graph to the session.\n",
    "\n",
    "#### All input in one go\n",
    "Note also that all the records will processed in a single go. There is no loop over the input data. Indeed all the input data forms a single $N \\times 2$ matrix with $N$ being the number of samples. That makes computation truly efficient, as GPUs and TPUs can perform thousands of mathematical operations in parallel, and there's no forth and back between the Python script interpreter and the underlying computational infrastructure."
   ]
  },
  {
   "cell_type": "markdown",
   "metadata": {},
   "source": [
    "#### Error = Distance between model and reality"
   ]
  },
  {
   "cell_type": "markdown",
   "metadata": {},
   "source": [
    "We want the model humidity to be as close as possible to the *true* humidity. To achieve that we need to measure how close the model has come to the true humidity. The mean squared error is a good candidate for that purpose, and we'll use the placeholder ```lbls``` ('labels' is commonly used in machine learning) that we introduced previously to represent the true humidity."
   ]
  },
  {
   "cell_type": "code",
   "execution_count": 20,
   "metadata": {},
   "outputs": [],
   "source": [
    "msq_error = tf.losses.mean_squared_error(h,lbls)\n",
    "\n",
    "# We need to fit the shape to the hypothesis input placeholder\n",
    "true_humidity = [true_humidity] "
   ]
  },
  {
   "cell_type": "code",
   "execution_count": 21,
   "metadata": {},
   "outputs": [
    {
     "name": "stdout",
     "output_type": "stream",
     "text": [
      "344.9021\n"
     ]
    }
   ],
   "source": [
    "with tf.Session() as session:\n",
    "    session.run(init)\n",
    "    error = session.run(msq_error, \n",
    "                        feed_dict={\n",
    "                            beta: beta_input, \n",
    "                            lbls: true_humidity })\n",
    "print(error)"
   ]
  },
  {
   "cell_type": "markdown",
   "metadata": {},
   "source": [
    "#### Tuning the parameters"
   ]
  },
  {
   "cell_type": "markdown",
   "metadata": {},
   "source": [
    "*Note: We'll use some advanced concepts that we can't cover to the full extent here. Please refer to any of the quazillions of amazing introductory sources available on the internet to get familiar with the concept of gradient descent. [This video by 3Blue1Brown talks about gradient descent in the concept of neural networks, but still it's super-easy to grasp because of its amazing visualizations](https://www.youtube.com/watch?v=IHZwWFHWa-w&t=1s)*.\n",
    "\n",
    "The *gradient* is a measure of how much the value of a function changes, when its input changes infinitesimaly. If e.g. the gradient of the distance with respect to $A_1$ is positive then that means making $A_1$ a bit smaller would also make the distance smaller. And that's exactly what we're trying to achieve. So what we'll do is iteratively substract a fraction (defined by some small learning rate epsilon $\\varepsilon$) of the gradient from the values of $A$ and $B$. And we do this in vector form."
   ]
  },
  {
   "cell_type": "code",
   "execution_count": 22,
   "metadata": {},
   "outputs": [],
   "source": [
    "epsilon = 1e-2"
   ]
  },
  {
   "cell_type": "code",
   "execution_count": 23,
   "metadata": {},
   "outputs": [],
   "source": [
    "grad_A = tf.gradients(msq_error, A)\n",
    "grad_C = tf.gradients(msq_error, C)"
   ]
  },
  {
   "cell_type": "markdown",
   "metadata": {},
   "source": [
    "Note how easy it is to calculate gradients here. It's all built into the framework. That's super-easy here, because the computational graph allows the computation of any derivative from basic principles according to the rules that we all (should've) learned in our calculus classes."
   ]
  },
  {
   "cell_type": "code",
   "execution_count": 24,
   "metadata": {},
   "outputs": [],
   "source": [
    "Tune_A = tf.assign_add( A, tf.multiply(grad_A[0], -epsilon))\n",
    "Tune_C = tf.assign_add( C, tf.multiply(grad_C[0], -epsilon))"
   ]
  },
  {
   "cell_type": "markdown",
   "metadata": {},
   "source": [
    "In mathematical terms, what we do is:\n",
    "$$\n",
    "A \\leftarrow A - \\varepsilon \\cdot \\frac{\\partial}{\\partial A} \\text{MSE}\n",
    "$$\n",
    "\n",
    "$$\n",
    "C \\leftarrow C - \\varepsilon \\cdot \\frac{\\partial}{\\partial C} \\text{MSE}\n",
    "$$\n",
    "\n",
    "with MSE being the mean squared error ```msq_error```. Computationally, evaluating ```Tune_A``` will have the *side effect* of changing the value of variable ```A``` and ```Tune_C``` will do that with ```C```."
   ]
  },
  {
   "cell_type": "markdown",
   "metadata": {},
   "source": [
    "We create some independent test data"
   ]
  },
  {
   "cell_type": "code",
   "execution_count": 25,
   "metadata": {},
   "outputs": [],
   "source": [
    "test_data = measure(20)\n",
    "test_true = [list(test_data['humidity'])]\n",
    "test_beta = [list(test_data['beta1']), list(test_data['beta2'])]"
   ]
  },
  {
   "cell_type": "markdown",
   "metadata": {},
   "source": [
    "...and the data that we use for the optimization process:"
   ]
  },
  {
   "cell_type": "code",
   "execution_count": 26,
   "metadata": {},
   "outputs": [],
   "source": [
    "data = measure(10000)\n",
    "true_humidity = [list(data['humidity'])]\n",
    "beta_input = [list(data['beta1']), list(data['beta2'])]"
   ]
  },
  {
   "cell_type": "markdown",
   "metadata": {},
   "source": [
    "Note that the below implementation is deliberately simple and a little inefficient to keep things more readable. The code cell below computes the gradients and adjusts the parameters 200 times and spits out a list of all values for ```msq_error```. "
   ]
  },
  {
   "cell_type": "code",
   "execution_count": 27,
   "metadata": {},
   "outputs": [
    {
     "name": "stdout",
     "output_type": "stream",
     "text": [
      "[333.1607, 304.717, 282.162, 263.80545, 248.46977, 235.3334, 223.8221, 213.53357, 204.18477, 195.5755, 187.56363, 180.04694, 172.9514, 166.22255, 159.81966, 153.7116, 147.8741, 142.28767, 136.9362, 131.80624, 126.88605, 122.16526, 117.634674, 113.285675, 109.1104, 105.10156, 101.2522, 97.55576, 94.006035, 90.59714, 87.323364, 84.17935, 81.159935, 78.26011, 75.475136, 72.80046, 70.231735, 67.76474, 65.39542, 63.11993, 60.934536, 58.8357, 56.819942, 54.884007, 53.02476, 51.239094, 49.524155, 47.877106, 46.295284, 44.776093, 43.317043, 41.915806, 40.57001, 39.277534, 38.036205, 36.844044, 35.69911, 34.59947, 33.5434, 32.52913, 31.555025, 30.619493, 29.721012, 28.8581, 28.029362, 27.233425, 26.469019, 25.734875, 25.029789, 24.35264, 23.702288, 23.077688, 22.477827, 21.901724, 21.348421, 20.81703, 20.306673, 19.816547, 19.345802, 18.89371, 18.45952, 18.042507, 17.64202, 17.257385, 16.887981, 16.533213, 16.192484, 15.865237, 15.550958, 15.249119, 14.959247, 14.680831, 14.41345, 14.156659, 13.910031, 13.673167, 13.445683, 13.227209, 13.017385, 12.8158655, 12.622328, 12.436465, 12.257949, 12.086503, 11.921853, 11.763715, 11.611842, 11.465978, 11.32589, 11.19136, 11.062144, 10.938052, 10.818871, 10.704412, 10.594475, 10.488896, 10.387505, 10.290123, 10.1966, 10.106776, 10.02051, 9.937661, 9.85809, 9.781672, 9.708277, 9.637788, 9.570089, 9.505075, 9.442636, 9.382668, 9.3250675, 9.269753, 9.216631, 9.165607, 9.11661, 9.069552, 9.024351, 8.980947, 8.9392605, 8.899223, 8.860769, 8.823841, 8.788376, 8.754311, 8.7216015, 8.690178, 8.660008, 8.631029, 8.603196, 8.576467, 8.550792, 8.526136, 8.502458, 8.479717, 8.457879, 8.436897, 8.416757, 8.397405, 8.378822, 8.360976, 8.3438425, 8.327379, 8.311573, 8.296389, 8.281809, 8.267801, 8.254352, 8.241433, 8.229029, 8.217113, 8.2056675, 8.194683, 8.184125, 8.173993, 8.164256, 8.154904, 8.145925, 8.1373, 8.129024, 8.121064, 8.113421, 8.106091, 8.099042, 8.092275, 8.085776, 8.079533, 8.073538, 8.06778, 8.062248, 8.056942, 8.051839, 8.046942, 8.042233, 8.037717, 8.03338, 8.029211, 8.0252075, 8.021362, 8.01767, 8.014124]\n"
     ]
    }
   ],
   "source": [
    "errors = []\n",
    "with tf.Session() as session:\n",
    "    session.run(init)\n",
    "    for count in range(200):\n",
    "        \n",
    "        # compute the current error/distance\n",
    "        error = session.run(msq_error, feed_dict={\n",
    "            beta: beta_input, \n",
    "            lbls: true_humidity \n",
    "        })\n",
    "        errors.append(error)\n",
    "        \n",
    "        # tune and tweak the parameters a little\n",
    "        session.run([Tune_A, Tune_C], feed_dict={\n",
    "            beta: beta_input, \n",
    "            lbls: true_humidity \n",
    "        })\n",
    "\n",
    "    # Storing test results and parameters\n",
    "    test_results, a, c = session.run([h, A, C], feed_dict={\n",
    "        beta: test_beta})\n",
    "        \n",
    "print(errors)"
   ]
  },
  {
   "cell_type": "markdown",
   "metadata": {},
   "source": [
    "The steadily decreasing list of errors above is a very welcome sign. It means: Our model's output values are indeed getting closer and closer to the *true* humidity. I dare say our model is successfully converging to the *truth*. And we should definitely see that when we explicitly compare true humidity with the one that our model *predicts*."
   ]
  },
  {
   "cell_type": "code",
   "execution_count": 29,
   "metadata": {},
   "outputs": [
    {
     "data": {
      "text/plain": [
       "[(26.866222, 28.131668379712092),\n",
       " (28.275137, 26.31585202990485),\n",
       " (25.66734, 32.286869594260246),\n",
       " (13.346199, 21.966714988622194),\n",
       " (14.434935, 13.013217892026852),\n",
       " (13.228327, 21.881922952699433),\n",
       " (26.077168, 25.338325613533396),\n",
       " (26.744026, 24.05102778596861),\n",
       " (22.536736, 23.831254090879753),\n",
       " (7.941904, 6.473875144538371),\n",
       " (28.516632, 29.508890349424664),\n",
       " (24.373257, 23.114281960393733),\n",
       " (23.408693, 28.862721836842468),\n",
       " (18.614061, 17.20712123046675),\n",
       " (24.23386, 23.548543686837935),\n",
       " (19.742735, 19.408023824258585),\n",
       " (29.00549, 31.69591910268631),\n",
       " (26.976803, 25.397925376310415),\n",
       " (21.30916, 28.321143000614914),\n",
       " (20.747025, 21.57750885375886)]"
      ]
     },
     "execution_count": 29,
     "metadata": {},
     "output_type": "execute_result"
    }
   ],
   "source": [
    "list(zip(list(test_results[0]), test_true[0]))"
   ]
  },
  {
   "cell_type": "markdown",
   "metadata": {},
   "source": [
    "\n",
    "The parameters $A_1, A_2$ and $C$ have eventually converged to:"
   ]
  },
  {
   "cell_type": "code",
   "execution_count": 30,
   "metadata": {},
   "outputs": [
    {
     "data": {
      "text/plain": [
       "([2.0068226, -0.49373716], 19.040018)"
      ]
     },
     "execution_count": 30,
     "metadata": {},
     "output_type": "execute_result"
    }
   ],
   "source": [
    "list(a[0]), c"
   ]
  },
  {
   "cell_type": "markdown",
   "metadata": {},
   "source": [
    "That concludes the first part of this exercise. You learned to construct and execute computational graphs with Tensorflow and apply one of the most fundamental techniques, namely gradient descent to solve an analytical problem. "
   ]
  },
  {
   "cell_type": "markdown",
   "metadata": {},
   "source": [
    "---\n",
    "\n",
    "# Part II: Feature Engineering\n",
    "\n",
    "So, are we happy? To a large degree we could indeed be. We have found convincing evidence that those\n",
    "mysterious parameters indeed have some influence on the humidity, so tuning them appropriately may help overcome the afforementioned problems. Yet, we began to suspect that something else is wrong. To provide some more evidence, let's have a look at the distribution of the errors over a larger data set.\n"
   ]
  },
  {
   "cell_type": "markdown",
   "metadata": {},
   "source": [
    "In the following context, we'll be working with the parameters $A_1, A_2, B$ that we've found previously and thus make them constants. For $10000$ measurements we record how far we have predicted from the measured humidity."
   ]
  },
  {
   "cell_type": "code",
   "execution_count": 31,
   "metadata": {},
   "outputs": [],
   "source": [
    "data = measure(10000)\n",
    "true_humidity = [list(data['humidity'])]\n",
    "beta_input = [list(data['beta1']), list(data['beta2'])]\n",
    "\n",
    "A = tf.constant([2, -.5], shape=(1,2), dtype=tf.float32)\n",
    "C = tf.constant(18.5, shape=(), dtype=tf.float32)\n",
    "h = tf.matmul(A, beta) + C\n",
    "error = (h-lbls)\n",
    "with tf.Session() as session:\n",
    "    errors = session.run(\n",
    "        error, feed_dict={beta: beta_input, lbls: true_humidity})"
   ]
  },
  {
   "cell_type": "code",
   "execution_count": 32,
   "metadata": {},
   "outputs": [
    {
     "data": {
      "image/png": "[encoded data removed]",
      "text/plain": [
       "<Figure size 432x288 with 1 Axes>"
      ]
     },
     "metadata": {
      "needs_background": "light"
     },
     "output_type": "display_data"
    }
   ],
   "source": [
    "pd.DataFrame(errors[0]).hist(bins=30);"
   ]
  },
  {
   "cell_type": "markdown",
   "metadata": {},
   "source": [
    "What a surprise! Error distributions of that kind indicate that the linear model is overlooking something. It appears ok for the majority of measurements (the big peak around 0), but a small subset of measurements is apparently influenced by still unknown forces. \n",
    "\n",
    "Now, how to approach that problem? At the moment, we're only considering $\\beta_1$ and $\\beta_2$ as influence factors. Maybe there are other factors. Maybe on certain days or at certain times of the day the humidity is influenced by other events?\n"
   ]
  },
  {
   "cell_type": "code",
   "execution_count": 33,
   "metadata": {},
   "outputs": [],
   "source": [
    "import seaborn as sns\n",
    "sns.set()\n",
    "data = measure(2000)"
   ]
  },
  {
   "cell_type": "markdown",
   "metadata": {},
   "source": [
    "```seaborn``` introduces a convenience layer on top of matplotlib using pandas under the hood. It's extremely helpful for quick explorations."
   ]
  },
  {
   "cell_type": "code",
   "execution_count": 34,
   "metadata": {},
   "outputs": [
    {
     "data": {
      "image/png": "[encoded data removed]",
      "text/plain": [
       "<Figure size 360x360 with 1 Axes>"
      ]
     },
     "metadata": {},
     "output_type": "display_data"
    }
   ],
   "source": [
    "sns.catplot(x='weekday', y='humidity', kind='bar', data=data);"
   ]
  },
  {
   "cell_type": "markdown",
   "metadata": {},
   "source": [
    "Look at the average humidity for each day of the week. Still hard to say. Thursdays and Sundays appear particularly low. But do we have sufficient statistics to conclude? Let's have a look at the hours of the day:"
   ]
  },
  {
   "cell_type": "code",
   "execution_count": 35,
   "metadata": {},
   "outputs": [
    {
     "data": {
      "image/png": "[encoded data removed]",
      "text/plain": [
       "<Figure size 360x360 with 1 Axes>"
      ]
     },
     "metadata": {},
     "output_type": "display_data"
    }
   ],
   "source": [
    "sns.catplot(x='hour', y='humidity', kind='bar', data=data);"
   ]
  },
  {
   "cell_type": "markdown",
   "metadata": {},
   "source": [
    "The error bars are not big enough to dismiss the differences as statistical noise. So we're getting closer. But still it's not easy to tell what's really going on. \n",
    "\n",
    "*(Hint: Don't be shy to look at the statistics of 50'000 data points)*"
   ]
  },
  {
   "cell_type": "markdown",
   "metadata": {},
   "source": [
    "Well, here we are. It's obvious that we need to take weekdays and hours of day into account. But that's not so trivial. While $\\beta_1$ and $\\beta_2$ were suspected to influence the humidity somewhat linearly, that is certainly not true for hour and weekday. Data engineering has the answer: *one-hot* encoding. That's almost always a successful strategy, if it is somehow a *yes-or-no* or a *one-in-N* aspect that governs the problem."
   ]
  },
  {
   "cell_type": "markdown",
   "metadata": {},
   "source": [
    "---\n",
    "#### One-Hot encoding weekdays"
   ]
  },
  {
   "cell_type": "markdown",
   "metadata": {},
   "source": [
    "We use a neat combination of Python tricks to one-hot encode a number: The $n$-th column (or row) vector of the identity matrix (```np.eye``` in the numpy world), is the one-hot encoding for $n$:"
   ]
  },
  {
   "cell_type": "code",
   "execution_count": 36,
   "metadata": {},
   "outputs": [
    {
     "data": {
      "text/plain": [
       "array([[1., 0., 0., 0., 0., 0., 0.],\n",
       "       [0., 1., 0., 0., 0., 0., 0.],\n",
       "       [0., 0., 1., 0., 0., 0., 0.],\n",
       "       [0., 0., 0., 1., 0., 0., 0.],\n",
       "       [0., 0., 0., 0., 1., 0., 0.],\n",
       "       [0., 0., 0., 0., 0., 1., 0.],\n",
       "       [0., 0., 0., 0., 0., 0., 1.]])"
      ]
     },
     "execution_count": 36,
     "metadata": {},
     "output_type": "execute_result"
    }
   ],
   "source": [
    "ID = np.eye(7)\n",
    "ID"
   ]
  },
  {
   "cell_type": "code",
   "execution_count": 37,
   "metadata": {},
   "outputs": [
    {
     "name": "stdout",
     "output_type": "stream",
     "text": [
      "0 -> [1. 0. 0. 0. 0. 0. 0.]\n",
      "3 -> [0. 0. 0. 1. 0. 0. 0.]\n",
      "6 -> [0. 0. 0. 0. 0. 0. 1.]\n"
     ]
    }
   ],
   "source": [
    "for n in [0, 3, 6]:\n",
    "    print(\"%s -> %s\" % (n, ID[n]))"
   ]
  },
  {
   "cell_type": "markdown",
   "metadata": {},
   "source": [
    "You see the $1$s at the position given by the index. So, Monday would be represented by the first vector, Thu by the second and Sun by the third.\n",
    "\n",
    "Here comes the even cooler trick: We can use an array of indices rather than single indices one by one:"
   ]
  },
  {
   "cell_type": "code",
   "execution_count": 38,
   "metadata": {},
   "outputs": [
    {
     "data": {
      "text/plain": [
       "array([[1., 0., 0., 0., 0., 0., 0.],\n",
       "       [0., 0., 0., 1., 0., 0., 0.],\n",
       "       [0., 0., 0., 0., 0., 0., 1.]])"
      ]
     },
     "execution_count": 38,
     "metadata": {},
     "output_type": "execute_result"
    }
   ],
   "source": [
    "indices = [0,3,6]\n",
    "ID[indices]"
   ]
  },
  {
   "cell_type": "markdown",
   "metadata": {},
   "source": [
    "See: All three days one-hot-encoded in a single go"
   ]
  },
  {
   "cell_type": "markdown",
   "metadata": {},
   "source": [
    "---\n",
    "#### Preparing data for the next round\n",
    "We'll need a full dataset with one-hot encoded weekdays."
   ]
  },
  {
   "cell_type": "code",
   "execution_count": 39,
   "metadata": {},
   "outputs": [
    {
     "data": {
      "text/html": [
       "<div>\n",
       "<style scoped>\n",
       "    .dataframe tbody tr th:only-of-type {\n",
       "        vertical-align: middle;\n",
       "    }\n",
       "\n",
       "    .dataframe tbody tr th {\n",
       "        vertical-align: top;\n",
       "    }\n",
       "\n",
       "    .dataframe thead th {\n",
       "        text-align: right;\n",
       "    }\n",
       "</style>\n",
       "<table border=\"1\" class=\"dataframe\">\n",
       "  <thead>\n",
       "    <tr style=\"text-align: right;\">\n",
       "      <th></th>\n",
       "      <th>beta1</th>\n",
       "      <th>beta2</th>\n",
       "      <th>weekday</th>\n",
       "      <th>hour</th>\n",
       "      <th>humidity</th>\n",
       "    </tr>\n",
       "  </thead>\n",
       "  <tbody>\n",
       "    <tr>\n",
       "      <th>0</th>\n",
       "      <td>-3.839111</td>\n",
       "      <td>1.109732</td>\n",
       "      <td>6</td>\n",
       "      <td>2</td>\n",
       "      <td>12.673582</td>\n",
       "    </tr>\n",
       "    <tr>\n",
       "      <th>1</th>\n",
       "      <td>4.590738</td>\n",
       "      <td>1.600090</td>\n",
       "      <td>0</td>\n",
       "      <td>20</td>\n",
       "      <td>33.602368</td>\n",
       "    </tr>\n",
       "    <tr>\n",
       "      <th>2</th>\n",
       "      <td>1.986443</td>\n",
       "      <td>0.837267</td>\n",
       "      <td>1</td>\n",
       "      <td>0</td>\n",
       "      <td>22.263019</td>\n",
       "    </tr>\n",
       "    <tr>\n",
       "      <th>3</th>\n",
       "      <td>0.163649</td>\n",
       "      <td>-0.667918</td>\n",
       "      <td>4</td>\n",
       "      <td>14</td>\n",
       "      <td>24.838559</td>\n",
       "    </tr>\n",
       "    <tr>\n",
       "      <th>4</th>\n",
       "      <td>0.957898</td>\n",
       "      <td>-3.246109</td>\n",
       "      <td>6</td>\n",
       "      <td>1</td>\n",
       "      <td>20.204257</td>\n",
       "    </tr>\n",
       "  </tbody>\n",
       "</table>\n",
       "</div>"
      ],
      "text/plain": [
       "      beta1     beta2  weekday  hour   humidity\n",
       "0 -3.839111  1.109732        6     2  12.673582\n",
       "1  4.590738  1.600090        0    20  33.602368\n",
       "2  1.986443  0.837267        1     0  22.263019\n",
       "3  0.163649 -0.667918        4    14  24.838559\n",
       "4  0.957898 -3.246109        6     1  20.204257"
      ]
     },
     "execution_count": 39,
     "metadata": {},
     "output_type": "execute_result"
    }
   ],
   "source": [
    "data = measure(10000)\n",
    "data[:5]"
   ]
  },
  {
   "cell_type": "code",
   "execution_count": 40,
   "metadata": {},
   "outputs": [],
   "source": [
    "# This does one hot encoding and gets the shape right.\n",
    "def one_hot(df, size):\n",
    "    ords = list(df)\n",
    "    return list(np.transpose(np.eye(size)[ords]))"
   ]
  },
  {
   "cell_type": "markdown",
   "metadata": {},
   "source": [
    "Putting the one-hot encoded values in a data frame. That's not necessary, but seeing it this way makes it much clearer what one-hot encoding actually means"
   ]
  },
  {
   "cell_type": "code",
   "execution_count": 41,
   "metadata": {},
   "outputs": [
    {
     "data": {
      "text/html": [
       "<div>\n",
       "<style scoped>\n",
       "    .dataframe tbody tr th:only-of-type {\n",
       "        vertical-align: middle;\n",
       "    }\n",
       "\n",
       "    .dataframe tbody tr th {\n",
       "        vertical-align: top;\n",
       "    }\n",
       "\n",
       "    .dataframe thead th {\n",
       "        text-align: right;\n",
       "    }\n",
       "</style>\n",
       "<table border=\"1\" class=\"dataframe\">\n",
       "  <thead>\n",
       "    <tr style=\"text-align: right;\">\n",
       "      <th></th>\n",
       "      <th>beta1</th>\n",
       "      <th>beta2</th>\n",
       "      <th>weekday</th>\n",
       "      <th>hour</th>\n",
       "      <th>humidity</th>\n",
       "      <th>Mon</th>\n",
       "      <th>Tue</th>\n",
       "      <th>Wed</th>\n",
       "      <th>Thu</th>\n",
       "      <th>Fri</th>\n",
       "      <th>Sat</th>\n",
       "      <th>Sun</th>\n",
       "    </tr>\n",
       "  </thead>\n",
       "  <tbody>\n",
       "    <tr>\n",
       "      <th>0</th>\n",
       "      <td>-3.839111</td>\n",
       "      <td>1.109732</td>\n",
       "      <td>6</td>\n",
       "      <td>2</td>\n",
       "      <td>12.673582</td>\n",
       "      <td>0.0</td>\n",
       "      <td>0.0</td>\n",
       "      <td>0.0</td>\n",
       "      <td>0.0</td>\n",
       "      <td>0.0</td>\n",
       "      <td>0.0</td>\n",
       "      <td>1.0</td>\n",
       "    </tr>\n",
       "    <tr>\n",
       "      <th>1</th>\n",
       "      <td>4.590738</td>\n",
       "      <td>1.600090</td>\n",
       "      <td>0</td>\n",
       "      <td>20</td>\n",
       "      <td>33.602368</td>\n",
       "      <td>1.0</td>\n",
       "      <td>0.0</td>\n",
       "      <td>0.0</td>\n",
       "      <td>0.0</td>\n",
       "      <td>0.0</td>\n",
       "      <td>0.0</td>\n",
       "      <td>0.0</td>\n",
       "    </tr>\n",
       "    <tr>\n",
       "      <th>2</th>\n",
       "      <td>1.986443</td>\n",
       "      <td>0.837267</td>\n",
       "      <td>1</td>\n",
       "      <td>0</td>\n",
       "      <td>22.263019</td>\n",
       "      <td>0.0</td>\n",
       "      <td>1.0</td>\n",
       "      <td>0.0</td>\n",
       "      <td>0.0</td>\n",
       "      <td>0.0</td>\n",
       "      <td>0.0</td>\n",
       "      <td>0.0</td>\n",
       "    </tr>\n",
       "    <tr>\n",
       "      <th>3</th>\n",
       "      <td>0.163649</td>\n",
       "      <td>-0.667918</td>\n",
       "      <td>4</td>\n",
       "      <td>14</td>\n",
       "      <td>24.838559</td>\n",
       "      <td>0.0</td>\n",
       "      <td>0.0</td>\n",
       "      <td>0.0</td>\n",
       "      <td>0.0</td>\n",
       "      <td>1.0</td>\n",
       "      <td>0.0</td>\n",
       "      <td>0.0</td>\n",
       "    </tr>\n",
       "    <tr>\n",
       "      <th>4</th>\n",
       "      <td>0.957898</td>\n",
       "      <td>-3.246109</td>\n",
       "      <td>6</td>\n",
       "      <td>1</td>\n",
       "      <td>20.204257</td>\n",
       "      <td>0.0</td>\n",
       "      <td>0.0</td>\n",
       "      <td>0.0</td>\n",
       "      <td>0.0</td>\n",
       "      <td>0.0</td>\n",
       "      <td>0.0</td>\n",
       "      <td>1.0</td>\n",
       "    </tr>\n",
       "  </tbody>\n",
       "</table>\n",
       "</div>"
      ],
      "text/plain": [
       "      beta1     beta2  weekday  hour   humidity  Mon  Tue  Wed  Thu  Fri  Sat  \\\n",
       "0 -3.839111  1.109732        6     2  12.673582  0.0  0.0  0.0  0.0  0.0  0.0   \n",
       "1  4.590738  1.600090        0    20  33.602368  1.0  0.0  0.0  0.0  0.0  0.0   \n",
       "2  1.986443  0.837267        1     0  22.263019  0.0  1.0  0.0  0.0  0.0  0.0   \n",
       "3  0.163649 -0.667918        4    14  24.838559  0.0  0.0  0.0  0.0  1.0  0.0   \n",
       "4  0.957898 -3.246109        6     1  20.204257  0.0  0.0  0.0  0.0  0.0  0.0   \n",
       "\n",
       "   Sun  \n",
       "0  1.0  \n",
       "1  0.0  \n",
       "2  0.0  \n",
       "3  0.0  \n",
       "4  1.0  "
      ]
     },
     "execution_count": 41,
     "metadata": {},
     "output_type": "execute_result"
    }
   ],
   "source": [
    "days_one_hot = one_hot(data['weekday'], 7)\n",
    "weekdays=['Mon', 'Tue', 'Wed', 'Thu', 'Fri', 'Sat', 'Sun']\n",
    "for i in range(7):\n",
    "    data[weekdays[i]]=days_one_hot[i]\n",
    "data[:5]"
   ]
  },
  {
   "cell_type": "markdown",
   "metadata": {},
   "source": [
    "Now we have $2+7=9$ different input *signals*, and we'll use a $1 \\times 9$ parameter matrix to deal with them."
   ]
  },
  {
   "cell_type": "code",
   "execution_count": 42,
   "metadata": {},
   "outputs": [],
   "source": [
    "def create_input(data):\n",
    "    days_one_hot = one_hot(data['weekday'], 7)\n",
    "    weekdays=['Mon', 'Tue', 'Wed', 'Thu', 'Fri', 'Sat', 'Sun']\n",
    "    for i in range(7):\n",
    "        data[weekdays[i]]=days_one_hot[i]\n",
    "    all_input = [\n",
    "        list(data['beta1']), \n",
    "        list(data['beta2']),\n",
    "        list(data['Mon']),\n",
    "        list(data['Tue']),\n",
    "        list(data['Wed']),\n",
    "        list(data['Thu']),\n",
    "        list(data['Fri']),\n",
    "        list(data['Sat']),\n",
    "        list(data['Sun'])\n",
    "    ]\n",
    "    return all_input\n",
    "\n",
    "true_humidity = [list(data['humidity'])]\n",
    "all_input = create_input(data)\n",
    "\n",
    "test_data = measure(10000)\n",
    "test_input = create_input(test_data)\n",
    "test_humidity = [list(test_data['humidity'])]"
   ]
  },
  {
   "cell_type": "code",
   "execution_count": 43,
   "metadata": {},
   "outputs": [
    {
     "data": {
      "text/html": [
       "<div>\n",
       "<style scoped>\n",
       "    .dataframe tbody tr th:only-of-type {\n",
       "        vertical-align: middle;\n",
       "    }\n",
       "\n",
       "    .dataframe tbody tr th {\n",
       "        vertical-align: top;\n",
       "    }\n",
       "\n",
       "    .dataframe thead th {\n",
       "        text-align: right;\n",
       "    }\n",
       "</style>\n",
       "<table border=\"1\" class=\"dataframe\">\n",
       "  <thead>\n",
       "    <tr style=\"text-align: right;\">\n",
       "      <th></th>\n",
       "      <th>beta1</th>\n",
       "      <th>beta2</th>\n",
       "      <th>weekday</th>\n",
       "      <th>hour</th>\n",
       "      <th>humidity</th>\n",
       "      <th>Mon</th>\n",
       "      <th>Tue</th>\n",
       "      <th>Wed</th>\n",
       "      <th>Thu</th>\n",
       "      <th>Fri</th>\n",
       "      <th>Sat</th>\n",
       "      <th>Sun</th>\n",
       "    </tr>\n",
       "  </thead>\n",
       "  <tbody>\n",
       "    <tr>\n",
       "      <th>0</th>\n",
       "      <td>-3.801255</td>\n",
       "      <td>-1.385770</td>\n",
       "      <td>6</td>\n",
       "      <td>4</td>\n",
       "      <td>11.285015</td>\n",
       "      <td>0.0</td>\n",
       "      <td>0.0</td>\n",
       "      <td>0.0</td>\n",
       "      <td>0.0</td>\n",
       "      <td>0.0</td>\n",
       "      <td>0.0</td>\n",
       "      <td>1.0</td>\n",
       "    </tr>\n",
       "    <tr>\n",
       "      <th>1</th>\n",
       "      <td>-0.494574</td>\n",
       "      <td>0.862979</td>\n",
       "      <td>3</td>\n",
       "      <td>3</td>\n",
       "      <td>16.235480</td>\n",
       "      <td>0.0</td>\n",
       "      <td>0.0</td>\n",
       "      <td>0.0</td>\n",
       "      <td>1.0</td>\n",
       "      <td>0.0</td>\n",
       "      <td>0.0</td>\n",
       "      <td>0.0</td>\n",
       "    </tr>\n",
       "    <tr>\n",
       "      <th>2</th>\n",
       "      <td>1.222655</td>\n",
       "      <td>3.983973</td>\n",
       "      <td>0</td>\n",
       "      <td>13</td>\n",
       "      <td>18.822067</td>\n",
       "      <td>1.0</td>\n",
       "      <td>0.0</td>\n",
       "      <td>0.0</td>\n",
       "      <td>0.0</td>\n",
       "      <td>0.0</td>\n",
       "      <td>0.0</td>\n",
       "      <td>0.0</td>\n",
       "    </tr>\n",
       "    <tr>\n",
       "      <th>3</th>\n",
       "      <td>-2.239956</td>\n",
       "      <td>1.683744</td>\n",
       "      <td>1</td>\n",
       "      <td>4</td>\n",
       "      <td>12.335775</td>\n",
       "      <td>0.0</td>\n",
       "      <td>1.0</td>\n",
       "      <td>0.0</td>\n",
       "      <td>0.0</td>\n",
       "      <td>0.0</td>\n",
       "      <td>0.0</td>\n",
       "      <td>0.0</td>\n",
       "    </tr>\n",
       "    <tr>\n",
       "      <th>4</th>\n",
       "      <td>4.045171</td>\n",
       "      <td>2.690579</td>\n",
       "      <td>5</td>\n",
       "      <td>9</td>\n",
       "      <td>25.057956</td>\n",
       "      <td>0.0</td>\n",
       "      <td>0.0</td>\n",
       "      <td>0.0</td>\n",
       "      <td>0.0</td>\n",
       "      <td>0.0</td>\n",
       "      <td>1.0</td>\n",
       "      <td>0.0</td>\n",
       "    </tr>\n",
       "  </tbody>\n",
       "</table>\n",
       "</div>"
      ],
      "text/plain": [
       "      beta1     beta2  weekday  hour   humidity  Mon  Tue  Wed  Thu  Fri  Sat  \\\n",
       "0 -3.801255 -1.385770        6     4  11.285015  0.0  0.0  0.0  0.0  0.0  0.0   \n",
       "1 -0.494574  0.862979        3     3  16.235480  0.0  0.0  0.0  1.0  0.0  0.0   \n",
       "2  1.222655  3.983973        0    13  18.822067  1.0  0.0  0.0  0.0  0.0  0.0   \n",
       "3 -2.239956  1.683744        1     4  12.335775  0.0  1.0  0.0  0.0  0.0  0.0   \n",
       "4  4.045171  2.690579        5     9  25.057956  0.0  0.0  0.0  0.0  0.0  1.0   \n",
       "\n",
       "   Sun  \n",
       "0  1.0  \n",
       "1  0.0  \n",
       "2  0.0  \n",
       "3  0.0  \n",
       "4  0.0  "
      ]
     },
     "execution_count": 43,
     "metadata": {},
     "output_type": "execute_result"
    }
   ],
   "source": [
    "test_data[:5]"
   ]
  },
  {
   "cell_type": "markdown",
   "metadata": {},
   "source": [
    "---\n",
    "# Exercise\n",
    "Write the code for the new hypothesis function like below:\n",
    "\n",
    "\n",
    "$$\n",
    "h(...) = (A_1, A_2, A_m, A_t, A_w, A_{th}, A_f, A_s, A_{su}) \\cdot\n",
    "\\left( \n",
    "\\begin {array} {c}\n",
    "\\beta_1 \\\\\n",
    "\\beta_2 \\\\\n",
    "\\text{Mon} \\\\\n",
    "\\text{Tue} \\\\\n",
    "\\text{Wed} \\\\\n",
    "\\text{Thu} \\\\\n",
    "\\text{Fri} \\\\\n",
    "\\text{Sat} \\\\\n",
    "\\text{Sun}\n",
    "\\end{array}\n",
    "\\right) + C\n",
    "$$"
   ]
  },
  {
   "cell_type": "code",
   "execution_count": null,
   "metadata": {},
   "outputs": [],
   "source": [
    "#    Your turn: Replace the None placeholder with meaningful code.\n",
    "#\n",
    "# A 1x9 tensor (matrix) for the coefficients A_i\n",
    "# Start with arbitrary (but small) values\n",
    "A = None \n",
    "A"
   ]
  },
  {
   "cell_type": "code",
   "execution_count": null,
   "metadata": {},
   "outputs": [],
   "source": [
    "#    Nothing new here\n",
    "#\n",
    "# A scalar tensor for the *bias* C\n",
    "C = None\n",
    "C"
   ]
  },
  {
   "cell_type": "code",
   "execution_count": null,
   "metadata": {},
   "outputs": [],
   "source": [
    "#\n",
    "#  Placeholders shape=(9, None) for input data, (1, None) for labels\n",
    "#\n",
    "input_placeholder = None \n",
    "labels_placeholder = None\n",
    "input_placeholder"
   ]
  },
  {
   "cell_type": "code",
   "execution_count": null,
   "metadata": {},
   "outputs": [],
   "source": [
    "#    Thanks to the vector notation, the hypothesis function doesn't \n",
    "#    change\n",
    "#\n",
    "h = None\n",
    "h"
   ]
  },
  {
   "cell_type": "code",
   "execution_count": null,
   "metadata": {},
   "outputs": [],
   "source": [
    "#\n",
    "#   Mean squared error: Nothing changes here\n",
    "#\n",
    "msq_error = None\n",
    "msq_error"
   ]
  },
  {
   "cell_type": "code",
   "execution_count": null,
   "metadata": {},
   "outputs": [],
   "source": [
    "#\n",
    "#   gradients and updating: Nothing changes here\n",
    "#\n",
    "grad_A = None\n",
    "grad_C = None\n",
    "Tune_A = None\n",
    "Tune_C = None\n",
    "Tune_A"
   ]
  },
  {
   "cell_type": "code",
   "execution_count": 48,
   "metadata": {},
   "outputs": [
    {
     "name": "stdout",
     "output_type": "stream",
     "text": [
      "[298.20865, 278.8988, 262.37048, 247.90965, 235.01607, 223.33705, 212.62296, 202.6955, 193.42578, 184.71953, 176.50688, 168.7344, 161.36104, 154.3538, 147.68608, 141.33536, 135.28253, 129.51068, 124.00472, 118.75112, 113.73725, 108.951675, 104.38337, 100.02224, 95.85866, 91.88348, 88.088104, 84.46434, 81.00439, 77.700714, 74.5463, 71.53438, 68.658516, 65.91254, 63.29054, 60.78695, 58.39644, 56.11382, 53.9343, 51.853195, 49.86603, 47.968575, 46.15678, 44.426792, 42.774887, 41.197556, 39.691444, 38.25329, 36.880062, 35.568794, 34.31673, 33.121166, 31.97955, 30.889456, 29.848557, 28.854626, 27.90553, 26.999279, 26.133892, 25.30756, 24.5185, 23.765032, 23.045538, 22.3585, 21.702446, 21.075981, 20.477749, 19.90651, 19.361023, 18.840113, 18.342697, 17.867697, 17.414099, 16.980944, 16.567308, 16.172302, 15.795091, 15.434878, 15.090891, 14.762382, 14.44867, 14.149088, 13.862975, 13.589751, 13.328817, 13.079622, 12.8416395, 12.614359, 12.397298, 12.189994, 11.992012, 11.802928, 11.62234, 11.4498625, 11.285127, 11.1277895, 10.97752, 10.833988, 10.696896, 10.565955, 10.440886, 10.32142, 10.207307, 10.098306, 9.994186, 9.894725, 9.799713, 9.708952, 9.622253, 9.539425, 9.460298, 9.384703, 9.312479, 9.24348, 9.177551, 9.114567, 9.054387, 8.996886, 8.941938, 8.889433, 8.839258, 8.791316, 8.745495, 8.701706, 8.65986, 8.619862, 8.581637, 8.545097, 8.510169, 8.476783, 8.444864, 8.414356, 8.385187, 8.357299, 8.3306265, 8.305135, 8.280748, 8.257435, 8.235138, 8.213808, 8.193408, 8.173894, 8.155226, 8.137368, 8.120277, 8.10393, 8.088284, 8.073314, 8.058985, 8.045269, 8.032141, 8.0195675, 8.007537, 7.996011, 7.98497, 7.9744053, 7.9642787, 7.95458, 7.9452877, 7.936379, 7.9278455, 7.9196625, 7.911819, 7.9042983, 7.897089, 7.8901734, 7.883536, 7.877177, 7.8710704, 7.8652062, 7.8595815, 7.854179, 7.8489904, 7.8440084, 7.8392243, 7.834622, 7.830203, 7.825954, 7.8218703, 7.817937, 7.8141556, 7.81052, 7.8070197, 7.803646, 7.8004065, 7.7972755, 7.794261, 7.7913594, 7.7885604, 7.785857, 7.7832584, 7.780742, 7.7783203, 7.775977, 7.7737103, 7.7715282, 7.7694116, 7.767369, 7.7653923, 7.763481]\n"
     ]
    }
   ],
   "source": [
    "errors = []\n",
    "with tf.Session() as session:\n",
    "    session.run(tf.global_variables_initializer())\n",
    "    for count in range(200):\n",
    "        \n",
    "        # compute the current error/distance\n",
    "        error = session.run(msq_error, feed_dict={\n",
    "            input_placeholder: all_input, \n",
    "            labels_placeholder: true_humidity \n",
    "        })\n",
    "        errors.append(error)\n",
    "        \n",
    "        # tune and tweak the parameters a little\n",
    "        session.run([Tune_A, Tune_C], feed_dict={\n",
    "            input_placeholder: all_input, \n",
    "            labels_placeholder: true_humidity \n",
    "        })\n",
    "\n",
    "    # Storing test results and parameters\n",
    "    test_results, a, c = session.run([h, A, C], feed_dict={\n",
    "        input_placeholder: test_input})\n",
    "        \n",
    "print(errors)"
   ]
  },
  {
   "cell_type": "code",
   "execution_count": 49,
   "metadata": {},
   "outputs": [
    {
     "data": {
      "text/plain": [
       "(array([[ 1.9931729 , -0.49842307,  2.2464724 ,  2.184479  ,  2.157134  ,\n",
       "          1.7046652 ,  2.0480635 ,  2.1197395 ,  1.6812403 ]],\n",
       "       dtype=float32), 17.141788)"
      ]
     },
     "execution_count": 49,
     "metadata": {},
     "output_type": "execute_result"
    }
   ],
   "source": [
    "a, c"
   ]
  },
  {
   "cell_type": "markdown",
   "metadata": {},
   "source": [
    "Look at the parameters $A_{Thu}$ (6th) and $A_{Sun}$ (9th). These are lower than the other weekdays. The model found out that the humidity is slightly lower on these days. That's a little bit of an achievement. Although, when we look at the error distribution like we did before:"
   ]
  },
  {
   "cell_type": "code",
   "execution_count": 50,
   "metadata": {},
   "outputs": [],
   "source": [
    "A = tf.constant(a, shape=(1,9), dtype=tf.float32)\n",
    "C = tf.constant(c, shape=(), dtype=tf.float32)\n",
    "h = tf.matmul(A, input_placeholder) + C\n",
    "error = (h-labels_placeholder)\n",
    "with tf.Session() as session:\n",
    "    errors = session.run(\n",
    "        error, feed_dict={\n",
    "            input_placeholder: test_input, \n",
    "            labels_placeholder: test_humidity})"
   ]
  },
  {
   "cell_type": "code",
   "execution_count": 51,
   "metadata": {},
   "outputs": [
    {
     "data": {
      "image/png": "[encoded data removed]",
      "text/plain": [
       "<Figure size 432x288 with 1 Axes>"
      ]
     },
     "metadata": {},
     "output_type": "display_data"
    }
   ],
   "source": [
    "pd.DataFrame(errors[0]).hist(bins=30);"
   ]
  },
  {
   "cell_type": "markdown",
   "metadata": {},
   "source": [
    "We can see that the weekday together with the $\\beta$ parameters still don't explain the humidity observations sufficiently. As a matter of fact, if you also hot-encode the hours of the day and perform a feature crossing to produce a 168-dimensional hour-of-the-week feature, then you'll see the bump disappear and you'll find that the model *learns to understand* that there's additional humidity at certain hours of the week. Give it a try!"
   ]
  },
  {
   "cell_type": "code",
   "execution_count": null,
   "metadata": {},
   "outputs": [],
   "source": []
  },
  {
   "cell_type": "code",
   "execution_count": null,
   "metadata": {},
   "outputs": [],
   "source": []
  },
  {
   "cell_type": "code",
   "execution_count": null,
   "metadata": {},
   "outputs": [],
   "source": []
  },
  {
   "cell_type": "code",
   "execution_count": null,
   "metadata": {},
   "outputs": [],
   "source": []
  },
  {
   "cell_type": "code",
   "execution_count": null,
   "metadata": {},
   "outputs": [],
   "source": []
  },
  {
   "cell_type": "code",
   "execution_count": null,
   "metadata": {},
   "outputs": [],
   "source": []
  },
  {
   "cell_type": "code",
   "execution_count": null,
   "metadata": {},
   "outputs": [],
   "source": []
  },
  {
   "cell_type": "code",
   "execution_count": null,
   "metadata": {},
   "outputs": [],
   "source": []
  },
  {
   "cell_type": "code",
   "execution_count": null,
   "metadata": {},
   "outputs": [],
   "source": []
  },
  {
   "cell_type": "code",
   "execution_count": null,
   "metadata": {},
   "outputs": [],
   "source": []
  },
  {
   "cell_type": "code",
   "execution_count": null,
   "metadata": {},
   "outputs": [],
   "source": []
  },
  {
   "cell_type": "code",
   "execution_count": null,
   "metadata": {},
   "outputs": [],
   "source": []
  },
  {
   "cell_type": "code",
   "execution_count": null,
   "metadata": {},
   "outputs": [],
   "source": []
  },
  {
   "cell_type": "code",
   "execution_count": null,
   "metadata": {},
   "outputs": [],
   "source": []
  },
  {
   "cell_type": "code",
   "execution_count": null,
   "metadata": {},
   "outputs": [],
   "source": []
  },
  {
   "cell_type": "code",
   "execution_count": null,
   "metadata": {},
   "outputs": [],
   "source": []
  },
  {
   "cell_type": "code",
   "execution_count": null,
   "metadata": {},
   "outputs": [],
   "source": []
  },
  {
   "cell_type": "code",
   "execution_count": null,
   "metadata": {},
   "outputs": [],
   "source": []
  },
  {
   "cell_type": "code",
   "execution_count": 42,
   "metadata": {},
   "outputs": [
    {
     "data": {
      "text/plain": [
       "<tf.Variable 'coefficients_A_1:0' shape=(1, 9) dtype=float32_ref>"
      ]
     },
     "execution_count": 42,
     "metadata": {},
     "output_type": "execute_result"
    }
   ],
   "source": [
    "#    Your turn\n",
    "#\n",
    "# A 1x9 tensor (matrix) for the coefficients A_i\n",
    "# Start with arbitrary (but small) values\n",
    "A = tf.Variable([[1,1,0,0,0,0,0,0,0]], \n",
    "                name=\"coefficients_A\", dtype=tf.float32) \n",
    "A"
   ]
  },
  {
   "cell_type": "code",
   "execution_count": 43,
   "metadata": {},
   "outputs": [
    {
     "data": {
      "text/plain": [
       "<tf.Variable 'bias_C_1:0' shape=() dtype=float32_ref>"
      ]
     },
     "execution_count": 43,
     "metadata": {},
     "output_type": "execute_result"
    }
   ],
   "source": [
    "#    Nothing new here\n",
    "#\n",
    "# A scalar tensor for the *bias* C\n",
    "C = tf.Variable(3., name=\"bias_C\", dtype=tf.float32)\n",
    "C"
   ]
  },
  {
   "cell_type": "code",
   "execution_count": 44,
   "metadata": {},
   "outputs": [
    {
     "data": {
      "text/plain": [
       "<tf.Tensor 'all_input:0' shape=(9, ?) dtype=float32>"
      ]
     },
     "execution_count": 44,
     "metadata": {},
     "output_type": "execute_result"
    }
   ],
   "source": [
    "#\n",
    "#  Placeholders shape=(9, None) for input data, (1, None) for labels\n",
    "#\n",
    "input_placeholder = tf.placeholder(\n",
    "    shape=(9,None), name=\"all_input\", dtype=tf.float32) \n",
    "labels_placeholder = tf.placeholder(\n",
    "    shape=(1,None), name=\"true_humidity\", dtype=tf.float32)  \n",
    "input_placeholder"
   ]
  },
  {
   "cell_type": "code",
   "execution_count": 45,
   "metadata": {},
   "outputs": [
    {
     "data": {
      "text/plain": [
       "<tf.Tensor 'add_2:0' shape=(1, ?) dtype=float32>"
      ]
     },
     "execution_count": 45,
     "metadata": {},
     "output_type": "execute_result"
    }
   ],
   "source": [
    "#    Thanks to the vector notation, the hypothesis function doesn't \n",
    "#    change\n",
    "#\n",
    "h = tf.matmul(A, input_placeholder) + C\n",
    "h"
   ]
  },
  {
   "cell_type": "code",
   "execution_count": 46,
   "metadata": {},
   "outputs": [
    {
     "data": {
      "text/plain": [
       "<tf.Tensor 'mean_squared_error_1/value:0' shape=() dtype=float32>"
      ]
     },
     "execution_count": 46,
     "metadata": {},
     "output_type": "execute_result"
    }
   ],
   "source": [
    "#\n",
    "#   Mean squared error: Nothing changes here\n",
    "#\n",
    "msq_error = tf.losses.mean_squared_error(h,labels_placeholder)\n",
    "msq_error"
   ]
  },
  {
   "cell_type": "code",
   "execution_count": 47,
   "metadata": {},
   "outputs": [
    {
     "data": {
      "text/plain": [
       "<tf.Tensor 'AssignAdd_2:0' shape=(1, 9) dtype=float32_ref>"
      ]
     },
     "execution_count": 47,
     "metadata": {},
     "output_type": "execute_result"
    }
   ],
   "source": [
    "#\n",
    "#   gradients and updating: Nothing changes here\n",
    "#\n",
    "grad_A = tf.gradients(msq_error, A)\n",
    "grad_C = tf.gradients(msq_error, C)\n",
    "Tune_A = tf.assign_add( A, tf.multiply(grad_A[0], -epsilon))\n",
    "Tune_C = tf.assign_add( C, tf.multiply(grad_C[0], -epsilon))\n",
    "Tune_A"
   ]
  },
  {
   "cell_type": "code",
   "execution_count": null,
   "metadata": {},
   "outputs": [],
   "source": []
  }
 ],
 "metadata": {
  "kernelspec": {
   "display_name": "Python 3",
   "language": "python",
   "name": "python3"
  },
  "language_info": {
   "codemirror_mode": {
    "name": "ipython",
    "version": 3
   },
   "file_extension": ".py",
   "mimetype": "text/x-python",
   "name": "python",
   "nbconvert_exporter": "python",
   "pygments_lexer": "ipython3",
   "version": "3.6.7"
  }
 },
 "nbformat": 4,
 "nbformat_minor": 2
}
