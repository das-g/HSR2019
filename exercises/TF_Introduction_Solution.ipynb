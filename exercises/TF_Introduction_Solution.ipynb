{
 "cells": [
  {
   "cell_type": "code",
   "execution_count": 1,
   "metadata": {},
   "outputs": [],
   "source": [
    "%load_ext autoreload\n",
    "%autoreload 2"
   ]
  },
  {
   "cell_type": "code",
   "execution_count": 2,
   "metadata": {},
   "outputs": [],
   "source": [
    "from __future__ import (print_function, division, absolute_import)"
   ]
  },
  {
   "cell_type": "code",
   "execution_count": 3,
   "metadata": {},
   "outputs": [],
   "source": [
    "import numpy as np\n",
    "import pandas as pd\n",
    "import matplotlib.pyplot as plt"
   ]
  },
  {
   "cell_type": "markdown",
   "metadata": {},
   "source": [
    "# Introduction to Tensorflow \n",
    "\n",
    "## Preface\n",
    "Data engineering makes up for most of the hard work around machine learning. Although we're not attempting to do the data scientists' jobs here, we still need to understand what they're doing to be able to support them best. That's why we'll touch machine learning concepts here. Deliberately, I'll be using *gradient descent* without explaining it. You'll hear about that in later lectures on the subject. What matters here is  that it teaches us about the advanced capabilities available in the chosen technology stack and it provides us a use case that's interesting enough to experience the fun in data engineering.\n",
    "\n",
    "In part II, I'll be getting into some *feature engineering*, which lives in the border area between machine learning and data engineering.\n",
    "\n",
    "# Part I: A toy problem\n",
    "![Baking Powder Machine](../images/baking-powder-packing-machine-500x500.jpg)\n",
    "\n",
    "Let's assume we are responsible for a machine that produces a particular powder ingredient for baking. And we found it little surprising to hear that the quality of the output depends on the humidity within the last inches of the output pipe. Indeed, at certain humidity levels the probability of the product clumping together or sticking to the pipe increased. It's our job to find out what to do. \n",
    "\n",
    "The machine we're talking about has two technical and somewhat mysterious parameters $\\beta_1$ and $\\beta_2$ that can be measured and tuned. We suspect that the humidity is somehow influenced by these parameters and you are supposed to prove it now. \n",
    "\n",
    "A reasonable first hypothesis could be written in mathematical terms as:\n",
    "\n",
    "$$\n",
    "h= A_1 \\cdot \\beta_1 + A_2 \\cdot \\beta_2 + C\n",
    "$$\n",
    "\n",
    "where $h$ is the measured humidity, and $A_1, A_2$ and $C$ are three model parameters that we need to compute now. Any non-zero value for $A_1, A_2$ will confirm our suspicion.\n",
    "\n",
    "Here's how we take some measurements. Note that we also recorded the weekday and the hour of the day when the measurement took place. At this point in time we consider them irrelevant. In the second part of this exercise though, we'll see that they can actually be meaningfully included in the analysis."
   ]
  },
  {
   "cell_type": "markdown",
   "metadata": {},
   "source": [
    "### Data first\n",
    "\n",
    "```measure(N) ``` creates a [pandas](https://pandas.pydata.org/) data frame with $N$ measurement records in it."
   ]
  },
  {
   "cell_type": "code",
   "execution_count": 4,
   "metadata": {},
   "outputs": [],
   "source": [
    "from measurements import measure"
   ]
  },
  {
   "cell_type": "code",
   "execution_count": 5,
   "metadata": {},
   "outputs": [
    {
     "data": {
      "text/html": [
       "<div>\n",
       "<style scoped>\n",
       "    .dataframe tbody tr th:only-of-type {\n",
       "        vertical-align: middle;\n",
       "    }\n",
       "\n",
       "    .dataframe tbody tr th {\n",
       "        vertical-align: top;\n",
       "    }\n",
       "\n",
       "    .dataframe thead th {\n",
       "        text-align: right;\n",
       "    }\n",
       "</style>\n",
       "<table border=\"1\" class=\"dataframe\">\n",
       "  <thead>\n",
       "    <tr style=\"text-align: right;\">\n",
       "      <th></th>\n",
       "      <th>beta1</th>\n",
       "      <th>beta2</th>\n",
       "      <th>hour</th>\n",
       "      <th>humidity</th>\n",
       "      <th>weekday</th>\n",
       "    </tr>\n",
       "  </thead>\n",
       "  <tbody>\n",
       "    <tr>\n",
       "      <th>0</th>\n",
       "      <td>-2.934153</td>\n",
       "      <td>0.525393</td>\n",
       "      <td>15</td>\n",
       "      <td>9.692765</td>\n",
       "      <td>6</td>\n",
       "    </tr>\n",
       "    <tr>\n",
       "      <th>1</th>\n",
       "      <td>0.664185</td>\n",
       "      <td>-1.752306</td>\n",
       "      <td>9</td>\n",
       "      <td>19.878666</td>\n",
       "      <td>1</td>\n",
       "    </tr>\n",
       "    <tr>\n",
       "      <th>2</th>\n",
       "      <td>-4.870591</td>\n",
       "      <td>-2.434381</td>\n",
       "      <td>4</td>\n",
       "      <td>10.451214</td>\n",
       "      <td>6</td>\n",
       "    </tr>\n",
       "    <tr>\n",
       "      <th>3</th>\n",
       "      <td>-4.387293</td>\n",
       "      <td>-1.919218</td>\n",
       "      <td>8</td>\n",
       "      <td>8.228384</td>\n",
       "      <td>6</td>\n",
       "    </tr>\n",
       "    <tr>\n",
       "      <th>4</th>\n",
       "      <td>2.174449</td>\n",
       "      <td>-2.257414</td>\n",
       "      <td>6</td>\n",
       "      <td>23.974719</td>\n",
       "      <td>5</td>\n",
       "    </tr>\n",
       "  </tbody>\n",
       "</table>\n",
       "</div>"
      ],
      "text/plain": [
       "      beta1     beta2  hour   humidity  weekday\n",
       "0 -2.934153  0.525393    15   9.692765        6\n",
       "1  0.664185 -1.752306     9  19.878666        1\n",
       "2 -4.870591 -2.434381     4  10.451214        6\n",
       "3 -4.387293 -1.919218     8   8.228384        6\n",
       "4  2.174449 -2.257414     6  23.974719        5"
      ]
     },
     "execution_count": 5,
     "metadata": {},
     "output_type": "execute_result"
    }
   ],
   "source": [
    "data = measure(5)\n",
    "data.head()"
   ]
  },
  {
   "cell_type": "code",
   "execution_count": 6,
   "metadata": {},
   "outputs": [
    {
     "data": {
      "text/html": [
       "<div>\n",
       "<style scoped>\n",
       "    .dataframe tbody tr th:only-of-type {\n",
       "        vertical-align: middle;\n",
       "    }\n",
       "\n",
       "    .dataframe tbody tr th {\n",
       "        vertical-align: top;\n",
       "    }\n",
       "\n",
       "    .dataframe thead th {\n",
       "        text-align: right;\n",
       "    }\n",
       "</style>\n",
       "<table border=\"1\" class=\"dataframe\">\n",
       "  <thead>\n",
       "    <tr style=\"text-align: right;\">\n",
       "      <th></th>\n",
       "      <th>beta1</th>\n",
       "      <th>beta2</th>\n",
       "      <th>hour</th>\n",
       "      <th>humidity</th>\n",
       "      <th>weekday</th>\n",
       "    </tr>\n",
       "  </thead>\n",
       "  <tbody>\n",
       "    <tr>\n",
       "      <th>count</th>\n",
       "      <td>10000.000000</td>\n",
       "      <td>10000.000000</td>\n",
       "      <td>10000.000000</td>\n",
       "      <td>10000.000000</td>\n",
       "      <td>10000.000000</td>\n",
       "    </tr>\n",
       "    <tr>\n",
       "      <th>mean</th>\n",
       "      <td>-0.008913</td>\n",
       "      <td>0.009768</td>\n",
       "      <td>11.448700</td>\n",
       "      <td>19.330172</td>\n",
       "      <td>2.959900</td>\n",
       "    </tr>\n",
       "    <tr>\n",
       "      <th>std</th>\n",
       "      <td>2.898888</td>\n",
       "      <td>2.906414</td>\n",
       "      <td>6.893281</td>\n",
       "      <td>6.606501</td>\n",
       "      <td>2.014323</td>\n",
       "    </tr>\n",
       "    <tr>\n",
       "      <th>min</th>\n",
       "      <td>-4.998291</td>\n",
       "      <td>-4.999729</td>\n",
       "      <td>0.000000</td>\n",
       "      <td>3.633644</td>\n",
       "      <td>0.000000</td>\n",
       "    </tr>\n",
       "    <tr>\n",
       "      <th>25%</th>\n",
       "      <td>-2.525527</td>\n",
       "      <td>-2.532922</td>\n",
       "      <td>5.000000</td>\n",
       "      <td>14.007454</td>\n",
       "      <td>1.000000</td>\n",
       "    </tr>\n",
       "    <tr>\n",
       "      <th>50%</th>\n",
       "      <td>-0.003362</td>\n",
       "      <td>0.034413</td>\n",
       "      <td>11.000000</td>\n",
       "      <td>19.367726</td>\n",
       "      <td>3.000000</td>\n",
       "    </tr>\n",
       "    <tr>\n",
       "      <th>75%</th>\n",
       "      <td>2.506123</td>\n",
       "      <td>2.527400</td>\n",
       "      <td>17.000000</td>\n",
       "      <td>24.310206</td>\n",
       "      <td>5.000000</td>\n",
       "    </tr>\n",
       "    <tr>\n",
       "      <th>max</th>\n",
       "      <td>4.998709</td>\n",
       "      <td>4.999378</td>\n",
       "      <td>23.000000</td>\n",
       "      <td>40.206758</td>\n",
       "      <td>6.000000</td>\n",
       "    </tr>\n",
       "  </tbody>\n",
       "</table>\n",
       "</div>"
      ],
      "text/plain": [
       "              beta1         beta2          hour      humidity       weekday\n",
       "count  10000.000000  10000.000000  10000.000000  10000.000000  10000.000000\n",
       "mean      -0.008913      0.009768     11.448700     19.330172      2.959900\n",
       "std        2.898888      2.906414      6.893281      6.606501      2.014323\n",
       "min       -4.998291     -4.999729      0.000000      3.633644      0.000000\n",
       "25%       -2.525527     -2.532922      5.000000     14.007454      1.000000\n",
       "50%       -0.003362      0.034413     11.000000     19.367726      3.000000\n",
       "75%        2.506123      2.527400     17.000000     24.310206      5.000000\n",
       "max        4.998709      4.999378     23.000000     40.206758      6.000000"
      ]
     },
     "execution_count": 6,
     "metadata": {},
     "output_type": "execute_result"
    }
   ],
   "source": [
    "data = measure(10000)\n",
    "data.describe()"
   ]
  },
  {
   "cell_type": "markdown",
   "metadata": {},
   "source": [
    "### First Evidence for correlation\n",
    "Scatter plots are easily created with pandas. We can see that $\\beta_1$ has a strong correlation with the humidity and it also exhibits a particularly unusual distribution, as the field has a sharper lower edge. We'll be investigating this in part II of this exercise. With $\\beta_2$, there might indeed be a very weak negative correlation, but we can't be certain."
   ]
  },
  {
   "cell_type": "code",
   "execution_count": 7,
   "metadata": {},
   "outputs": [
    {
     "data": {
      "image/png": "[encoded data removed]",
      "text/plain": [
       "<Figure size 432x288 with 1 Axes>"
      ]
     },
     "metadata": {
      "needs_background": "light"
     },
     "output_type": "display_data"
    },
    {
     "data": {
      "image/png": "[encoded data removed]",
      "text/plain": [
       "<Figure size 432x288 with 1 Axes>"
      ]
     },
     "metadata": {
      "needs_background": "light"
     },
     "output_type": "display_data"
    }
   ],
   "source": [
    "data = measure(200)\n",
    "data.plot.scatter(x='beta1', y='humidity')\n",
    "data.plot.scatter(x='beta2', y='humidity');"
   ]
  },
  {
   "cell_type": "markdown",
   "metadata": {},
   "source": [
    "### Working with tensors"
   ]
  },
  {
   "cell_type": "markdown",
   "metadata": {},
   "source": [
    "In Tensorflow, everything is a tensor. A number is a rank-0 tensor - sometimes code-named *scalar*, A vector is a rank-1 tensor, a matrix is a rank-2 tensor and all higher-ranked tensors are just rank-n tensors.\n",
    "\n",
    "Now, we'll make the hypothesis that the correlations can be described by an *affine* function of those technical parameters $\\beta_1$ and $\\beta_2$. We simply encode this hypothesis using matrix multiplication:\n",
    "\n",
    "$$\n",
    "h(\\beta_1, \\beta_2) = (A_1, A_2) \\cdot\n",
    "\\left( \n",
    "\\begin {array} {c}\n",
    "\\beta_1 \\\\\n",
    "\\beta_2\n",
    "\\end{array}\n",
    "\\right) + C\n",
    "$$\n",
    "\n",
    "which is equivalent to saying:\n",
    "\n",
    "$$\n",
    "h(\\beta_1, \\beta_2) = A_1 \\beta_1 +  A_2 \\beta_2 + C\n",
    "$$"
   ]
  },
  {
   "cell_type": "markdown",
   "metadata": {},
   "source": [
    "Now all that's left is trying to find $A_1, A_2$ and $C$ such that the above function $h$ best reproduces the actually performed measurements for the humidity."
   ]
  },
  {
   "cell_type": "code",
   "execution_count": 1,
   "metadata": {},
   "outputs": [],
   "source": [
    "import tensorflow as tf"
   ]
  },
  {
   "cell_type": "markdown",
   "metadata": {},
   "source": [
    "```tf.Variable```s are those tensors that are meant to be tuned during an optimization process. Since we want to tweak and tune $A_1, A_2$ and $C$, we create variables for those."
   ]
  },
  {
   "cell_type": "code",
   "execution_count": 2,
   "metadata": {},
   "outputs": [
    {
     "data": {
      "text/plain": [
       "<tf.Variable 'coefficients_A:0' shape=(1, 2) dtype=float32_ref>"
      ]
     },
     "execution_count": 2,
     "metadata": {},
     "output_type": "execute_result"
    }
   ],
   "source": [
    "# A 1x2 tensor (matrix) for the coefficients A_i\n",
    "# We're starting with arbitrary values\n",
    "A = tf.Variable([[1., 2.]], name=\"coefficients_A\", dtype=tf.float32) \n",
    "A"
   ]
  },
  {
   "cell_type": "code",
   "execution_count": 3,
   "metadata": {},
   "outputs": [
    {
     "data": {
      "text/plain": [
       "<tf.Variable 'bias_C:0' shape=() dtype=float32_ref>"
      ]
     },
     "execution_count": 3,
     "metadata": {},
     "output_type": "execute_result"
    }
   ],
   "source": [
    "# A scalar tensor for the *bias* C\n",
    "C = tf.Variable(3., name=\"bias_C\", dtype=tf.float32)\n",
    "C"
   ]
  },
  {
   "cell_type": "markdown",
   "metadata": {},
   "source": [
    "You can actually look into those tensors and inspect their values with the help of a session (just ignore the initializer for the time being):"
   ]
  },
  {
   "cell_type": "code",
   "execution_count": 11,
   "metadata": {},
   "outputs": [
    {
     "name": "stdout",
     "output_type": "stream",
     "text": [
      "3.0\n",
      "[[1. 2.]]\n"
     ]
    }
   ],
   "source": [
    "with tf.Session() as session:\n",
    "    session.run(tf.global_variables_initializer())\n",
    "    print(C.eval())\n",
    "    print(A.eval())"
   ]
  },
  {
   "cell_type": "markdown",
   "metadata": {},
   "source": [
    "We use ```tf.placeholder```s for the input data and the *labels*. In machine learning, *labels* represent the *true* values. When *labels* are provided, we say that we're doing *supervised learning*. Here, the labels are the true (measured) humidity. And that's what we want the hypothesis to mimic (reproduce). The ```None``` dimension is left open intentionally as it is this dimension that accounts for the number of input records that will be processed at once."
   ]
  },
  {
   "cell_type": "code",
   "execution_count": 12,
   "metadata": {},
   "outputs": [
    {
     "data": {
      "text/plain": [
       "<tf.Tensor 'beta:0' shape=(2, ?) dtype=float32>"
      ]
     },
     "execution_count": 12,
     "metadata": {},
     "output_type": "execute_result"
    }
   ],
   "source": [
    "beta = tf.placeholder(shape=(2,None), name=\"beta\", dtype=tf.float32) \n",
    "lbls = tf.placeholder(shape=(1,None), name=\"true_humidity\", dtype=tf.float32)  \n",
    "beta"
   ]
  },
  {
   "cell_type": "markdown",
   "metadata": {},
   "source": [
    "### The hypothesis function as a computational graph"
   ]
  },
  {
   "cell_type": "markdown",
   "metadata": {},
   "source": [
    "The linear humidity hypothesis ```h``` represents a computational graph that we can actually navigate to see its branches and leaves like demonstrated below. \n",
    "\n",
    "You'll read the plus operator in the following expression\n",
    "```\n",
    "h = tf.matmul(A, beta) + C\n",
    "```\n",
    "as: take the tensor to the left, attach it to the left of a \"+\" node, then take the tensor to the right (C) and attach it to the right side of that node. Return the \"+\" node and with it the attached computational graph."
   ]
  },
  {
   "cell_type": "markdown",
   "metadata": {},
   "source": [
    "```\n",
    "h=\n",
    "         +\n",
    "      /    \\ \n",
    " matmul      C\n",
    " /    \\\n",
    "A     beta\n",
    "```"
   ]
  },
  {
   "cell_type": "code",
   "execution_count": 13,
   "metadata": {},
   "outputs": [
    {
     "name": "stdout",
     "output_type": "stream",
     "text": [
      "Tensor(\"add:0\", shape=(1, ?), dtype=float32)\n",
      "\n",
      "Tensor(\"MatMul:0\", shape=(1, ?), dtype=float32)\n",
      "\n",
      "Tensor(\"coefficients_A/read:0\", shape=(1, 2), dtype=float32)\n",
      "\n",
      "Tensor(\"beta:0\", shape=(2, ?), dtype=float32)\n"
     ]
    }
   ],
   "source": [
    "h = tf.matmul(A, beta) + C\n",
    "# h represents the + operation: the root of the tree\n",
    "print(h)\n",
    "print()\n",
    "\n",
    "# The matmul operation is the first input of the + operator\n",
    "print(h.op.inputs[0])\n",
    "print()\n",
    "\n",
    "# The coefficients A to the left of the matmul operation:\n",
    "print(h.op.inputs[0].op.inputs[0])\n",
    "print()\n",
    "\n",
    "# The input beta to the left of the matmul operation:\n",
    "print(h.op.inputs[0].op.inputs[1])"
   ]
  },
  {
   "cell_type": "markdown",
   "metadata": {},
   "source": [
    "---\n"
   ]
  },
  {
   "cell_type": "markdown",
   "metadata": {},
   "source": [
    "#### Evaluating the graph"
   ]
  },
  {
   "cell_type": "markdown",
   "metadata": {},
   "source": [
    "We use a Tensorflow session object to evaluate the computational graph at the particular values given by ```beta_input```"
   ]
  },
  {
   "cell_type": "code",
   "execution_count": 14,
   "metadata": {},
   "outputs": [],
   "source": [
    "beta_input = [list(data['beta1']), list(data['beta2'])]"
   ]
  },
  {
   "cell_type": "code",
   "execution_count": 15,
   "metadata": {},
   "outputs": [
    {
     "data": {
      "text/plain": [
       "[3.37896032109572,\n",
       " -1.7952036255129213,\n",
       " 1.0523248390808941,\n",
       " -2.554670791023974,\n",
       " 2.563154767316833]"
      ]
     },
     "execution_count": 15,
     "metadata": {},
     "output_type": "execute_result"
    }
   ],
   "source": [
    "beta_input[0][:5]"
   ]
  },
  {
   "cell_type": "markdown",
   "metadata": {},
   "source": [
    "#### Executing the hypothesis\n",
    "It's always the same: Initialize all variables and then run the session with the desired tensor node (or a list of tensors). The graph will then resolve the dependencies transitively, compute those and work back to the root where the final result is then computed and passed as a regular number or numpy array. Resolving the placeholders required us to provide some input, which we did using the so-called ```feed_dict```. "
   ]
  },
  {
   "cell_type": "code",
   "execution_count": 16,
   "metadata": {},
   "outputs": [],
   "source": [
    "init = tf.global_variables_initializer()\n",
    "with tf.Session() as session:\n",
    "    session.run(init)\n",
    "    model_humidity = session.run(h, feed_dict={beta: beta_input })"
   ]
  },
  {
   "cell_type": "code",
   "execution_count": 17,
   "metadata": {},
   "outputs": [
    {
     "data": {
      "text/plain": [
       "[22.992583295145774,\n",
       " 12.282233673083342,\n",
       " 21.38454283606272,\n",
       " 11.46120732225369,\n",
       " 21.197174866986284]"
      ]
     },
     "execution_count": 17,
     "metadata": {},
     "output_type": "execute_result"
    }
   ],
   "source": [
    "true_humidity = list(data['humidity'])\n",
    "true_humidity[:5]"
   ]
  },
  {
   "cell_type": "code",
   "execution_count": 18,
   "metadata": {},
   "outputs": [
    {
     "data": {
      "text/plain": [
       "[(22.992583295145774, 3.0364575),\n",
       " (12.282233673083342, 10.018196),\n",
       " (21.38454283606272, 0.8544698),\n",
       " (11.46120732225369, 4.778757),\n",
       " (21.197174866986284, 9.328702)]"
      ]
     },
     "execution_count": 18,
     "metadata": {},
     "output_type": "execute_result"
    }
   ],
   "source": [
    "list(zip(true_humidity, list(model_humidity.squeeze())))[:5]"
   ]
  },
  {
   "cell_type": "markdown",
   "metadata": {},
   "source": [
    "The results differ vastly from the true humidity - unsurprisingly so - we haven't tuned the parameters $A$ and $C$ yet.  \n",
    "\n",
    "#### Delegating execution specifics to the session\n",
    "Note that the complexity seen above makes sense because once the graph is constructed it's up to the Tensorflow runtime to find out how to compute the results in the most efficient way, taking also the available advanced system resources, such as GPUs or TPUs into account. You as a developer need not bother, just pass your graph to the session.\n",
    "\n",
    "#### All input in one go\n",
    "Note also that all the records will processed in a single go. There is no loop over the input data. Indeed all the input data forms a single $N \\times 2$ matrix with $N$ being the number of samples. That makes computation truly efficient, as GPUs and TPUs can perform thousands of mathematical operations in parallel, and there's no forth and back between the Python script interpreter and the underlying computational infrastructure."
   ]
  },
  {
   "cell_type": "markdown",
   "metadata": {},
   "source": [
    "#### Error = Distance between model and reality"
   ]
  },
  {
   "cell_type": "markdown",
   "metadata": {},
   "source": [
    "We want the model humidity to be as close as possible to the *true* humidity. To achieve that we need to measure how close the model has come to the true humidity. The mean squared error is a good candidate for that purpose, and we'll use the placeholder ```lbls``` ('labels' is commonly used in machine learning) that we introduced previously to represent the true humidity."
   ]
  },
  {
   "cell_type": "code",
   "execution_count": 19,
   "metadata": {},
   "outputs": [
    {
     "name": "stdout",
     "output_type": "stream",
     "text": [
      "WARNING:tensorflow:From /home/wgiersche/py2/local/lib/python2.7/site-packages/tensorflow/python/ops/losses/losses_impl.py:667: to_float (from tensorflow.python.ops.math_ops) is deprecated and will be removed in a future version.\n",
      "Instructions for updating:\n",
      "Use tf.cast instead.\n"
     ]
    }
   ],
   "source": [
    "msq_error = tf.losses.mean_squared_error(h,lbls)\n",
    "\n",
    "# We need to fit the shape to the hypothesis input placeholder\n",
    "true_humidity = [true_humidity] "
   ]
  },
  {
   "cell_type": "code",
   "execution_count": 20,
   "metadata": {},
   "outputs": [
    {
     "name": "stdout",
     "output_type": "stream",
     "text": [
      "337.13812\n"
     ]
    }
   ],
   "source": [
    "with tf.Session() as session:\n",
    "    session.run(init)\n",
    "    error = session.run(msq_error, \n",
    "                        feed_dict={\n",
    "                            beta: beta_input, \n",
    "                            lbls: true_humidity })\n",
    "print(error)"
   ]
  },
  {
   "cell_type": "markdown",
   "metadata": {},
   "source": [
    "#### Tuning the parameters"
   ]
  },
  {
   "cell_type": "markdown",
   "metadata": {},
   "source": [
    "*Note: We'll use some advanced concepts that we can't cover to the full extent here. Please refer to any of the quazillions of amazing introductory sources available on the internet to get familiar with the concept of gradient descent. [This video by 3Blue1Brown talks about gradient descent in the concept of neural networks, but still it's super-easy to grasp because of its amazing visualizations](https://www.youtube.com/watch?v=IHZwWFHWa-w&t=1s)*.\n",
    "\n",
    "The *gradient* is a measure of how much the value of a function changes, when its input changes infinitesimaly. If e.g. the gradient of the distance with respect to $A_1$ is positive then that means making $A_1$ a bit smaller would also make the distance smaller. And that's exactly what we're trying to achieve. So what we'll do is iteratively substract a fraction (defined by some small learning rate epsilon $\\varepsilon$) of the gradient from the values of $A$ and $B$. And we do this in vector form."
   ]
  },
  {
   "cell_type": "code",
   "execution_count": 21,
   "metadata": {},
   "outputs": [],
   "source": [
    "epsilon = 1e-2"
   ]
  },
  {
   "cell_type": "code",
   "execution_count": 22,
   "metadata": {},
   "outputs": [],
   "source": [
    "grad_A = tf.gradients(msq_error, A)\n",
    "grad_C = tf.gradients(msq_error, C)"
   ]
  },
  {
   "cell_type": "markdown",
   "metadata": {},
   "source": [
    "Note how easy it is to calculate gradients here. It's all built into the framework. That's super-easy here, because the computational graph allows the computation of any derivative from basic principles according to the rules that we all (should've) learned in our calculus classes."
   ]
  },
  {
   "cell_type": "code",
   "execution_count": 23,
   "metadata": {},
   "outputs": [],
   "source": [
    "Tune_A = tf.assign_add( A, tf.multiply(grad_A[0], -epsilon))\n",
    "Tune_C = tf.assign_add( C, tf.multiply(grad_C[0], -epsilon))"
   ]
  },
  {
   "cell_type": "markdown",
   "metadata": {},
   "source": [
    "In mathematical terms, what we do is:\n",
    "$$\n",
    "A \\leftarrow A - \\varepsilon \\cdot \\frac{\\partial}{\\partial A} \\text{MSE}\n",
    "$$\n",
    "\n",
    "$$\n",
    "C \\leftarrow C - \\varepsilon \\cdot \\frac{\\partial}{\\partial C} \\text{MSE}\n",
    "$$\n",
    "\n",
    "with MSE being the mean squared error ```msq_error```. Computationally, evaluating ```Tune_A``` will have the *side effect* of changing the value of variable ```A``` and ```Tune_C``` will do that with ```C```."
   ]
  },
  {
   "cell_type": "markdown",
   "metadata": {},
   "source": [
    "We create some independent test data"
   ]
  },
  {
   "cell_type": "code",
   "execution_count": 24,
   "metadata": {},
   "outputs": [],
   "source": [
    "test_data = measure(20)\n",
    "test_true = [list(test_data['humidity'])]\n",
    "test_beta = [list(test_data['beta1']), list(test_data['beta2'])]"
   ]
  },
  {
   "cell_type": "markdown",
   "metadata": {},
   "source": [
    "...and the data that we use for the optimization process:"
   ]
  },
  {
   "cell_type": "code",
   "execution_count": 25,
   "metadata": {},
   "outputs": [],
   "source": [
    "data = measure(10000)\n",
    "true_humidity = [list(data['humidity'])]\n",
    "beta_input = [list(data['beta1']), list(data['beta2'])]"
   ]
  },
  {
   "cell_type": "markdown",
   "metadata": {},
   "source": [
    "Note that the below implementation is deliberately simple and a little inefficient to keep things more readable. The code cell below computes the gradients and adjusts the parameters 200 times and spits out a list of all values for ```msq_error```. "
   ]
  },
  {
   "cell_type": "code",
   "execution_count": 26,
   "metadata": {},
   "outputs": [
    {
     "name": "stdout",
     "output_type": "stream",
     "text": [
      "[336.9973, 307.5505, 284.35712, 265.59354, 249.9965, 236.68985, 225.06477, 214.69695, 205.28978, 196.63481, 188.58469, 181.03424, 173.90767, 167.1495, 160.71846, 154.58316, 148.71918, 143.10696, 137.73053, 132.57626, 127.63256, 122.88914, 118.33656, 113.9664, 109.77072, 105.74225, 101.87395, 98.15936, 94.59214, 91.16646, 87.876564, 84.71705, 81.68275, 78.76864, 75.96995, 73.28213, 70.700745, 68.22159, 65.84063, 63.553925, 61.3578, 59.24865, 57.22301, 55.277588, 53.4092, 51.61481, 49.891464, 48.236355, 46.64679, 45.120186, 43.65402, 42.24593, 40.89358, 39.594784, 38.347424, 37.149464, 35.99892, 34.893944, 33.832733, 32.813538, 31.834713, 30.894638, 29.991787, 29.124687, 28.291925, 27.492144, 26.724031, 25.986332, 25.277842, 24.59741, 23.943922, 23.316315, 22.71356, 22.134668, 21.5787, 21.044758, 20.53195, 20.039448, 19.56645, 19.112185, 18.67591, 18.256908, 17.8545, 17.46802, 17.096842, 16.74037, 16.398018, 16.06921, 15.753434, 15.450163, 15.158894, 14.879161, 14.610501, 14.352478, 14.104681, 13.866689, 13.638122, 13.418606, 13.207783, 13.005313, 12.81086, 12.624106, 12.444748, 12.272488, 12.107052, 11.948162, 11.795575, 11.649021, 11.508277, 11.373105, 11.24328, 11.118598, 10.998855, 10.883853, 10.773402, 10.667328, 10.565457, 10.467616, 10.373654, 10.283409, 10.196739, 10.113503, 10.033561, 9.956786, 9.883052, 9.812239, 9.744225, 9.678905, 9.616172, 9.555922, 9.498058, 9.442486, 9.389115, 9.337856, 9.288629, 9.241353, 9.195946, 9.152336, 9.110453, 9.070229, 9.031597, 8.994498, 8.958869, 8.924647, 8.891781, 8.860215, 8.829902, 8.800788, 8.772826, 8.745972, 8.720182, 8.695414, 8.671626, 8.648781, 8.62684, 8.605769, 8.58553, 8.566095, 8.547426, 8.5295, 8.512284, 8.4957485, 8.479867, 8.464615, 8.4499655, 8.435899, 8.422386, 8.40941, 8.396949, 8.384979, 8.373485, 8.362446, 8.351842, 8.341662, 8.3318815, 8.322488, 8.313466, 8.304802, 8.296484, 8.288495, 8.28082, 8.27345, 8.266371, 8.259572, 8.253043, 8.246771, 8.24075, 8.234964, 8.22941, 8.224075, 8.218952, 8.214031, 8.209307, 8.204769, 8.200409, 8.196222, 8.192202, 8.18834, 8.184631, 8.181071]\n"
     ]
    }
   ],
   "source": [
    "errors = []\n",
    "with tf.Session() as session:\n",
    "    session.run(init)\n",
    "    for count in range(200):\n",
    "        \n",
    "        # compute the current error/distance\n",
    "        error = session.run(msq_error, feed_dict={\n",
    "            beta: beta_input, \n",
    "            lbls: true_humidity \n",
    "        })\n",
    "        errors.append(error)\n",
    "        \n",
    "        # tune and tweak the parameters a little\n",
    "        session.run([Tune_A, Tune_C], feed_dict={\n",
    "            beta: beta_input, \n",
    "            lbls: true_humidity \n",
    "        })\n",
    "\n",
    "    # Storing test results and parameters\n",
    "    test_results, a, c = session.run([h, A, C], feed_dict={\n",
    "        beta: test_beta})\n",
    "        \n",
    "print(errors)"
   ]
  },
  {
   "cell_type": "markdown",
   "metadata": {},
   "source": [
    "The steadily decreasing list of errors above is a very welcome sign. It means: Our model's output values are indeed getting closer and closer to the *true* humidity. I dare say our model is successfully converging to the *truth*. And we should definitely see that when we explicitly compare true humidity with the one that our model *predicts*."
   ]
  },
  {
   "cell_type": "code",
   "execution_count": 27,
   "metadata": {},
   "outputs": [
    {
     "data": {
      "text/plain": [
       "[(20.467215, 19.843847467323656),\n",
       " (11.759345, 20.768984075027454),\n",
       " (20.45511, 18.086374854606117),\n",
       " (21.893688, 22.41534145869465),\n",
       " (8.62908, 10.052839541670705),\n",
       " (13.399155, 9.807403175878358),\n",
       " (9.57982, 9.026562159766183),\n",
       " (25.593264, 26.943128060819557),\n",
       " (15.052731, 13.797008563869138),\n",
       " (18.269175, 26.227160468188448),\n",
       " (21.453953, 19.05655305039198),\n",
       " (24.381725, 22.412831131811632),\n",
       " (19.097748, 28.349013304821256),\n",
       " (17.498976, 24.8591308737222),\n",
       " (12.114513, 10.170436868726863),\n",
       " (23.116415, 30.21926877388465),\n",
       " (11.039659, 11.12909543639891),\n",
       " (12.926331, 13.34951819873351),\n",
       " (13.672737, 11.233274754233777),\n",
       " (24.669544, 26.722786147589755)]"
      ]
     },
     "execution_count": 27,
     "metadata": {},
     "output_type": "execute_result"
    }
   ],
   "source": [
    "list(zip(list(test_results[0]), test_true[0]))"
   ]
  },
  {
   "cell_type": "markdown",
   "metadata": {},
   "source": [
    "\n",
    "The parameters $A_1, A_2$ and $C$ have eventually converged to:"
   ]
  },
  {
   "cell_type": "code",
   "execution_count": 28,
   "metadata": {},
   "outputs": [
    {
     "data": {
      "text/plain": [
       "([1.9875296, -0.5153014], 19.082794)"
      ]
     },
     "execution_count": 28,
     "metadata": {},
     "output_type": "execute_result"
    }
   ],
   "source": [
    "list(a[0]), c"
   ]
  },
  {
   "cell_type": "markdown",
   "metadata": {},
   "source": [
    "That concludes the first part of this exercise. You learned to construct and execute computational graphs with Tensorflow and apply one of the most fundamental techniques, namely gradient descent to solve an analytical problem. "
   ]
  },
  {
   "cell_type": "markdown",
   "metadata": {},
   "source": [
    "---\n",
    "\n",
    "# Part II: Feature Engineering\n",
    "\n",
    "So, are we happy? To a large degree we could indeed be. We have found convincing evidence that those\n",
    "mysterious parameters indeed have some influence on the humidity, so tuning them appropriately may help overcome the afforementioned problems. Yet, we began to suspect that something else is wrong. To provide some more evidence, let's have a look at the distribution of the errors over a larger data set.\n"
   ]
  },
  {
   "cell_type": "markdown",
   "metadata": {},
   "source": [
    "In the following context, we'll be working with the parameters $A_1, A_2, B$ that we've found previously and thus make them constants. For $10000$ measurements we record how far we have predicted from the measured humidity."
   ]
  },
  {
   "cell_type": "code",
   "execution_count": 29,
   "metadata": {},
   "outputs": [],
   "source": [
    "data = measure(10000)\n",
    "true_humidity = [list(data['humidity'])]\n",
    "beta_input = [list(data['beta1']), list(data['beta2'])]\n",
    "\n",
    "A = tf.constant([2, -.5], shape=(1,2), dtype=tf.float32)\n",
    "C = tf.constant(18.5, shape=(), dtype=tf.float32)\n",
    "h = tf.matmul(A, beta) + C\n",
    "error = (h-lbls)\n",
    "with tf.Session() as session:\n",
    "    errors1 = session.run(\n",
    "        error, feed_dict={beta: beta_input, lbls: true_humidity})"
   ]
  },
  {
   "cell_type": "code",
   "execution_count": 30,
   "metadata": {},
   "outputs": [
    {
     "data": {
      "image/png": "[encoded data removed]",
      "text/plain": [
       "<Figure size 432x288 with 1 Axes>"
      ]
     },
     "metadata": {
      "needs_background": "light"
     },
     "output_type": "display_data"
    }
   ],
   "source": [
    "pd.DataFrame(errors1[0]).hist(bins=30);"
   ]
  },
  {
   "cell_type": "markdown",
   "metadata": {},
   "source": [
    "What a surprise! Error distributions of that kind indicate that the linear model is overlooking something. It appears ok for the majority of measurements (the big peak around 0), but a small subset of measurements is apparently influenced by still unknown forces. \n",
    "\n",
    "Now, how to approach that problem? At the moment, we're only considering $\\beta_1$ and $\\beta_2$ as influence factors. Maybe there are other factors. Maybe on certain days or at certain times of the day the humidity is influenced by other events?\n"
   ]
  },
  {
   "cell_type": "code",
   "execution_count": 31,
   "metadata": {},
   "outputs": [],
   "source": [
    "import seaborn as sns\n",
    "sns.set()\n",
    "data = measure(2000)"
   ]
  },
  {
   "cell_type": "markdown",
   "metadata": {},
   "source": [
    "```seaborn``` introduces a convenience layer on top of matplotlib using pandas under the hood. It's extremely helpful for quick explorations."
   ]
  },
  {
   "cell_type": "code",
   "execution_count": 32,
   "metadata": {},
   "outputs": [
    {
     "data": {
      "image/png": "[encoded data removed]",
      "text/plain": [
       "<Figure size 360x360 with 1 Axes>"
      ]
     },
     "metadata": {},
     "output_type": "display_data"
    }
   ],
   "source": [
    "sns.catplot(x='weekday', y='humidity', kind='bar', data=data);"
   ]
  },
  {
   "cell_type": "markdown",
   "metadata": {},
   "source": [
    "Look at the average humidity for each day of the week. Still hard to say. Thursdays and Sundays appear particularly low. But do we have sufficient statistics to conclude? Let's have a look at the hours of the day:"
   ]
  },
  {
   "cell_type": "code",
   "execution_count": 33,
   "metadata": {},
   "outputs": [
    {
     "data": {
      "image/png": "[encoded data removed]",
      "text/plain": [
       "<Figure size 360x360 with 1 Axes>"
      ]
     },
     "metadata": {},
     "output_type": "display_data"
    }
   ],
   "source": [
    "sns.catplot(x='hour', y='humidity', kind='bar', data=data);"
   ]
  },
  {
   "cell_type": "markdown",
   "metadata": {},
   "source": [
    "The error bars are not big enough to dismiss the differences as statistical noise. So we're getting closer. But still it's not easy to tell what's really going on. \n",
    "\n",
    "*(Hint: Don't be shy to look at the statistics of 50'000 data points)*"
   ]
  },
  {
   "cell_type": "markdown",
   "metadata": {},
   "source": [
    "Well, here we are. It's obvious that we need to take weekdays and hours of day into account. But that's not so trivial. While $\\beta_1$ and $\\beta_2$ were suspected to influence the humidity somewhat linearly, that is certainly not true for hour and weekday. Data engineering has the answer: *one-hot* encoding. That's almost always a successful strategy, if it is somehow a *yes-or-no* or a *one-in-N* aspect that governs the problem."
   ]
  },
  {
   "cell_type": "markdown",
   "metadata": {},
   "source": [
    "---\n",
    "# The full solution\n",
    "#### One-Hot encoding weekdays and hours "
   ]
  },
  {
   "cell_type": "markdown",
   "metadata": {},
   "source": [
    "We use a neat combination of Python tricks to one-hot encode a number: The $n$-th column (or row) vector of the identity matrix (```np.eye``` in the numpy world), is the one-hot encoding for $n$:"
   ]
  },
  {
   "cell_type": "code",
   "execution_count": 34,
   "metadata": {},
   "outputs": [
    {
     "data": {
      "text/plain": [
       "array([[1., 0., 0., 0., 0., 0., 0.],\n",
       "       [0., 1., 0., 0., 0., 0., 0.],\n",
       "       [0., 0., 1., 0., 0., 0., 0.],\n",
       "       [0., 0., 0., 1., 0., 0., 0.],\n",
       "       [0., 0., 0., 0., 1., 0., 0.],\n",
       "       [0., 0., 0., 0., 0., 1., 0.],\n",
       "       [0., 0., 0., 0., 0., 0., 1.]])"
      ]
     },
     "execution_count": 34,
     "metadata": {},
     "output_type": "execute_result"
    }
   ],
   "source": [
    "ID = np.eye(7)\n",
    "ID"
   ]
  },
  {
   "cell_type": "code",
   "execution_count": 35,
   "metadata": {},
   "outputs": [
    {
     "name": "stdout",
     "output_type": "stream",
     "text": [
      "0 -> [1. 0. 0. 0. 0. 0. 0.]\n",
      "3 -> [0. 0. 0. 1. 0. 0. 0.]\n",
      "6 -> [0. 0. 0. 0. 0. 0. 1.]\n"
     ]
    }
   ],
   "source": [
    "for n in [0, 3, 6]:\n",
    "    print(\"%s -> %s\" % (n, ID[n]))"
   ]
  },
  {
   "cell_type": "markdown",
   "metadata": {},
   "source": [
    "You see the $1$s at the position given by the index. So, Monday would be represented by the first vector, Thu by the second and Sun by the third.\n",
    "\n",
    "Here comes the even cooler trick: We can use an array of indices rather than single indices one by one:"
   ]
  },
  {
   "cell_type": "code",
   "execution_count": 36,
   "metadata": {},
   "outputs": [
    {
     "data": {
      "text/plain": [
       "array([[1., 0., 0., 0., 0., 0., 0.],\n",
       "       [0., 0., 0., 1., 0., 0., 0.],\n",
       "       [0., 0., 0., 0., 0., 0., 1.]])"
      ]
     },
     "execution_count": 36,
     "metadata": {},
     "output_type": "execute_result"
    }
   ],
   "source": [
    "indices = [0,3,6]\n",
    "ID[indices]"
   ]
  },
  {
   "cell_type": "markdown",
   "metadata": {},
   "source": [
    "See: All three days one-hot-encoded in a single go"
   ]
  },
  {
   "cell_type": "markdown",
   "metadata": {},
   "source": [
    "#### Feature Crossing\n",
    "Now to be truly indicative of the very hour within a week, we will introduce the hour-of-the-week features, which we get by the outer product of one-hot encoded week days and hours of the day. Let's look at Thu 12:00.\n",
    "\n",
    "Note that we expand the dimensions to include an extra empty dimension. That's required for python ```*``` operator to understand that we want the outer product."
   ]
  },
  {
   "cell_type": "code",
   "execution_count": 37,
   "metadata": {},
   "outputs": [
    {
     "data": {
      "text/plain": [
       "array([[0.],\n",
       "       [0.],\n",
       "       [0.],\n",
       "       [1.],\n",
       "       [0.],\n",
       "       [0.],\n",
       "       [0.]])"
      ]
     },
     "execution_count": 37,
     "metadata": {},
     "output_type": "execute_result"
    }
   ],
   "source": [
    "thu = np.expand_dims(np.eye(7)[3], -1)\n",
    "thu"
   ]
  },
  {
   "cell_type": "code",
   "execution_count": 38,
   "metadata": {},
   "outputs": [
    {
     "data": {
      "text/plain": [
       "array([[0., 0., 0., 0., 0., 0., 0., 0., 0., 0., 0., 0., 1., 0., 0., 0.,\n",
       "        0., 0., 0., 0., 0., 0., 0., 0.]])"
      ]
     },
     "execution_count": 38,
     "metadata": {},
     "output_type": "execute_result"
    }
   ],
   "source": [
    "at12 = np.expand_dims(np.eye(24)[12], -1)\n",
    "at12.T"
   ]
  },
  {
   "cell_type": "code",
   "execution_count": 39,
   "metadata": {},
   "outputs": [
    {
     "data": {
      "text/plain": [
       "array([[0., 0., 0., 0., 0., 0., 0., 0., 0., 0., 0., 0., 0., 0., 0., 0.,\n",
       "        0., 0., 0., 0., 0., 0., 0., 0.],\n",
       "       [0., 0., 0., 0., 0., 0., 0., 0., 0., 0., 0., 0., 0., 0., 0., 0.,\n",
       "        0., 0., 0., 0., 0., 0., 0., 0.],\n",
       "       [0., 0., 0., 0., 0., 0., 0., 0., 0., 0., 0., 0., 0., 0., 0., 0.,\n",
       "        0., 0., 0., 0., 0., 0., 0., 0.],\n",
       "       [0., 0., 0., 0., 0., 0., 0., 0., 0., 0., 0., 0., 1., 0., 0., 0.,\n",
       "        0., 0., 0., 0., 0., 0., 0., 0.],\n",
       "       [0., 0., 0., 0., 0., 0., 0., 0., 0., 0., 0., 0., 0., 0., 0., 0.,\n",
       "        0., 0., 0., 0., 0., 0., 0., 0.],\n",
       "       [0., 0., 0., 0., 0., 0., 0., 0., 0., 0., 0., 0., 0., 0., 0., 0.,\n",
       "        0., 0., 0., 0., 0., 0., 0., 0.],\n",
       "       [0., 0., 0., 0., 0., 0., 0., 0., 0., 0., 0., 0., 0., 0., 0., 0.,\n",
       "        0., 0., 0., 0., 0., 0., 0., 0.]])"
      ]
     },
     "execution_count": 39,
     "metadata": {},
     "output_type": "execute_result"
    }
   ],
   "source": [
    "thu * at12.T"
   ]
  },
  {
   "cell_type": "markdown",
   "metadata": {},
   "source": [
    "You can see that there's only one number set: That's exactly Thursdays at 12:00. Now let's do that for a larger dataset using a flat representation: a vector of 168 weekly hours"
   ]
  },
  {
   "cell_type": "code",
   "execution_count": 40,
   "metadata": {},
   "outputs": [
    {
     "data": {
      "text/plain": [
       "array([0., 0., 0., 0., 0., 0., 0., 0., 0., 0., 0., 0., 0., 0., 0., 0., 0.,\n",
       "       0., 0., 0., 0., 0., 0., 0., 0., 0., 0., 0., 0., 0., 0., 0., 0., 0.,\n",
       "       0., 0., 0., 0., 0., 0., 0., 0., 0., 0., 0., 0., 0., 0., 0., 0., 0.,\n",
       "       0., 0., 0., 0., 0., 0., 0., 0., 0., 0., 0., 0., 0., 0., 0., 0., 0.,\n",
       "       0., 0., 0., 0., 0., 0., 0., 0., 0., 0., 0., 0., 0., 0., 0., 0., 0.,\n",
       "       0., 0., 0., 0., 0., 0., 0., 0., 0., 0., 0., 0., 0., 0., 0., 0., 0.,\n",
       "       0., 0., 0., 0., 0., 0., 0., 0., 0., 0., 0., 0., 0., 0., 0., 0., 0.,\n",
       "       0., 0., 0., 0., 0., 0., 0., 0., 0., 0., 0., 0., 0., 0., 0., 0., 0.,\n",
       "       0., 0., 1., 0., 0., 0., 0., 0., 0., 0., 0., 0., 0., 0., 0., 0., 0.,\n",
       "       0., 0., 0., 0., 0., 0., 0., 0., 0., 0., 0., 0., 0., 0., 0.])"
      ]
     },
     "execution_count": 40,
     "metadata": {},
     "output_type": "execute_result"
    }
   ],
   "source": [
    "n_train = 10\n",
    "data = measure(n_train)\n",
    "true_humidity = [data['humidity']]\n",
    "\n",
    "weekday = np.array(data['weekday'])\n",
    "hour = np.array(data['hour'])\n",
    "\n",
    "hour_of_week = weekday*24+hour\n",
    "\n",
    "# hour-of-week one-hot encoded\n",
    "howoh = np.eye(7*24)[hour_of_week]\n",
    "\n",
    "howoh[0]"
   ]
  },
  {
   "cell_type": "code",
   "execution_count": 41,
   "metadata": {},
   "outputs": [
    {
     "data": {
      "text/plain": [
       "[0    28.269846\n",
       " 1    21.980044\n",
       " 2    17.734114\n",
       " 3    15.253020\n",
       " 4    23.520104\n",
       " 5    18.816634\n",
       " 6    25.387625\n",
       " 7    22.437577\n",
       " 8    23.955003\n",
       " 9    13.605414\n",
       " Name: humidity, dtype: float64]"
      ]
     },
     "execution_count": 41,
     "metadata": {},
     "output_type": "execute_result"
    }
   ],
   "source": [
    "true_humidity"
   ]
  },
  {
   "cell_type": "code",
   "execution_count": 42,
   "metadata": {},
   "outputs": [
    {
     "data": {
      "text/plain": [
       "(1, 10)"
      ]
     },
     "execution_count": 42,
     "metadata": {},
     "output_type": "execute_result"
    }
   ],
   "source": [
    "np.shape(true_humidity)"
   ]
  },
  {
   "cell_type": "code",
   "execution_count": 43,
   "metadata": {},
   "outputs": [
    {
     "data": {
      "text/plain": [
       "((1, 10), (168, 10))"
      ]
     },
     "execution_count": 43,
     "metadata": {},
     "output_type": "execute_result"
    }
   ],
   "source": [
    "np.array([data['beta1']]).shape, howoh.T.shape"
   ]
  },
  {
   "cell_type": "markdown",
   "metadata": {},
   "source": [
    "Now stack 'em all together to arrive at the full one-hot feature-crossed input samples"
   ]
  },
  {
   "cell_type": "code",
   "execution_count": 44,
   "metadata": {},
   "outputs": [
    {
     "data": {
      "text/plain": [
       "(170, 10)"
      ]
     },
     "execution_count": 44,
     "metadata": {},
     "output_type": "execute_result"
    }
   ],
   "source": [
    "all_input = np.vstack([[data['beta1']], [data['beta2']], howoh.T])\n",
    "all_input.shape"
   ]
  },
  {
   "cell_type": "markdown",
   "metadata": {},
   "source": [
    "#### A complete input sample - pretty sparse"
   ]
  },
  {
   "cell_type": "code",
   "execution_count": 45,
   "metadata": {},
   "outputs": [
    {
     "data": {
      "text/plain": [
       "array([ 3.90142015, -1.87104164,  0.        ,  0.        ,  0.        ,\n",
       "        0.        ,  0.        ,  0.        ,  0.        ,  0.        ,\n",
       "        0.        ,  0.        ,  0.        ,  0.        ,  0.        ,\n",
       "        0.        ,  0.        ,  0.        ,  0.        ,  0.        ,\n",
       "        0.        ,  0.        ,  0.        ,  0.        ,  0.        ,\n",
       "        0.        ,  0.        ,  0.        ,  0.        ,  0.        ,\n",
       "        0.        ,  0.        ,  0.        ,  0.        ,  0.        ,\n",
       "        0.        ,  0.        ,  0.        ,  0.        ,  0.        ,\n",
       "        0.        ,  0.        ,  0.        ,  0.        ,  0.        ,\n",
       "        0.        ,  0.        ,  0.        ,  0.        ,  0.        ,\n",
       "        0.        ,  0.        ,  0.        ,  0.        ,  0.        ,\n",
       "        0.        ,  0.        ,  0.        ,  0.        ,  0.        ,\n",
       "        0.        ,  0.        ,  0.        ,  0.        ,  0.        ,\n",
       "        0.        ,  0.        ,  0.        ,  0.        ,  0.        ,\n",
       "        0.        ,  0.        ,  0.        ,  0.        ,  0.        ,\n",
       "        0.        ,  0.        ,  0.        ,  0.        ,  0.        ,\n",
       "        0.        ,  0.        ,  0.        ,  0.        ,  0.        ,\n",
       "        0.        ,  0.        ,  0.        ,  0.        ,  0.        ,\n",
       "        0.        ,  0.        ,  0.        ,  0.        ,  0.        ,\n",
       "        0.        ,  0.        ,  0.        ,  0.        ,  0.        ,\n",
       "        0.        ,  0.        ,  0.        ,  0.        ,  0.        ,\n",
       "        0.        ,  0.        ,  0.        ,  0.        ,  0.        ,\n",
       "        0.        ,  0.        ,  0.        ,  0.        ,  0.        ,\n",
       "        0.        ,  0.        ,  0.        ,  0.        ,  0.        ,\n",
       "        0.        ,  0.        ,  0.        ,  0.        ,  0.        ,\n",
       "        0.        ,  0.        ,  0.        ,  0.        ,  0.        ,\n",
       "        0.        ,  0.        ,  0.        ,  0.        ,  0.        ,\n",
       "        0.        ,  0.        ,  0.        ,  0.        ,  0.        ,\n",
       "        1.        ,  0.        ,  0.        ,  0.        ,  0.        ,\n",
       "        0.        ,  0.        ,  0.        ,  0.        ,  0.        ,\n",
       "        0.        ,  0.        ,  0.        ,  0.        ,  0.        ,\n",
       "        0.        ,  0.        ,  0.        ,  0.        ,  0.        ,\n",
       "        0.        ,  0.        ,  0.        ,  0.        ,  0.        ,\n",
       "        0.        ,  0.        ,  0.        ,  0.        ,  0.        ])"
      ]
     },
     "execution_count": 45,
     "metadata": {},
     "output_type": "execute_result"
    }
   ],
   "source": [
    "all_input.T[0]"
   ]
  },
  {
   "cell_type": "markdown",
   "metadata": {},
   "source": [
    "#### Putting it all together"
   ]
  },
  {
   "cell_type": "code",
   "execution_count": 46,
   "metadata": {},
   "outputs": [],
   "source": [
    "def create_data(N):\n",
    "    data = measure(N)\n",
    "    true_humidity = [data['humidity']]\n",
    "\n",
    "    weekday = np.array(data['weekday'])\n",
    "    hour = np.array(data['hour'])\n",
    "\n",
    "    hour_of_week = weekday*24+hour\n",
    "\n",
    "    # hour-of-week one-hot encoded\n",
    "    howoh = np.eye(7*24)[hour_of_week]\n",
    "\n",
    "    all_input = np.vstack([[data['beta1']], [data['beta2']], howoh.T])    \n",
    "    \n",
    "    return all_input, true_humidity"
   ]
  },
  {
   "cell_type": "code",
   "execution_count": 47,
   "metadata": {},
   "outputs": [
    {
     "data": {
      "text/plain": [
       "(array([[-3.13095687, -2.32995175,  0.        ,  0.        ,  0.        ,\n",
       "          0.        ,  0.        ,  0.        ,  0.        ,  0.        ,\n",
       "          0.        ,  0.        ,  0.        ,  0.        ,  0.        ,\n",
       "          0.        ,  0.        ,  0.        ,  0.        ,  0.        ,\n",
       "          0.        ,  0.        ,  0.        ,  0.        ,  0.        ,\n",
       "          0.        ,  0.        ,  0.        ,  0.        ,  0.        ,\n",
       "          0.        ,  0.        ,  0.        ,  0.        ,  0.        ,\n",
       "          0.        ,  0.        ,  0.        ,  0.        ,  0.        ,\n",
       "          0.        ,  0.        ,  0.        ,  0.        ,  0.        ,\n",
       "          0.        ,  0.        ,  0.        ,  0.        ,  0.        ,\n",
       "          0.        ,  0.        ,  0.        ,  0.        ,  0.        ,\n",
       "          0.        ,  0.        ,  0.        ,  0.        ,  0.        ,\n",
       "          0.        ,  0.        ,  0.        ,  0.        ,  0.        ,\n",
       "          0.        ,  0.        ,  0.        ,  0.        ,  1.        ,\n",
       "          0.        ,  0.        ,  0.        ,  0.        ,  0.        ,\n",
       "          0.        ,  0.        ,  0.        ,  0.        ,  0.        ,\n",
       "          0.        ,  0.        ,  0.        ,  0.        ,  0.        ,\n",
       "          0.        ,  0.        ,  0.        ,  0.        ,  0.        ,\n",
       "          0.        ,  0.        ,  0.        ,  0.        ,  0.        ,\n",
       "          0.        ,  0.        ,  0.        ,  0.        ,  0.        ,\n",
       "          0.        ,  0.        ,  0.        ,  0.        ,  0.        ,\n",
       "          0.        ,  0.        ,  0.        ,  0.        ,  0.        ,\n",
       "          0.        ,  0.        ,  0.        ,  0.        ,  0.        ,\n",
       "          0.        ,  0.        ,  0.        ,  0.        ,  0.        ,\n",
       "          0.        ,  0.        ,  0.        ,  0.        ,  0.        ,\n",
       "          0.        ,  0.        ,  0.        ,  0.        ,  0.        ,\n",
       "          0.        ,  0.        ,  0.        ,  0.        ,  0.        ,\n",
       "          0.        ,  0.        ,  0.        ,  0.        ,  0.        ,\n",
       "          0.        ,  0.        ,  0.        ,  0.        ,  0.        ,\n",
       "          0.        ,  0.        ,  0.        ,  0.        ,  0.        ,\n",
       "          0.        ,  0.        ,  0.        ,  0.        ,  0.        ,\n",
       "          0.        ,  0.        ,  0.        ,  0.        ,  0.        ,\n",
       "          0.        ,  0.        ,  0.        ,  0.        ,  0.        ,\n",
       "          0.        ,  0.        ,  0.        ,  0.        ,  0.        ]]),\n",
       " [0    21.927566\n",
       "  Name: humidity, dtype: float64])"
      ]
     },
     "execution_count": 47,
     "metadata": {},
     "output_type": "execute_result"
    }
   ],
   "source": [
    "# just checking:\n",
    "inp, outp = create_data(1)\n",
    "inp.T, outp"
   ]
  },
  {
   "cell_type": "code",
   "execution_count": 48,
   "metadata": {},
   "outputs": [],
   "source": [
    "all_input, true_humidity = create_data(10000)\n",
    "test_input, test_true = create_data(100)"
   ]
  },
  {
   "cell_type": "code",
   "execution_count": 49,
   "metadata": {},
   "outputs": [
    {
     "data": {
      "text/plain": [
       "<tf.Variable 'coefficients_A_1:0' shape=(1, 170) dtype=float32_ref>"
      ]
     },
     "execution_count": 49,
     "metadata": {},
     "output_type": "execute_result"
    }
   ],
   "source": [
    "#    Your turn\n",
    "#\n",
    "# A 1x170 tensor (matrix) for the coefficients A_i\n",
    "# Start with uniformly distributed random values 0 < r < 1\n",
    "A = tf.Variable(np.random.uniform(size = [1, 170]), \n",
    "                name=\"coefficients_A\", dtype=tf.float32) \n",
    "A"
   ]
  },
  {
   "cell_type": "code",
   "execution_count": 50,
   "metadata": {},
   "outputs": [
    {
     "data": {
      "text/plain": [
       "<tf.Variable 'bias_C_1:0' shape=() dtype=float32_ref>"
      ]
     },
     "execution_count": 50,
     "metadata": {},
     "output_type": "execute_result"
    }
   ],
   "source": [
    "#    Nothing new here\n",
    "#\n",
    "# A scalar tensor for the *bias* C\n",
    "C = tf.Variable(3., name=\"bias_C\", dtype=tf.float32)\n",
    "C"
   ]
  },
  {
   "cell_type": "code",
   "execution_count": 51,
   "metadata": {},
   "outputs": [
    {
     "data": {
      "text/plain": [
       "<tf.Tensor 'all_input:0' shape=(170, ?) dtype=float32>"
      ]
     },
     "execution_count": 51,
     "metadata": {},
     "output_type": "execute_result"
    }
   ],
   "source": [
    "#\n",
    "#  Placeholders shape=(9, None) for input data, (1, None) for labels\n",
    "#\n",
    "input_placeholder = tf.placeholder(\n",
    "    shape=(170,None), name=\"all_input\", dtype=tf.float32) \n",
    "labels_placeholder = tf.placeholder(\n",
    "    shape=(1,None), name=\"true_humidity\", dtype=tf.float32)  \n",
    "input_placeholder"
   ]
  },
  {
   "cell_type": "code",
   "execution_count": 52,
   "metadata": {},
   "outputs": [
    {
     "data": {
      "text/plain": [
       "<tf.Tensor 'add_2:0' shape=(1, ?) dtype=float32>"
      ]
     },
     "execution_count": 52,
     "metadata": {},
     "output_type": "execute_result"
    }
   ],
   "source": [
    "#    Thanks to the vector notation, the hypothesis function doesn't \n",
    "#    change\n",
    "#\n",
    "h = tf.matmul(A, input_placeholder) + C\n",
    "h"
   ]
  },
  {
   "cell_type": "code",
   "execution_count": 53,
   "metadata": {},
   "outputs": [
    {
     "data": {
      "text/plain": [
       "<tf.Tensor 'mean_squared_error_1/value:0' shape=() dtype=float32>"
      ]
     },
     "execution_count": 53,
     "metadata": {},
     "output_type": "execute_result"
    }
   ],
   "source": [
    "#\n",
    "#   Mean squared error: Nothing changes here\n",
    "#\n",
    "msq_error = tf.losses.mean_squared_error(h,labels_placeholder)\n",
    "msq_error"
   ]
  },
  {
   "cell_type": "code",
   "execution_count": 54,
   "metadata": {},
   "outputs": [
    {
     "data": {
      "text/plain": [
       "<tf.Tensor 'AssignAdd_2:0' shape=(1, 170) dtype=float32_ref>"
      ]
     },
     "execution_count": 54,
     "metadata": {},
     "output_type": "execute_result"
    }
   ],
   "source": [
    "#\n",
    "#   gradients and updating: Nothing changes here\n",
    "#\n",
    "epsilon=1e-1\n",
    "grad_A = tf.gradients(msq_error, A)\n",
    "grad_C = tf.gradients(msq_error, C)\n",
    "Tune_A = tf.assign_add( A, tf.multiply(grad_A[0], -epsilon))\n",
    "Tune_C = tf.assign_add( C, tf.multiply(grad_C[0], -epsilon))\n",
    "Tune_A"
   ]
  },
  {
   "cell_type": "markdown",
   "metadata": {},
   "source": [
    "### Full training\n",
    "This code cell will take a while. It will run the entire training set 5000 times, reporting the current loss every after 250 epochs. That means that you'll see it report 20 different losses - decreasing steadily."
   ]
  },
  {
   "cell_type": "code",
   "execution_count": 55,
   "metadata": {},
   "outputs": [
    {
     "name": "stdout",
     "output_type": "stream",
     "text": [
      "280.56094\n",
      "5.523085\n",
      "3.940568\n",
      "3.0750852\n",
      "2.598493\n",
      "2.3342798\n",
      "2.1868455\n",
      "2.104053\n",
      "2.0572782\n",
      "2.030698\n",
      "2.0155113\n",
      "2.0067883\n",
      "2.0017536\n",
      "1.9988344\n",
      "1.9971337\n",
      "1.9961402\n",
      "1.9955568\n",
      "1.995213\n",
      "1.9950101\n",
      "1.9948899\n"
     ]
    }
   ],
   "source": [
    "errors = []\n",
    "with tf.Session() as session:\n",
    "    session.run(tf.global_variables_initializer())\n",
    "    for count in range(5000):\n",
    "        \n",
    "        # compute the current error/distance\n",
    "        error = session.run(msq_error, feed_dict={\n",
    "            input_placeholder: all_input, \n",
    "            labels_placeholder: true_humidity \n",
    "        })\n",
    "        if count % 250 == 0:\n",
    "            print(error)\n",
    "        \n",
    "        # tune and tweak the parameters a little\n",
    "        session.run([Tune_A, Tune_C], feed_dict={\n",
    "            input_placeholder: all_input, \n",
    "            labels_placeholder: true_humidity \n",
    "        })\n",
    "\n",
    "    # Storing test results and parameters\n",
    "    test_results, a, c = session.run([h, A, C], feed_dict={\n",
    "        input_placeholder: test_input})\n",
    "        "
   ]
  },
  {
   "cell_type": "markdown",
   "metadata": {},
   "source": [
    "The parameter vector A without the $\\beta$s has values $a_i > 1$ at those hours where there's something wrong with the humidity. You may want to compare the positions with the evidence that you can get from looking at ```measurements.py```. \n",
    "\n",
    "Quintessence: Machine learning allowed us to detect an otherwise hidden pattern: Here it could've been that our machine suffers from the peak hours of the dry cleaner's shop in the first floor. Something typically unexpected."
   ]
  },
  {
   "cell_type": "code",
   "execution_count": 56,
   "metadata": {},
   "outputs": [
    {
     "data": {
      "text/plain": [
       "array([-1.75302908e-01, -4.26282644e-01, -1.78176746e-01, -4.22825903e-01,\n",
       "       -1.91730455e-01, -1.04565956e-01, -3.21831584e-01, -8.96394327e-02,\n",
       "       -1.77833587e-01, -2.74669737e-01, -4.16929811e-01, -2.28571936e-01,\n",
       "       -2.11460680e-01, -1.95972264e-01, -2.68589944e-01, -6.56221330e-01,\n",
       "       -4.87084478e-01, -2.10978255e-01,  7.80231237e+00,  7.50700378e+00,\n",
       "        7.77310610e+00,  7.45582867e+00, -4.58934993e-01, -2.64592260e-01,\n",
       "       -3.83154035e-01, -6.63764358e-01, -3.83053452e-01, -1.19235463e-01,\n",
       "       -1.99675620e-01, -2.71016479e-01, -2.60888804e-02, -4.26095545e-01,\n",
       "       -1.59648538e-01, -4.05057669e-01, -3.99721742e-01, -2.07652107e-01,\n",
       "       -7.60285109e-02, -2.45074809e-01, -2.30639771e-01, -3.07917923e-01,\n",
       "       -4.15447831e-01, -4.05537605e-01,  7.80891228e+00,  7.79755926e+00,\n",
       "        7.90920019e+00,  7.66469002e+00, -8.73618126e-02, -2.18786672e-01,\n",
       "       -6.08955562e-01, -8.36880058e-02, -2.69324929e-01, -1.05757296e-01,\n",
       "       -2.50050902e-01, -5.66944063e-01,  1.40917942e-01, -7.73820058e-02,\n",
       "       -1.87320322e-01, -3.66631486e-02, -1.77047681e-02, -2.73197979e-01,\n",
       "       -3.78927350e-01, -2.03364551e-01, -3.37751389e-01,  4.17002477e-02,\n",
       "       -3.61618966e-01, -4.51703310e-01,  7.98504400e+00,  7.85192966e+00,\n",
       "        7.86317205e+00,  7.21887827e+00, -2.36521121e-02, -2.72314221e-01,\n",
       "       -3.35909009e-01, -5.73490739e-01, -5.32568097e-01, -4.68333811e-01,\n",
       "       -3.51114959e-01, -3.74477535e-01, -2.55910277e-01,  2.91157644e-02,\n",
       "       -4.21003532e-03, -2.71332920e-01, -2.80282438e-01, -2.78659731e-01,\n",
       "       -4.28367794e-01, -1.34362429e-01, -2.66117245e-01, -4.94880170e-01,\n",
       "        4.18686010e-02, -4.53440428e-01, -5.86041808e-01, -4.52299684e-01,\n",
       "       -2.35507354e-01, -6.06502116e-01, -4.41409260e-01,  2.08228994e-02,\n",
       "       -2.98597723e-01, -5.18492341e-01, -6.01850033e-01, -1.55837610e-01,\n",
       "        7.02777281e-02, -9.88312885e-02, -3.44752073e-01, -5.40397644e-01,\n",
       "       -4.80111212e-01, -2.82025874e-01, -2.94102609e-01, -4.94379103e-01,\n",
       "       -1.19226806e-01, -2.52124637e-01,  8.06078720e+00,  7.73071003e+00,\n",
       "        7.95498657e+00, -1.34054556e-01, -2.85313100e-01, -4.22800481e-01,\n",
       "       -4.22956198e-01, -1.77810356e-01, -6.41591907e-01, -2.49655589e-01,\n",
       "       -2.11913623e-02, -6.55792296e-01, -3.32332432e-01, -4.77416247e-01,\n",
       "       -4.05627310e-01, -3.13952595e-01, -3.96594137e-01, -2.45529503e-01,\n",
       "       -1.85850020e-02, -3.23071718e-01, -3.86726499e-01, -4.82145190e-01,\n",
       "       -1.25835557e-02, -3.28877330e-01,  7.99332047e+00,  8.03182793e+00,\n",
       "        7.84997082e+00, -2.01820701e-01, -4.62924451e-01, -3.82133871e-01,\n",
       "       -1.42584801e-01, -1.34378560e-02, -3.92792284e-01, -3.70073974e-01,\n",
       "        2.46136170e-02, -1.79004550e-01, -4.60912943e-01, -6.51479900e-01,\n",
       "       -2.21369416e-01, -3.78020644e-01, -1.90802127e-01, -1.67000722e-02,\n",
       "       -2.22910956e-01, -4.90331084e-01, -1.44746691e-01, -1.95813358e-01,\n",
       "       -4.58009452e-01, -2.89024293e-01, -4.49289918e-01, -9.90840122e-02,\n",
       "        4.35091704e-02, -1.28239289e-01, -1.23644941e-01, -9.90813822e-02,\n",
       "        1.52504519e-01, -1.05234660e-01, -4.05516028e-01, -2.00803742e-01],\n",
       "      dtype=float32)"
      ]
     },
     "execution_count": 56,
     "metadata": {},
     "output_type": "execute_result"
    }
   ],
   "source": [
    "a[0][2:]"
   ]
  },
  {
   "cell_type": "markdown",
   "metadata": {},
   "source": [
    "---\n",
    "Observe that there are hardly any large errors anymore"
   ]
  },
  {
   "cell_type": "code",
   "execution_count": 57,
   "metadata": {},
   "outputs": [
    {
     "data": {
      "text/plain": [
       "[(17.996853, 18.43711648028375),\n",
       " (19.407814, 18.415234933181914),\n",
       " (29.392675, 31.748881129260283),\n",
       " (27.437958, 25.986194706311835),\n",
       " (17.586256, 14.825392235043871),\n",
       " (27.003983, 25.377508453615558),\n",
       " (13.79144, 13.673172691535255),\n",
       " (22.338894, 22.265630891991563),\n",
       " (14.210359, 14.112937122535005),\n",
       " (24.152489, 26.194956810000846),\n",
       " (8.728538, 8.167258845547739),\n",
       " (13.344393, 12.616404875890842),\n",
       " (23.806852, 23.546030929035975),\n",
       " (8.818285, 4.2652793868876495),\n",
       " (12.951513, 11.757368196325354),\n",
       " (14.907963, 15.159795898551494),\n",
       " (36.7603, 35.812801489832566),\n",
       " (26.373926, 25.83890808671502),\n",
       " (14.960114, 16.827702143365983),\n",
       " (24.677618, 24.782932344905213)]"
      ]
     },
     "execution_count": 57,
     "metadata": {},
     "output_type": "execute_result"
    }
   ],
   "source": [
    "zip(test_results[0], list(test_true[0]))[:20]"
   ]
  },
  {
   "cell_type": "code",
   "execution_count": 58,
   "metadata": {},
   "outputs": [],
   "source": [
    "all_input, true_humidity  = create_data(10000)\n",
    "\n",
    "A = tf.constant(a, shape=(1,170), dtype=tf.float32)\n",
    "C = tf.constant(c, shape=(), dtype=tf.float32)\n",
    "h = tf.matmul(A, input_placeholder) + C\n",
    "error = (h-labels_placeholder)\n",
    "with tf.Session() as session:\n",
    "    errors = session.run(\n",
    "        error, feed_dict={input_placeholder: all_input, labels_placeholder: true_humidity})"
   ]
  },
  {
   "cell_type": "code",
   "execution_count": 59,
   "metadata": {},
   "outputs": [
    {
     "data": {
      "image/png": "[encoded data removed]",
      "text/plain": [
       "<Figure size 432x288 with 1 Axes>"
      ]
     },
     "metadata": {},
     "output_type": "display_data"
    }
   ],
   "source": [
    "pd.DataFrame(errors[0]).hist(bins=30);"
   ]
  },
  {
   "cell_type": "markdown",
   "metadata": {},
   "source": [
    "This is a truly satisfactory error pattern: Only statistically explainable errors!"
   ]
  },
  {
   "cell_type": "code",
   "execution_count": 60,
   "metadata": {},
   "outputs": [
    {
     "data": {
      "image/png": "[encoded data removed]",
      "text/plain": [
       "<Figure size 432x288 with 1 Axes>"
      ]
     },
     "metadata": {},
     "output_type": "display_data"
    }
   ],
   "source": [
    "pd.DataFrame(errors1[0]).hist(bins=30);"
   ]
  },
  {
   "cell_type": "markdown",
   "metadata": {},
   "source": [
    "Remember: That's what we came from, originally!"
   ]
  },
  {
   "cell_type": "code",
   "execution_count": null,
   "metadata": {},
   "outputs": [],
   "source": []
  }
 ],
 "metadata": {
  "kernelspec": {
   "display_name": "Python 2",
   "language": "python",
   "name": "python2"
  },
  "language_info": {
   "codemirror_mode": {
    "name": "ipython",
    "version": 2
   },
   "file_extension": ".py",
   "mimetype": "text/x-python",
   "name": "python",
   "nbconvert_exporter": "python",
   "pygments_lexer": "ipython2",
   "version": "2.7.13"
  }
 },
 "nbformat": 4,
 "nbformat_minor": 2
}
